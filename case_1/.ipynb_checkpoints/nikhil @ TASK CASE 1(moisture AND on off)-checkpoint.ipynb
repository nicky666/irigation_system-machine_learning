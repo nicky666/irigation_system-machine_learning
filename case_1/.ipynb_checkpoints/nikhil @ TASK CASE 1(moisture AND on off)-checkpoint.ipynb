{
 "cells": [
  {
   "cell_type": "markdown",
   "metadata": {},
   "source": [
    "# Irrigation cloud Systems:\n",
    " ### moisture levels and pump on and off predictions\n",
    "\n",
    " \n",
    " \n"
   ]
  },
  {
   "cell_type": "code",
   "execution_count": 2,
   "metadata": {},
   "outputs": [
    {
     "data": {
      "text/html": [
       "<img src=\"15641286_l.jpg\"/>"
      ],
      "text/plain": [
       "<IPython.core.display.Image object>"
      ]
     },
     "execution_count": 2,
     "metadata": {},
     "output_type": "execute_result"
    }
   ],
   "source": [
    "from IPython.display import Image\n",
    "Image(url= '15641286_l.jpg')"
   ]
  },
  {
   "cell_type": "markdown",
   "metadata": {},
   "source": [
    "# MOISTURE LEVELS VS ON-OFF"
   ]
  },
  {
   "cell_type": "markdown",
   "metadata": {},
   "source": [
    "# IMPORTING MODULES \n",
    "### modules are imported using alias names inoreder to reduce complexity while reusing it\n",
    "-here we import pandas as pd and we us pd when we need to use the module in our work "
   ]
  },
  {
   "cell_type": "code",
   "execution_count": 11,
   "metadata": {},
   "outputs": [],
   "source": [
    "import pandas as pd\n",
    "import numpy as np\n",
    "import matplotlib.pyplot as plt"
   ]
  },
  {
   "cell_type": "code",
   "execution_count": null,
   "metadata": {},
   "outputs": [],
   "source": []
  },
  {
   "cell_type": "markdown",
   "metadata": {},
   "source": [
    "# Reading CSV file\n",
    "### create data frame from the values of csv file\n",
    "- CSV=comma seperated values\n",
    "- iloc this is used in order to find the column based on index\n",
    "- reshape is used inorder to convert data according to our algorithm input\n",
    "- reshape(-1,1) will display the values in array format with single column"
   ]
  },
  {
   "cell_type": "code",
   "execution_count": 12,
   "metadata": {
    "scrolled": true
   },
   "outputs": [
    {
     "ename": "SyntaxError",
     "evalue": "invalid syntax (<ipython-input-12-c8a92ed9a69a>, line 3)",
     "output_type": "error",
     "traceback": [
      "\u001b[1;36m  File \u001b[1;32m\"<ipython-input-12-c8a92ed9a69a>\"\u001b[1;36m, line \u001b[1;32m3\u001b[0m\n\u001b[1;33m    - CSV=comma seperated values\u001b[0m\n\u001b[1;37m                        ^\u001b[0m\n\u001b[1;31mSyntaxError\u001b[0m\u001b[1;31m:\u001b[0m invalid syntax\n"
     ]
    }
   ],
   "source": [
    "df=pd.read_csv(\"Agri.csv\")# Reading CSV file\n",
    "### create data frame from the values of csv file\n",
    "- CSV=comma seperated values\n",
    "- iloc this is used in order to find the column based on index\n",
    "- reshape is used inorder to convert data according to our algorithm input\n",
    "- reshape(-1,1) will display the values in array format with single column\n",
    "df.head(2)\n",
    "df=df[df.temperature.notnull()] \n",
    "X=df.iloc[:,4].values\n",
    "y=df.iloc[:,6].values\n",
    "X=X.reshape(-1,1)\n",
    "X"
   ]
  },
  {
   "cell_type": "markdown",
   "metadata": {},
   "source": [
    "## Splitting the data\n",
    "- we need to split the data into train and test data inorder to train our algorithm and size \n",
    "- inorder to perform linear regression specified modules to be imported"
   ]
  },
  {
   "cell_type": "code",
   "execution_count": 13,
   "metadata": {},
   "outputs": [
    {
     "data": {
      "text/plain": [
       "LinearRegression(copy_X=True, fit_intercept=True, n_jobs=1, normalize=False)"
      ]
     },
     "execution_count": 13,
     "metadata": {},
     "output_type": "execute_result"
    }
   ],
   "source": [
    "\n",
    "from sklearn.cross_validation import train_test_split\n",
    "X_train,X_test,y_train,y_test=train_test_split(X,y,test_size=0.2,random_state=0)\n",
    "from sklearn.linear_model import LinearRegression\n",
    "regressor = LinearRegression()\n",
    "regressor.fit(X_train, y_train)"
   ]
  },
  {
   "cell_type": "code",
   "execution_count": 14,
   "metadata": {},
   "outputs": [],
   "source": [
    "y_pred = regressor.predict(X_test)"
   ]
  },
  {
   "cell_type": "markdown",
   "metadata": {},
   "source": [
    "# visualization \n",
    "- Graph is drawn against moisture levels and state of the pump\n",
    "- pump state in either 1(on) or 0(off)"
   ]
  },
  {
   "cell_type": "code",
   "execution_count": 17,
   "metadata": {},
   "outputs": [
    {
     "data": {
      "image/png": "[encoded data removed]",
      "text/plain": [
       "<matplotlib.figure.Figure at 0xbb63fb0>"
      ]
     },
     "metadata": {},
     "output_type": "display_data"
    }
   ],
   "source": [
    "plt.scatter(X_train,y_train, color='red')\n",
    "plt.plot(X_test,regressor.predict(X_test),color=\"blue\")\n",
    "plt.title('Moisture vs on off (Training set)')\n",
    "plt.xlabel(\"Moisture\")\n",
    "plt.ylabel(\"on off\")\n",
    "plt.show()"
   ]
  },
  {
   "cell_type": "markdown",
   "metadata": {},
   "source": [
    "# Temp & Moisture(removal of null)"
   ]
  },
  {
   "cell_type": "markdown",
   "metadata": {},
   "source": [
    "# IMPORTING MODULES \n",
    "### modules are imported using alias names inoreder to reduce complexity while reusing it\n",
    "- here we import pandas as pd and we us pd when we need to use the module in our work "
   ]
  },
  {
   "cell_type": "code",
   "execution_count": 16,
   "metadata": {},
   "outputs": [
    {
     "data": {
      "text/html": [
       "<div>\n",
       "<style scoped>\n",
       "    .dataframe tbody tr th:only-of-type {\n",
       "        vertical-align: middle;\n",
       "    }\n",
       "\n",
       "    .dataframe tbody tr th {\n",
       "        vertical-align: top;\n",
       "    }\n",
       "\n",
       "    .dataframe thead th {\n",
       "        text-align: right;\n",
       "    }\n",
       "</style>\n",
       "<table border=\"1\" class=\"dataframe\">\n",
       "  <thead>\n",
       "    <tr style=\"text-align: right;\">\n",
       "      <th></th>\n",
       "      <th>created_at</th>\n",
       "      <th>entry_id</th>\n",
       "      <th>temperature</th>\n",
       "      <th>humidity</th>\n",
       "      <th>moisture_level</th>\n",
       "      <th>Unnamed: 5</th>\n",
       "      <th>pump action ON/OFF</th>\n",
       "    </tr>\n",
       "  </thead>\n",
       "  <tbody>\n",
       "    <tr>\n",
       "      <th>0</th>\n",
       "      <td>2018-04-05 14:28:41 UTC</td>\n",
       "      <td>2675.0</td>\n",
       "      <td>29.0</td>\n",
       "      <td>38.0</td>\n",
       "      <td>70.0</td>\n",
       "      <td>NaN</td>\n",
       "      <td>1.0</td>\n",
       "    </tr>\n",
       "    <tr>\n",
       "      <th>1</th>\n",
       "      <td>2018-04-05 14:29:17 UTC</td>\n",
       "      <td>2676.0</td>\n",
       "      <td>29.0</td>\n",
       "      <td>38.0</td>\n",
       "      <td>70.0</td>\n",
       "      <td>NaN</td>\n",
       "      <td>1.0</td>\n",
       "    </tr>\n",
       "  </tbody>\n",
       "</table>\n",
       "</div>"
      ],
      "text/plain": [
       "                created_at  entry_id  temperature  humidity  moisture_level  \\\n",
       "0  2018-04-05 14:28:41 UTC    2675.0         29.0      38.0            70.0   \n",
       "1  2018-04-05 14:29:17 UTC    2676.0         29.0      38.0            70.0   \n",
       "\n",
       "   Unnamed: 5  pump action ON/OFF  \n",
       "0         NaN                 1.0  \n",
       "1         NaN                 1.0  "
      ]
     },
     "execution_count": 16,
     "metadata": {},
     "output_type": "execute_result"
    }
   ],
   "source": [
    "df=pd.read_csv(\"Agri.csv\")\n",
    "df.head(2)"
   ]
  },
  {
   "cell_type": "markdown",
   "metadata": {},
   "source": [
    "# REMOVING NULL VALUES \n",
    "- as this data consist of only one null value row i elimimated the specific row to continue my operations"
   ]
  },
  {
   "cell_type": "code",
   "execution_count": 15,
   "metadata": {},
   "outputs": [
    {
     "data": {
      "text/html": [
       "<div>\n",
       "<style scoped>\n",
       "    .dataframe tbody tr th:only-of-type {\n",
       "        vertical-align: middle;\n",
       "    }\n",
       "\n",
       "    .dataframe tbody tr th {\n",
       "        vertical-align: top;\n",
       "    }\n",
       "\n",
       "    .dataframe thead th {\n",
       "        text-align: right;\n",
       "    }\n",
       "</style>\n",
       "<table border=\"1\" class=\"dataframe\">\n",
       "  <thead>\n",
       "    <tr style=\"text-align: right;\">\n",
       "      <th></th>\n",
       "      <th>created_at</th>\n",
       "      <th>entry_id</th>\n",
       "      <th>temperature</th>\n",
       "      <th>humidity</th>\n",
       "      <th>moisture_level</th>\n",
       "      <th>Unnamed: 5</th>\n",
       "      <th>pump action ON/OFF</th>\n",
       "    </tr>\n",
       "  </thead>\n",
       "  <tbody>\n",
       "    <tr>\n",
       "      <th>0</th>\n",
       "      <td>2018-04-05 14:28:41 UTC</td>\n",
       "      <td>2675.0</td>\n",
       "      <td>29.0</td>\n",
       "      <td>38.0</td>\n",
       "      <td>70.0</td>\n",
       "      <td>NaN</td>\n",
       "      <td>1.0</td>\n",
       "    </tr>\n",
       "    <tr>\n",
       "      <th>1</th>\n",
       "      <td>2018-04-05 14:29:17 UTC</td>\n",
       "      <td>2676.0</td>\n",
       "      <td>29.0</td>\n",
       "      <td>38.0</td>\n",
       "      <td>70.0</td>\n",
       "      <td>NaN</td>\n",
       "      <td>1.0</td>\n",
       "    </tr>\n",
       "    <tr>\n",
       "      <th>2</th>\n",
       "      <td>2018-04-05 14:29:52 UTC</td>\n",
       "      <td>2677.0</td>\n",
       "      <td>29.0</td>\n",
       "      <td>38.0</td>\n",
       "      <td>70.0</td>\n",
       "      <td>NaN</td>\n",
       "      <td>1.0</td>\n",
       "    </tr>\n",
       "    <tr>\n",
       "      <th>3</th>\n",
       "      <td>2018-04-05 14:30:25 UTC</td>\n",
       "      <td>2678.0</td>\n",
       "      <td>29.0</td>\n",
       "      <td>38.0</td>\n",
       "      <td>70.0</td>\n",
       "      <td>NaN</td>\n",
       "      <td>1.0</td>\n",
       "    </tr>\n",
       "    <tr>\n",
       "      <th>4</th>\n",
       "      <td>2018-04-05 14:31:00 UTC</td>\n",
       "      <td>2679.0</td>\n",
       "      <td>29.0</td>\n",
       "      <td>38.0</td>\n",
       "      <td>70.0</td>\n",
       "      <td>NaN</td>\n",
       "      <td>1.0</td>\n",
       "    </tr>\n",
       "    <tr>\n",
       "      <th>5</th>\n",
       "      <td>2018-04-05 14:31:35 UTC</td>\n",
       "      <td>2680.0</td>\n",
       "      <td>29.0</td>\n",
       "      <td>38.0</td>\n",
       "      <td>70.0</td>\n",
       "      <td>NaN</td>\n",
       "      <td>1.0</td>\n",
       "    </tr>\n",
       "    <tr>\n",
       "      <th>6</th>\n",
       "      <td>2018-04-05 14:32:10 UTC</td>\n",
       "      <td>2681.0</td>\n",
       "      <td>29.0</td>\n",
       "      <td>38.0</td>\n",
       "      <td>70.0</td>\n",
       "      <td>NaN</td>\n",
       "      <td>1.0</td>\n",
       "    </tr>\n",
       "    <tr>\n",
       "      <th>7</th>\n",
       "      <td>2018-04-05 14:32:45 UTC</td>\n",
       "      <td>2682.0</td>\n",
       "      <td>29.0</td>\n",
       "      <td>38.0</td>\n",
       "      <td>70.0</td>\n",
       "      <td>NaN</td>\n",
       "      <td>1.0</td>\n",
       "    </tr>\n",
       "    <tr>\n",
       "      <th>8</th>\n",
       "      <td>2018-04-05 14:33:20 UTC</td>\n",
       "      <td>2683.0</td>\n",
       "      <td>29.0</td>\n",
       "      <td>38.0</td>\n",
       "      <td>70.0</td>\n",
       "      <td>NaN</td>\n",
       "      <td>1.0</td>\n",
       "    </tr>\n",
       "    <tr>\n",
       "      <th>9</th>\n",
       "      <td>2018-04-05 14:33:55 UTC</td>\n",
       "      <td>2684.0</td>\n",
       "      <td>29.0</td>\n",
       "      <td>38.0</td>\n",
       "      <td>70.0</td>\n",
       "      <td>NaN</td>\n",
       "      <td>1.0</td>\n",
       "    </tr>\n",
       "    <tr>\n",
       "      <th>10</th>\n",
       "      <td>2018-04-05 14:34:31 UTC</td>\n",
       "      <td>2685.0</td>\n",
       "      <td>29.0</td>\n",
       "      <td>38.0</td>\n",
       "      <td>70.0</td>\n",
       "      <td>NaN</td>\n",
       "      <td>1.0</td>\n",
       "    </tr>\n",
       "    <tr>\n",
       "      <th>11</th>\n",
       "      <td>2018-04-05 14:35:07 UTC</td>\n",
       "      <td>2686.0</td>\n",
       "      <td>29.0</td>\n",
       "      <td>38.0</td>\n",
       "      <td>70.0</td>\n",
       "      <td>NaN</td>\n",
       "      <td>1.0</td>\n",
       "    </tr>\n",
       "    <tr>\n",
       "      <th>12</th>\n",
       "      <td>2018-04-05 14:35:42 UTC</td>\n",
       "      <td>2687.0</td>\n",
       "      <td>29.0</td>\n",
       "      <td>38.0</td>\n",
       "      <td>70.0</td>\n",
       "      <td>NaN</td>\n",
       "      <td>1.0</td>\n",
       "    </tr>\n",
       "    <tr>\n",
       "      <th>13</th>\n",
       "      <td>2018-04-05 14:36:18 UTC</td>\n",
       "      <td>2688.0</td>\n",
       "      <td>29.0</td>\n",
       "      <td>39.0</td>\n",
       "      <td>70.0</td>\n",
       "      <td>NaN</td>\n",
       "      <td>1.0</td>\n",
       "    </tr>\n",
       "    <tr>\n",
       "      <th>14</th>\n",
       "      <td>2018-04-05 14:36:52 UTC</td>\n",
       "      <td>2689.0</td>\n",
       "      <td>29.0</td>\n",
       "      <td>39.0</td>\n",
       "      <td>70.0</td>\n",
       "      <td>NaN</td>\n",
       "      <td>1.0</td>\n",
       "    </tr>\n",
       "    <tr>\n",
       "      <th>15</th>\n",
       "      <td>2018-04-05 14:37:28 UTC</td>\n",
       "      <td>2690.0</td>\n",
       "      <td>29.0</td>\n",
       "      <td>39.0</td>\n",
       "      <td>70.0</td>\n",
       "      <td>NaN</td>\n",
       "      <td>1.0</td>\n",
       "    </tr>\n",
       "    <tr>\n",
       "      <th>16</th>\n",
       "      <td>2018-04-05 14:38:04 UTC</td>\n",
       "      <td>2691.0</td>\n",
       "      <td>29.0</td>\n",
       "      <td>39.0</td>\n",
       "      <td>70.0</td>\n",
       "      <td>NaN</td>\n",
       "      <td>1.0</td>\n",
       "    </tr>\n",
       "    <tr>\n",
       "      <th>17</th>\n",
       "      <td>2018-04-05 14:38:39 UTC</td>\n",
       "      <td>2692.0</td>\n",
       "      <td>29.0</td>\n",
       "      <td>39.0</td>\n",
       "      <td>70.0</td>\n",
       "      <td>NaN</td>\n",
       "      <td>1.0</td>\n",
       "    </tr>\n",
       "    <tr>\n",
       "      <th>18</th>\n",
       "      <td>2018-04-05 14:39:15 UTC</td>\n",
       "      <td>2693.0</td>\n",
       "      <td>29.0</td>\n",
       "      <td>39.0</td>\n",
       "      <td>70.0</td>\n",
       "      <td>NaN</td>\n",
       "      <td>1.0</td>\n",
       "    </tr>\n",
       "    <tr>\n",
       "      <th>19</th>\n",
       "      <td>2018-04-05 14:39:50 UTC</td>\n",
       "      <td>2694.0</td>\n",
       "      <td>29.0</td>\n",
       "      <td>39.0</td>\n",
       "      <td>70.0</td>\n",
       "      <td>NaN</td>\n",
       "      <td>1.0</td>\n",
       "    </tr>\n",
       "    <tr>\n",
       "      <th>20</th>\n",
       "      <td>2018-04-05 14:40:26 UTC</td>\n",
       "      <td>2695.0</td>\n",
       "      <td>30.0</td>\n",
       "      <td>39.0</td>\n",
       "      <td>70.0</td>\n",
       "      <td>NaN</td>\n",
       "      <td>1.0</td>\n",
       "    </tr>\n",
       "    <tr>\n",
       "      <th>21</th>\n",
       "      <td>2018-04-05 14:41:00 UTC</td>\n",
       "      <td>2696.0</td>\n",
       "      <td>30.0</td>\n",
       "      <td>39.0</td>\n",
       "      <td>70.0</td>\n",
       "      <td>NaN</td>\n",
       "      <td>1.0</td>\n",
       "    </tr>\n",
       "    <tr>\n",
       "      <th>22</th>\n",
       "      <td>2018-04-05 14:41:36 UTC</td>\n",
       "      <td>2697.0</td>\n",
       "      <td>30.0</td>\n",
       "      <td>39.0</td>\n",
       "      <td>70.0</td>\n",
       "      <td>NaN</td>\n",
       "      <td>1.0</td>\n",
       "    </tr>\n",
       "    <tr>\n",
       "      <th>23</th>\n",
       "      <td>2018-04-05 14:42:14 UTC</td>\n",
       "      <td>2698.0</td>\n",
       "      <td>30.0</td>\n",
       "      <td>39.0</td>\n",
       "      <td>70.0</td>\n",
       "      <td>NaN</td>\n",
       "      <td>1.0</td>\n",
       "    </tr>\n",
       "    <tr>\n",
       "      <th>24</th>\n",
       "      <td>2018-04-05 14:42:49 UTC</td>\n",
       "      <td>2699.0</td>\n",
       "      <td>30.0</td>\n",
       "      <td>39.0</td>\n",
       "      <td>70.0</td>\n",
       "      <td>NaN</td>\n",
       "      <td>1.0</td>\n",
       "    </tr>\n",
       "    <tr>\n",
       "      <th>25</th>\n",
       "      <td>2018-04-05 14:43:25 UTC</td>\n",
       "      <td>2700.0</td>\n",
       "      <td>30.0</td>\n",
       "      <td>39.0</td>\n",
       "      <td>70.0</td>\n",
       "      <td>NaN</td>\n",
       "      <td>1.0</td>\n",
       "    </tr>\n",
       "    <tr>\n",
       "      <th>26</th>\n",
       "      <td>2018-04-05 14:44:01 UTC</td>\n",
       "      <td>2701.0</td>\n",
       "      <td>30.0</td>\n",
       "      <td>39.0</td>\n",
       "      <td>83.0</td>\n",
       "      <td>NaN</td>\n",
       "      <td>0.0</td>\n",
       "    </tr>\n",
       "    <tr>\n",
       "      <th>27</th>\n",
       "      <td>2018-04-05 14:44:37 UTC</td>\n",
       "      <td>2702.0</td>\n",
       "      <td>30.0</td>\n",
       "      <td>39.0</td>\n",
       "      <td>83.0</td>\n",
       "      <td>NaN</td>\n",
       "      <td>0.0</td>\n",
       "    </tr>\n",
       "    <tr>\n",
       "      <th>28</th>\n",
       "      <td>2018-04-05 14:45:13 UTC</td>\n",
       "      <td>2703.0</td>\n",
       "      <td>30.0</td>\n",
       "      <td>39.0</td>\n",
       "      <td>83.0</td>\n",
       "      <td>NaN</td>\n",
       "      <td>0.0</td>\n",
       "    </tr>\n",
       "    <tr>\n",
       "      <th>29</th>\n",
       "      <td>2018-04-05 14:45:48 UTC</td>\n",
       "      <td>2704.0</td>\n",
       "      <td>30.0</td>\n",
       "      <td>39.0</td>\n",
       "      <td>83.0</td>\n",
       "      <td>NaN</td>\n",
       "      <td>0.0</td>\n",
       "    </tr>\n",
       "    <tr>\n",
       "      <th>...</th>\n",
       "      <td>...</td>\n",
       "      <td>...</td>\n",
       "      <td>...</td>\n",
       "      <td>...</td>\n",
       "      <td>...</td>\n",
       "      <td>...</td>\n",
       "      <td>...</td>\n",
       "    </tr>\n",
       "    <tr>\n",
       "      <th>1428</th>\n",
       "      <td>2018-04-05 16:00:04 UTC</td>\n",
       "      <td>4103.0</td>\n",
       "      <td>31.0</td>\n",
       "      <td>40.0</td>\n",
       "      <td>76.0</td>\n",
       "      <td>NaN</td>\n",
       "      <td>0.0</td>\n",
       "    </tr>\n",
       "    <tr>\n",
       "      <th>1429</th>\n",
       "      <td>2018-04-05 16:00:04 UTC</td>\n",
       "      <td>4104.0</td>\n",
       "      <td>31.0</td>\n",
       "      <td>40.0</td>\n",
       "      <td>76.0</td>\n",
       "      <td>NaN</td>\n",
       "      <td>0.0</td>\n",
       "    </tr>\n",
       "    <tr>\n",
       "      <th>1430</th>\n",
       "      <td>2018-04-05 16:00:04 UTC</td>\n",
       "      <td>4105.0</td>\n",
       "      <td>31.0</td>\n",
       "      <td>40.0</td>\n",
       "      <td>76.0</td>\n",
       "      <td>NaN</td>\n",
       "      <td>0.0</td>\n",
       "    </tr>\n",
       "    <tr>\n",
       "      <th>1431</th>\n",
       "      <td>2018-04-05 16:00:04 UTC</td>\n",
       "      <td>4106.0</td>\n",
       "      <td>31.0</td>\n",
       "      <td>40.0</td>\n",
       "      <td>76.0</td>\n",
       "      <td>NaN</td>\n",
       "      <td>0.0</td>\n",
       "    </tr>\n",
       "    <tr>\n",
       "      <th>1432</th>\n",
       "      <td>2018-04-05 16:00:04 UTC</td>\n",
       "      <td>4107.0</td>\n",
       "      <td>31.0</td>\n",
       "      <td>40.0</td>\n",
       "      <td>76.0</td>\n",
       "      <td>NaN</td>\n",
       "      <td>0.0</td>\n",
       "    </tr>\n",
       "    <tr>\n",
       "      <th>1433</th>\n",
       "      <td>2018-04-05 16:00:04 UTC</td>\n",
       "      <td>4108.0</td>\n",
       "      <td>31.0</td>\n",
       "      <td>40.0</td>\n",
       "      <td>76.0</td>\n",
       "      <td>NaN</td>\n",
       "      <td>0.0</td>\n",
       "    </tr>\n",
       "    <tr>\n",
       "      <th>1434</th>\n",
       "      <td>2018-04-05 16:00:04 UTC</td>\n",
       "      <td>4109.0</td>\n",
       "      <td>31.0</td>\n",
       "      <td>40.0</td>\n",
       "      <td>76.0</td>\n",
       "      <td>NaN</td>\n",
       "      <td>0.0</td>\n",
       "    </tr>\n",
       "    <tr>\n",
       "      <th>1435</th>\n",
       "      <td>2018-04-05 16:00:04 UTC</td>\n",
       "      <td>4110.0</td>\n",
       "      <td>31.0</td>\n",
       "      <td>40.0</td>\n",
       "      <td>76.0</td>\n",
       "      <td>NaN</td>\n",
       "      <td>0.0</td>\n",
       "    </tr>\n",
       "    <tr>\n",
       "      <th>1436</th>\n",
       "      <td>2018-04-05 16:00:04 UTC</td>\n",
       "      <td>4111.0</td>\n",
       "      <td>31.0</td>\n",
       "      <td>40.0</td>\n",
       "      <td>76.0</td>\n",
       "      <td>NaN</td>\n",
       "      <td>0.0</td>\n",
       "    </tr>\n",
       "    <tr>\n",
       "      <th>1437</th>\n",
       "      <td>2018-04-05 16:00:04 UTC</td>\n",
       "      <td>4112.0</td>\n",
       "      <td>31.0</td>\n",
       "      <td>40.0</td>\n",
       "      <td>76.0</td>\n",
       "      <td>NaN</td>\n",
       "      <td>0.0</td>\n",
       "    </tr>\n",
       "    <tr>\n",
       "      <th>1438</th>\n",
       "      <td>2018-04-05 16:00:04 UTC</td>\n",
       "      <td>4113.0</td>\n",
       "      <td>31.0</td>\n",
       "      <td>40.0</td>\n",
       "      <td>76.0</td>\n",
       "      <td>NaN</td>\n",
       "      <td>0.0</td>\n",
       "    </tr>\n",
       "    <tr>\n",
       "      <th>1439</th>\n",
       "      <td>2018-04-05 16:00:04 UTC</td>\n",
       "      <td>4114.0</td>\n",
       "      <td>31.0</td>\n",
       "      <td>40.0</td>\n",
       "      <td>76.0</td>\n",
       "      <td>NaN</td>\n",
       "      <td>0.0</td>\n",
       "    </tr>\n",
       "    <tr>\n",
       "      <th>1440</th>\n",
       "      <td>2018-04-05 16:00:04 UTC</td>\n",
       "      <td>4115.0</td>\n",
       "      <td>31.0</td>\n",
       "      <td>40.0</td>\n",
       "      <td>76.0</td>\n",
       "      <td>NaN</td>\n",
       "      <td>0.0</td>\n",
       "    </tr>\n",
       "    <tr>\n",
       "      <th>1441</th>\n",
       "      <td>2018-04-05 16:00:04 UTC</td>\n",
       "      <td>4116.0</td>\n",
       "      <td>31.0</td>\n",
       "      <td>40.0</td>\n",
       "      <td>76.0</td>\n",
       "      <td>NaN</td>\n",
       "      <td>0.0</td>\n",
       "    </tr>\n",
       "    <tr>\n",
       "      <th>1442</th>\n",
       "      <td>2018-04-05 16:00:04 UTC</td>\n",
       "      <td>4117.0</td>\n",
       "      <td>31.0</td>\n",
       "      <td>40.0</td>\n",
       "      <td>76.0</td>\n",
       "      <td>NaN</td>\n",
       "      <td>0.0</td>\n",
       "    </tr>\n",
       "    <tr>\n",
       "      <th>1443</th>\n",
       "      <td>2018-04-05 16:00:04 UTC</td>\n",
       "      <td>4118.0</td>\n",
       "      <td>31.0</td>\n",
       "      <td>40.0</td>\n",
       "      <td>76.0</td>\n",
       "      <td>NaN</td>\n",
       "      <td>0.0</td>\n",
       "    </tr>\n",
       "    <tr>\n",
       "      <th>1444</th>\n",
       "      <td>2018-04-05 16:00:04 UTC</td>\n",
       "      <td>4119.0</td>\n",
       "      <td>31.0</td>\n",
       "      <td>40.0</td>\n",
       "      <td>76.0</td>\n",
       "      <td>NaN</td>\n",
       "      <td>0.0</td>\n",
       "    </tr>\n",
       "    <tr>\n",
       "      <th>1445</th>\n",
       "      <td>2018-04-05 16:00:04 UTC</td>\n",
       "      <td>4120.0</td>\n",
       "      <td>31.0</td>\n",
       "      <td>40.0</td>\n",
       "      <td>76.0</td>\n",
       "      <td>NaN</td>\n",
       "      <td>0.0</td>\n",
       "    </tr>\n",
       "    <tr>\n",
       "      <th>1446</th>\n",
       "      <td>2018-04-05 16:00:04 UTC</td>\n",
       "      <td>4121.0</td>\n",
       "      <td>31.0</td>\n",
       "      <td>40.0</td>\n",
       "      <td>76.0</td>\n",
       "      <td>NaN</td>\n",
       "      <td>0.0</td>\n",
       "    </tr>\n",
       "    <tr>\n",
       "      <th>1447</th>\n",
       "      <td>2018-04-05 16:00:04 UTC</td>\n",
       "      <td>4122.0</td>\n",
       "      <td>31.0</td>\n",
       "      <td>40.0</td>\n",
       "      <td>76.0</td>\n",
       "      <td>NaN</td>\n",
       "      <td>0.0</td>\n",
       "    </tr>\n",
       "    <tr>\n",
       "      <th>1448</th>\n",
       "      <td>2018-04-05 16:00:04 UTC</td>\n",
       "      <td>4123.0</td>\n",
       "      <td>31.0</td>\n",
       "      <td>40.0</td>\n",
       "      <td>76.0</td>\n",
       "      <td>NaN</td>\n",
       "      <td>0.0</td>\n",
       "    </tr>\n",
       "    <tr>\n",
       "      <th>1449</th>\n",
       "      <td>2018-04-05 16:00:04 UTC</td>\n",
       "      <td>4124.0</td>\n",
       "      <td>31.0</td>\n",
       "      <td>40.0</td>\n",
       "      <td>76.0</td>\n",
       "      <td>NaN</td>\n",
       "      <td>0.0</td>\n",
       "    </tr>\n",
       "    <tr>\n",
       "      <th>1450</th>\n",
       "      <td>2018-04-05 16:00:04 UTC</td>\n",
       "      <td>4125.0</td>\n",
       "      <td>31.0</td>\n",
       "      <td>40.0</td>\n",
       "      <td>76.0</td>\n",
       "      <td>NaN</td>\n",
       "      <td>0.0</td>\n",
       "    </tr>\n",
       "    <tr>\n",
       "      <th>1451</th>\n",
       "      <td>2018-04-05 16:00:04 UTC</td>\n",
       "      <td>4126.0</td>\n",
       "      <td>31.0</td>\n",
       "      <td>40.0</td>\n",
       "      <td>76.0</td>\n",
       "      <td>NaN</td>\n",
       "      <td>0.0</td>\n",
       "    </tr>\n",
       "    <tr>\n",
       "      <th>1452</th>\n",
       "      <td>2018-04-05 16:00:04 UTC</td>\n",
       "      <td>4127.0</td>\n",
       "      <td>31.0</td>\n",
       "      <td>40.0</td>\n",
       "      <td>76.0</td>\n",
       "      <td>NaN</td>\n",
       "      <td>0.0</td>\n",
       "    </tr>\n",
       "    <tr>\n",
       "      <th>1453</th>\n",
       "      <td>2018-04-05 16:00:04 UTC</td>\n",
       "      <td>4128.0</td>\n",
       "      <td>31.0</td>\n",
       "      <td>40.0</td>\n",
       "      <td>76.0</td>\n",
       "      <td>NaN</td>\n",
       "      <td>0.0</td>\n",
       "    </tr>\n",
       "    <tr>\n",
       "      <th>1454</th>\n",
       "      <td>2018-04-05 16:00:04 UTC</td>\n",
       "      <td>4129.0</td>\n",
       "      <td>31.0</td>\n",
       "      <td>40.0</td>\n",
       "      <td>76.0</td>\n",
       "      <td>NaN</td>\n",
       "      <td>0.0</td>\n",
       "    </tr>\n",
       "    <tr>\n",
       "      <th>1455</th>\n",
       "      <td>2018-04-05 16:00:04 UTC</td>\n",
       "      <td>4130.0</td>\n",
       "      <td>31.0</td>\n",
       "      <td>40.0</td>\n",
       "      <td>76.0</td>\n",
       "      <td>NaN</td>\n",
       "      <td>0.0</td>\n",
       "    </tr>\n",
       "    <tr>\n",
       "      <th>1456</th>\n",
       "      <td>2018-04-05 16:00:04 UTC</td>\n",
       "      <td>4131.0</td>\n",
       "      <td>31.0</td>\n",
       "      <td>40.0</td>\n",
       "      <td>76.0</td>\n",
       "      <td>NaN</td>\n",
       "      <td>0.0</td>\n",
       "    </tr>\n",
       "    <tr>\n",
       "      <th>1457</th>\n",
       "      <td>2018-04-05 16:00:04 UTC</td>\n",
       "      <td>4132.0</td>\n",
       "      <td>31.0</td>\n",
       "      <td>40.0</td>\n",
       "      <td>76.0</td>\n",
       "      <td>NaN</td>\n",
       "      <td>0.0</td>\n",
       "    </tr>\n",
       "  </tbody>\n",
       "</table>\n",
       "<p>1458 rows × 7 columns</p>\n",
       "</div>"
      ],
      "text/plain": [
       "                   created_at  entry_id  temperature  humidity  \\\n",
       "0     2018-04-05 14:28:41 UTC    2675.0         29.0      38.0   \n",
       "1     2018-04-05 14:29:17 UTC    2676.0         29.0      38.0   \n",
       "2     2018-04-05 14:29:52 UTC    2677.0         29.0      38.0   \n",
       "3     2018-04-05 14:30:25 UTC    2678.0         29.0      38.0   \n",
       "4     2018-04-05 14:31:00 UTC    2679.0         29.0      38.0   \n",
       "5     2018-04-05 14:31:35 UTC    2680.0         29.0      38.0   \n",
       "6     2018-04-05 14:32:10 UTC    2681.0         29.0      38.0   \n",
       "7     2018-04-05 14:32:45 UTC    2682.0         29.0      38.0   \n",
       "8     2018-04-05 14:33:20 UTC    2683.0         29.0      38.0   \n",
       "9     2018-04-05 14:33:55 UTC    2684.0         29.0      38.0   \n",
       "10    2018-04-05 14:34:31 UTC    2685.0         29.0      38.0   \n",
       "11    2018-04-05 14:35:07 UTC    2686.0         29.0      38.0   \n",
       "12    2018-04-05 14:35:42 UTC    2687.0         29.0      38.0   \n",
       "13    2018-04-05 14:36:18 UTC    2688.0         29.0      39.0   \n",
       "14    2018-04-05 14:36:52 UTC    2689.0         29.0      39.0   \n",
       "15    2018-04-05 14:37:28 UTC    2690.0         29.0      39.0   \n",
       "16    2018-04-05 14:38:04 UTC    2691.0         29.0      39.0   \n",
       "17    2018-04-05 14:38:39 UTC    2692.0         29.0      39.0   \n",
       "18    2018-04-05 14:39:15 UTC    2693.0         29.0      39.0   \n",
       "19    2018-04-05 14:39:50 UTC    2694.0         29.0      39.0   \n",
       "20    2018-04-05 14:40:26 UTC    2695.0         30.0      39.0   \n",
       "21    2018-04-05 14:41:00 UTC    2696.0         30.0      39.0   \n",
       "22    2018-04-05 14:41:36 UTC    2697.0         30.0      39.0   \n",
       "23    2018-04-05 14:42:14 UTC    2698.0         30.0      39.0   \n",
       "24    2018-04-05 14:42:49 UTC    2699.0         30.0      39.0   \n",
       "25    2018-04-05 14:43:25 UTC    2700.0         30.0      39.0   \n",
       "26    2018-04-05 14:44:01 UTC    2701.0         30.0      39.0   \n",
       "27    2018-04-05 14:44:37 UTC    2702.0         30.0      39.0   \n",
       "28    2018-04-05 14:45:13 UTC    2703.0         30.0      39.0   \n",
       "29    2018-04-05 14:45:48 UTC    2704.0         30.0      39.0   \n",
       "...                       ...       ...          ...       ...   \n",
       "1428  2018-04-05 16:00:04 UTC    4103.0         31.0      40.0   \n",
       "1429  2018-04-05 16:00:04 UTC    4104.0         31.0      40.0   \n",
       "1430  2018-04-05 16:00:04 UTC    4105.0         31.0      40.0   \n",
       "1431  2018-04-05 16:00:04 UTC    4106.0         31.0      40.0   \n",
       "1432  2018-04-05 16:00:04 UTC    4107.0         31.0      40.0   \n",
       "1433  2018-04-05 16:00:04 UTC    4108.0         31.0      40.0   \n",
       "1434  2018-04-05 16:00:04 UTC    4109.0         31.0      40.0   \n",
       "1435  2018-04-05 16:00:04 UTC    4110.0         31.0      40.0   \n",
       "1436  2018-04-05 16:00:04 UTC    4111.0         31.0      40.0   \n",
       "1437  2018-04-05 16:00:04 UTC    4112.0         31.0      40.0   \n",
       "1438  2018-04-05 16:00:04 UTC    4113.0         31.0      40.0   \n",
       "1439  2018-04-05 16:00:04 UTC    4114.0         31.0      40.0   \n",
       "1440  2018-04-05 16:00:04 UTC    4115.0         31.0      40.0   \n",
       "1441  2018-04-05 16:00:04 UTC    4116.0         31.0      40.0   \n",
       "1442  2018-04-05 16:00:04 UTC    4117.0         31.0      40.0   \n",
       "1443  2018-04-05 16:00:04 UTC    4118.0         31.0      40.0   \n",
       "1444  2018-04-05 16:00:04 UTC    4119.0         31.0      40.0   \n",
       "1445  2018-04-05 16:00:04 UTC    4120.0         31.0      40.0   \n",
       "1446  2018-04-05 16:00:04 UTC    4121.0         31.0      40.0   \n",
       "1447  2018-04-05 16:00:04 UTC    4122.0         31.0      40.0   \n",
       "1448  2018-04-05 16:00:04 UTC    4123.0         31.0      40.0   \n",
       "1449  2018-04-05 16:00:04 UTC    4124.0         31.0      40.0   \n",
       "1450  2018-04-05 16:00:04 UTC    4125.0         31.0      40.0   \n",
       "1451  2018-04-05 16:00:04 UTC    4126.0         31.0      40.0   \n",
       "1452  2018-04-05 16:00:04 UTC    4127.0         31.0      40.0   \n",
       "1453  2018-04-05 16:00:04 UTC    4128.0         31.0      40.0   \n",
       "1454  2018-04-05 16:00:04 UTC    4129.0         31.0      40.0   \n",
       "1455  2018-04-05 16:00:04 UTC    4130.0         31.0      40.0   \n",
       "1456  2018-04-05 16:00:04 UTC    4131.0         31.0      40.0   \n",
       "1457  2018-04-05 16:00:04 UTC    4132.0         31.0      40.0   \n",
       "\n",
       "      moisture_level  Unnamed: 5  pump action ON/OFF  \n",
       "0               70.0         NaN                 1.0  \n",
       "1               70.0         NaN                 1.0  \n",
       "2               70.0         NaN                 1.0  \n",
       "3               70.0         NaN                 1.0  \n",
       "4               70.0         NaN                 1.0  \n",
       "5               70.0         NaN                 1.0  \n",
       "6               70.0         NaN                 1.0  \n",
       "7               70.0         NaN                 1.0  \n",
       "8               70.0         NaN                 1.0  \n",
       "9               70.0         NaN                 1.0  \n",
       "10              70.0         NaN                 1.0  \n",
       "11              70.0         NaN                 1.0  \n",
       "12              70.0         NaN                 1.0  \n",
       "13              70.0         NaN                 1.0  \n",
       "14              70.0         NaN                 1.0  \n",
       "15              70.0         NaN                 1.0  \n",
       "16              70.0         NaN                 1.0  \n",
       "17              70.0         NaN                 1.0  \n",
       "18              70.0         NaN                 1.0  \n",
       "19              70.0         NaN                 1.0  \n",
       "20              70.0         NaN                 1.0  \n",
       "21              70.0         NaN                 1.0  \n",
       "22              70.0         NaN                 1.0  \n",
       "23              70.0         NaN                 1.0  \n",
       "24              70.0         NaN                 1.0  \n",
       "25              70.0         NaN                 1.0  \n",
       "26              83.0         NaN                 0.0  \n",
       "27              83.0         NaN                 0.0  \n",
       "28              83.0         NaN                 0.0  \n",
       "29              83.0         NaN                 0.0  \n",
       "...              ...         ...                 ...  \n",
       "1428            76.0         NaN                 0.0  \n",
       "1429            76.0         NaN                 0.0  \n",
       "1430            76.0         NaN                 0.0  \n",
       "1431            76.0         NaN                 0.0  \n",
       "1432            76.0         NaN                 0.0  \n",
       "1433            76.0         NaN                 0.0  \n",
       "1434            76.0         NaN                 0.0  \n",
       "1435            76.0         NaN                 0.0  \n",
       "1436            76.0         NaN                 0.0  \n",
       "1437            76.0         NaN                 0.0  \n",
       "1438            76.0         NaN                 0.0  \n",
       "1439            76.0         NaN                 0.0  \n",
       "1440            76.0         NaN                 0.0  \n",
       "1441            76.0         NaN                 0.0  \n",
       "1442            76.0         NaN                 0.0  \n",
       "1443            76.0         NaN                 0.0  \n",
       "1444            76.0         NaN                 0.0  \n",
       "1445            76.0         NaN                 0.0  \n",
       "1446            76.0         NaN                 0.0  \n",
       "1447            76.0         NaN                 0.0  \n",
       "1448            76.0         NaN                 0.0  \n",
       "1449            76.0         NaN                 0.0  \n",
       "1450            76.0         NaN                 0.0  \n",
       "1451            76.0         NaN                 0.0  \n",
       "1452            76.0         NaN                 0.0  \n",
       "1453            76.0         NaN                 0.0  \n",
       "1454            76.0         NaN                 0.0  \n",
       "1455            76.0         NaN                 0.0  \n",
       "1456            76.0         NaN                 0.0  \n",
       "1457            76.0         NaN                 0.0  \n",
       "\n",
       "[1458 rows x 7 columns]"
      ]
     },
     "execution_count": 15,
     "metadata": {},
     "output_type": "execute_result"
    }
   ],
   "source": [
    "df=df[df.temperature.notnull()] \n",
    "df"
   ]
  },
  {
   "cell_type": "markdown",
   "metadata": {},
   "source": [
    "# selecting values and coverting them to our required shape\n",
    "- iloc this is used in order to find the column based on index\n",
    "- reshape is used inorder to convert data according to our algorithm input\n",
    "- reshape(-1,1) will display the values in array format with single column"
   ]
  },
  {
   "cell_type": "code",
   "execution_count": 16,
   "metadata": {},
   "outputs": [],
   "source": [
    "X=df.iloc[:,2].values\n",
    "y=df.iloc[:,4].values\n",
    "X=X.reshape(-1,1)\n"
   ]
  },
  {
   "cell_type": "markdown",
   "metadata": {},
   "source": [
    "# splitting the data\n",
    "- splitting the data and fiiting them into algorithm accorf=ding to algorithm input we wii provide the size of train data and test data in this 0.2 indicate 20% of data id used for testing"
   ]
  },
  {
   "cell_type": "code",
   "execution_count": 9,
   "metadata": {},
   "outputs": [
    {
     "data": {
      "text/plain": [
       "LinearRegression(copy_X=True, fit_intercept=True, n_jobs=1, normalize=False)"
      ]
     },
     "execution_count": 9,
     "metadata": {},
     "output_type": "execute_result"
    }
   ],
   "source": [
    "from sklearn.cross_validation import train_test_split\n",
    "X_train,X_test,y_train,y_test=train_test_split(X,y,test_size=0.2,random_state=0)\n",
    "\n",
    "from sklearn.linear_model import LinearRegression\n",
    "regressor = LinearRegression()\n",
    "regressor.fit(X_train, y_train)"
   ]
  },
  {
   "cell_type": "markdown",
   "metadata": {},
   "source": [
    "# predicting\n",
    "- this is used to predict the values where where regressor.predict will continously predict the values."
   ]
  },
  {
   "cell_type": "code",
   "execution_count": 10,
   "metadata": {},
   "outputs": [],
   "source": [
    "y_pred = regressor.predict(X_test)"
   ]
  },
  {
   "cell_type": "markdown",
   "metadata": {},
   "source": [
    "# visualization \n",
    "- Graph is drawn against temp and moisture levels\n"
   ]
  },
  {
   "cell_type": "code",
   "execution_count": 19,
   "metadata": {},
   "outputs": [
    {
     "data": {
      "image/png": "[encoded data removed]",
      "text/plain": [
       "<matplotlib.figure.Figure at 0x29c5c90>"
      ]
     },
     "metadata": {},
     "output_type": "display_data"
    }
   ],
   "source": [
    "\n",
    "plt.scatter(X_train,y_train, color='red')\n",
    "plt.plot(X_train,regressor.predict(X_train), color=\"blue\")\n",
    "plt.title('Temperature vs Moisture(Training set)')\n",
    "plt.xlabel(\"Temperature\")\n",
    "plt.ylabel(\"Moisture\")\n",
    "plt.show()"
   ]
  },
  {
   "cell_type": "code",
   "execution_count": 20,
   "metadata": {},
   "outputs": [
    {
     "data": {
      "image/png": "[encoded data removed]",
      "text/plain": [
       "<matplotlib.figure.Figure at 0x29fd3d0>"
      ]
     },
     "metadata": {},
     "output_type": "display_data"
    }
   ],
   "source": [
    "plt.scatter(X_test,y_test, color='red')\n",
    "plt.plot(X_train,regressor.predict(X_train), color=\"blue\")\n",
    "plt.title('Temperature vs Moisture(Training set)')\n",
    "plt.xlabel(\"Temperature\")\n",
    "plt.ylabel(\"Moisture\")\n",
    "plt.show()"
   ]
  },
  {
   "cell_type": "markdown",
   "metadata": {},
   "source": [
    "# Logistic regression(humidity moisture & on off)\n",
    "- this will give you the results of humidity and moisture and pump state on or off(on=1 and off=0)"
   ]
  },
  {
   "cell_type": "code",
   "execution_count": 21,
   "metadata": {},
   "outputs": [
    {
     "data": {
      "text/html": [
       "<div>\n",
       "<style scoped>\n",
       "    .dataframe tbody tr th:only-of-type {\n",
       "        vertical-align: middle;\n",
       "    }\n",
       "\n",
       "    .dataframe tbody tr th {\n",
       "        vertical-align: top;\n",
       "    }\n",
       "\n",
       "    .dataframe thead th {\n",
       "        text-align: right;\n",
       "    }\n",
       "</style>\n",
       "<table border=\"1\" class=\"dataframe\">\n",
       "  <thead>\n",
       "    <tr style=\"text-align: right;\">\n",
       "      <th></th>\n",
       "      <th>created_at</th>\n",
       "      <th>entry_id</th>\n",
       "      <th>temperature</th>\n",
       "      <th>humidity</th>\n",
       "      <th>moisture_level</th>\n",
       "      <th>Unnamed: 5</th>\n",
       "      <th>pump action ON/OFF</th>\n",
       "    </tr>\n",
       "  </thead>\n",
       "  <tbody>\n",
       "    <tr>\n",
       "      <th>0</th>\n",
       "      <td>2018-04-05 14:28:41 UTC</td>\n",
       "      <td>2675.0</td>\n",
       "      <td>29.0</td>\n",
       "      <td>38.0</td>\n",
       "      <td>70.0</td>\n",
       "      <td>NaN</td>\n",
       "      <td>1.0</td>\n",
       "    </tr>\n",
       "    <tr>\n",
       "      <th>1</th>\n",
       "      <td>2018-04-05 14:29:17 UTC</td>\n",
       "      <td>2676.0</td>\n",
       "      <td>29.0</td>\n",
       "      <td>38.0</td>\n",
       "      <td>70.0</td>\n",
       "      <td>NaN</td>\n",
       "      <td>1.0</td>\n",
       "    </tr>\n",
       "    <tr>\n",
       "      <th>2</th>\n",
       "      <td>2018-04-05 14:29:52 UTC</td>\n",
       "      <td>2677.0</td>\n",
       "      <td>29.0</td>\n",
       "      <td>38.0</td>\n",
       "      <td>70.0</td>\n",
       "      <td>NaN</td>\n",
       "      <td>1.0</td>\n",
       "    </tr>\n",
       "  </tbody>\n",
       "</table>\n",
       "</div>"
      ],
      "text/plain": [
       "                created_at  entry_id  temperature  humidity  moisture_level  \\\n",
       "0  2018-04-05 14:28:41 UTC    2675.0         29.0      38.0            70.0   \n",
       "1  2018-04-05 14:29:17 UTC    2676.0         29.0      38.0            70.0   \n",
       "2  2018-04-05 14:29:52 UTC    2677.0         29.0      38.0            70.0   \n",
       "\n",
       "   Unnamed: 5  pump action ON/OFF  \n",
       "0         NaN                 1.0  \n",
       "1         NaN                 1.0  \n",
       "2         NaN                 1.0  "
      ]
     },
     "execution_count": 21,
     "metadata": {},
     "output_type": "execute_result"
    }
   ],
   "source": [
    "df=pd.read_csv(\"Agri.csv\")\n",
    "df.head(3)"
   ]
  },
  {
   "cell_type": "markdown",
   "metadata": {},
   "source": [
    "## selecting the values\n",
    "- here the data rows which consist of null values are eliminated by using notnull() function"
   ]
  },
  {
   "cell_type": "code",
   "execution_count": 22,
   "metadata": {},
   "outputs": [],
   "source": [
    "df=df[df.moisture_level.notnull()] \n",
    "x = df.iloc[:, [3,4]].values\n",
    "y = df.iloc[:, 6].values"
   ]
  },
  {
   "cell_type": "code",
   "execution_count": 23,
   "metadata": {},
   "outputs": [],
   "source": [
    "#spliting the data into train and test data set\n",
    "from sklearn.cross_validation import train_test_split\n",
    "x_train, x_test, y_train, y_test = train_test_split(x, y, test_size = 0.25, random_state = 0)"
   ]
  },
  {
   "cell_type": "markdown",
   "metadata": {},
   "source": [
    "# features scaling \n",
    "- is used in order to convert all the columns into single standard scaling  "
   ]
  },
  {
   "cell_type": "code",
   "execution_count": 24,
   "metadata": {},
   "outputs": [],
   "source": [
    "#feature scaling\n",
    "from sklearn.preprocessing import StandardScaler\n",
    "sc = StandardScaler()\n",
    "x_train = sc.fit_transform(x_train)\n",
    "x_test = sc.transform(x_test)"
   ]
  },
  {
   "cell_type": "markdown",
   "metadata": {},
   "source": [
    "# creating logistic regression classifier model\n",
    " -in this model is developed by taking the train data sample and fit into the model "
   ]
  },
  {
   "cell_type": "code",
   "execution_count": null,
   "metadata": {},
   "outputs": [],
   "source": [
    "#create logistic regression classifier model\n",
    "from sklearn.linear_model import LogisticRegression\n",
    "classifier=LogisticRegression(random_state=0)\n",
    "classifier.fit(x_train,y_train)"
   ]
  },
  {
   "cell_type": "markdown",
   "metadata": {},
   "source": [
    "# Confusion matix\n",
    "- this matrix will show you the values in 2*2 matrix in form of array showing values in form of [true positive],[false negative],[false positive],[true negative]\n"
   ]
  },
  {
   "cell_type": "code",
   "execution_count": 31,
   "metadata": {},
   "outputs": [],
   "source": [
    "y_pred=classifier.predict(x_test)\n",
    "from sklearn.metrics import confusion_matrix\n",
    "cm=confusion_matrix(y_test,y_pred) "
   ]
  },
  {
   "cell_type": "code",
   "execution_count": 32,
   "metadata": {},
   "outputs": [
    {
     "data": {
      "text/plain": [
       "array([[228,   0],\n",
       "       [  0, 137]], dtype=int64)"
      ]
     },
     "execution_count": 32,
     "metadata": {},
     "output_type": "execute_result"
    }
   ],
   "source": [
    "cm"
   ]
  },
  {
   "cell_type": "code",
   "execution_count": 33,
   "metadata": {},
   "outputs": [
    {
     "data": {
      "image/png": "[encoded data removed]",
      "text/plain": [
       "<matplotlib.figure.Figure at 0x44a0830>"
      ]
     },
     "metadata": {},
     "output_type": "display_data"
    }
   ],
   "source": [
    "# Visualising the Training set results\n",
    "from matplotlib.colors import ListedColormap\n",
    "x_set, y_set = x_train, y_train\n",
    "x1, x2 = np.meshgrid(np.arange(start = x_set[:, 0].min() - 1, stop = x_set[:, 0].max() + 1, step = 0.01),\n",
    "                     np.arange(start = x_set[:, 1].min() - 1, stop = x_set[:, 1].max() + 1, step = 0.01))\n",
    "plt.contourf(x1, x2, classifier.predict(np.array([x1.ravel(), x2.ravel()]).T).reshape(x1.shape),\n",
    "             alpha = 0.75, cmap = ListedColormap(('red', 'green')))\n",
    "plt.xlim(x1.min(), x1.max())\n",
    "plt.ylim(x2.min(), x2.max())\n",
    "for i, j in enumerate(np.unique(y_set)):\n",
    "    plt.scatter(x_set[y_set == j, 0], x_set[y_set == j, 1],\n",
    "                c = ListedColormap(('red', 'green'))(i), label = j)\n",
    "plt.title('Logistic Regression (Training set)')\n",
    "plt.xlabel('humidity')\n",
    "plt.ylabel('moisture')\n",
    "plt.legend()\n",
    "plt.show()"
   ]
  },
  {
   "cell_type": "markdown",
   "metadata": {},
   "source": [
    "###### this visualiztion graph will plot the values moisture vs humidity and red dots indicate off state of pump and green dots indicate on state of pump here the green area indicates place where the pump is to be in on state and red indicate s the off state"
   ]
  },
  {
   "cell_type": "code",
   "execution_count": 34,
   "metadata": {},
   "outputs": [
    {
     "data": {
      "image/png": "[encoded data removed]",
      "text/plain": [
       "<matplotlib.figure.Figure at 0x2bb7ef0>"
      ]
     },
     "metadata": {},
     "output_type": "display_data"
    }
   ],
   "source": [
    "# Visualising the Test set results\n",
    "from matplotlib.colors import ListedColormap\n",
    "x_set, y_set = x_test, y_test\n",
    "x1, x2 = np.meshgrid(np.arange(start = x_set[:, 0].min() - 1, stop = x_set[:, 0].max() + 1, step = 0.01),\n",
    "                     np.arange(start = x_set[:, 1].min() - 1, stop = x_set[:, 1].max() + 1, step = 0.01))\n",
    "plt.contourf(x1, x2, classifier.predict(np.array([x1.ravel(), x2.ravel()]).T).reshape(x1.shape),\n",
    "             alpha = 0.75, cmap = ListedColormap(('red', 'green')))\n",
    "plt.xlim(x1.min(), x1.max())\n",
    "plt.ylim(x2.min(), x2.max())\n",
    "for i, j in enumerate(np.unique(y_set)):\n",
    "    plt.scatter(x_set[y_set == j, 0], x_set[y_set == j, 1],\n",
    "                c = ListedColormap(('red', 'green'))(i), label = j)\n",
    "plt.title('Logistic Regression (Test set)')\n",
    "plt.xlabel('humidity')\n",
    "plt.ylabel('moisture')\n",
    "plt.legend()\n",
    "plt.show()"
   ]
  },
  {
   "cell_type": "code",
   "execution_count": null,
   "metadata": {},
   "outputs": [],
   "source": []
  },
  {
   "cell_type": "markdown",
   "metadata": {},
   "source": [
    "# Decision tree moisture vs on off\n",
    "- A decision tree is a decision support tool that uses a tree-like graph or model of decisions and their possible consequences, including chance event outcomes, resource costs, and utility. It is one way to display an algorithm that only contains conditional control statements. to help identify a strategy most likely to reach a goal, but are also a popular tool in machine learning."
   ]
  },
  {
   "cell_type": "code",
   "execution_count": 35,
   "metadata": {},
   "outputs": [
    {
     "data": {
      "text/html": [
       "<div>\n",
       "<style scoped>\n",
       "    .dataframe tbody tr th:only-of-type {\n",
       "        vertical-align: middle;\n",
       "    }\n",
       "\n",
       "    .dataframe tbody tr th {\n",
       "        vertical-align: top;\n",
       "    }\n",
       "\n",
       "    .dataframe thead th {\n",
       "        text-align: right;\n",
       "    }\n",
       "</style>\n",
       "<table border=\"1\" class=\"dataframe\">\n",
       "  <thead>\n",
       "    <tr style=\"text-align: right;\">\n",
       "      <th></th>\n",
       "      <th>created_at</th>\n",
       "      <th>entry_id</th>\n",
       "      <th>temperature</th>\n",
       "      <th>humidity</th>\n",
       "      <th>moisture_level</th>\n",
       "      <th>Unnamed: 5</th>\n",
       "      <th>pump action ON/OFF</th>\n",
       "    </tr>\n",
       "  </thead>\n",
       "  <tbody>\n",
       "    <tr>\n",
       "      <th>0</th>\n",
       "      <td>2018-04-05 14:28:41 UTC</td>\n",
       "      <td>2675.0</td>\n",
       "      <td>29.0</td>\n",
       "      <td>38.0</td>\n",
       "      <td>70.0</td>\n",
       "      <td>NaN</td>\n",
       "      <td>1.0</td>\n",
       "    </tr>\n",
       "    <tr>\n",
       "      <th>1</th>\n",
       "      <td>2018-04-05 14:29:17 UTC</td>\n",
       "      <td>2676.0</td>\n",
       "      <td>29.0</td>\n",
       "      <td>38.0</td>\n",
       "      <td>70.0</td>\n",
       "      <td>NaN</td>\n",
       "      <td>1.0</td>\n",
       "    </tr>\n",
       "    <tr>\n",
       "      <th>2</th>\n",
       "      <td>2018-04-05 14:29:52 UTC</td>\n",
       "      <td>2677.0</td>\n",
       "      <td>29.0</td>\n",
       "      <td>38.0</td>\n",
       "      <td>70.0</td>\n",
       "      <td>NaN</td>\n",
       "      <td>1.0</td>\n",
       "    </tr>\n",
       "  </tbody>\n",
       "</table>\n",
       "</div>"
      ],
      "text/plain": [
       "                created_at  entry_id  temperature  humidity  moisture_level  \\\n",
       "0  2018-04-05 14:28:41 UTC    2675.0         29.0      38.0            70.0   \n",
       "1  2018-04-05 14:29:17 UTC    2676.0         29.0      38.0            70.0   \n",
       "2  2018-04-05 14:29:52 UTC    2677.0         29.0      38.0            70.0   \n",
       "\n",
       "   Unnamed: 5  pump action ON/OFF  \n",
       "0         NaN                 1.0  \n",
       "1         NaN                 1.0  \n",
       "2         NaN                 1.0  "
      ]
     },
     "execution_count": 35,
     "metadata": {},
     "output_type": "execute_result"
    }
   ],
   "source": [
    "df=pd.read_csv(\"Agri.csv\")\n",
    "df.head(3)"
   ]
  },
  {
   "cell_type": "markdown",
   "metadata": {},
   "source": [
    "# selecting values and coverting them to our required shape\n",
    "- iloc this is used in order to find the column based on index\n",
    "- reshape is used inorder to convert data according to our algorithm input\n"
   ]
  },
  {
   "cell_type": "code",
   "execution_count": 36,
   "metadata": {},
   "outputs": [],
   "source": [
    "df=df[df.moisture_level.notnull()]\n",
    "x=df.iloc[:,4:5].values\n",
    "y=df.iloc[:,6].values\n"
   ]
  },
  {
   "cell_type": "markdown",
   "metadata": {},
   "source": [
    "##### importing the DecisionTreeRegreessor module which contains all the implemetations regarding Desciontree"
   ]
  },
  {
   "cell_type": "code",
   "execution_count": 37,
   "metadata": {},
   "outputs": [
    {
     "data": {
      "text/plain": [
       "DecisionTreeRegressor(criterion='mse', max_depth=None, max_features=None,\n",
       "           max_leaf_nodes=None, min_impurity_decrease=0.0,\n",
       "           min_impurity_split=None, min_samples_leaf=1,\n",
       "           min_samples_split=2, min_weight_fraction_leaf=0.0,\n",
       "           presort=False, random_state=0, splitter='best')"
      ]
     },
     "execution_count": 37,
     "metadata": {},
     "output_type": "execute_result"
    }
   ],
   "source": [
    "from sklearn.tree import DecisionTreeRegressor\n",
    "regressor=DecisionTreeRegressor(random_state=0)\n",
    "regressor.fit(x,y)"
   ]
  },
  {
   "cell_type": "markdown",
   "metadata": {},
   "source": [
    "# This will predict the values based on our text data that which we use to create our training model"
   ]
  },
  {
   "cell_type": "code",
   "execution_count": 38,
   "metadata": {},
   "outputs": [],
   "source": [
    "y_pred=regressor.predict(73)"
   ]
  },
  {
   "cell_type": "code",
   "execution_count": 39,
   "metadata": {},
   "outputs": [
    {
     "data": {
      "text/plain": [
       "array([1.])"
      ]
     },
     "execution_count": 39,
     "metadata": {},
     "output_type": "execute_result"
    }
   ],
   "source": [
    "y_pred"
   ]
  },
  {
   "cell_type": "markdown",
   "metadata": {},
   "source": [
    "## Visualiztion \n",
    "-  in this section we are plotting a graph against moisture level and pump in train and test "
   ]
  },
  {
   "cell_type": "code",
   "execution_count": 40,
   "metadata": {},
   "outputs": [
    {
     "data": {
      "image/png": "[encoded data removed]",
      "text/plain": [
       "<matplotlib.figure.Figure at 0x29d8e30>"
      ]
     },
     "metadata": {},
     "output_type": "display_data"
    }
   ],
   "source": [
    "plt.scatter(x,y, color='red')\n",
    "plt.plot(x, regressor.predict(x), color='blue')\n",
    "plt.title('True or bluff(Decision Tree Regression)')\n",
    "plt.xlabel('moisture_level')\n",
    "plt.ylabel('on off')\n",
    "plt.show()"
   ]
  },
  {
   "cell_type": "markdown",
   "metadata": {},
   "source": [
    "### Visualising the Decision Tree Regression results (for higher resolution and smoother curve)"
   ]
  },
  {
   "cell_type": "code",
   "execution_count": 42,
   "metadata": {},
   "outputs": [
    {
     "data": {
      "image/png": "[encoded data removed]",
      "text/plain": [
       "<matplotlib.figure.Figure at 0xb6adcf0>"
      ]
     },
     "metadata": {},
     "output_type": "display_data"
    }
   ],
   "source": [
    "\n",
    "x_grid = np.arange(min(x), max(x), 0.01)\n",
    "x_grid = x_grid.reshape((len(x_grid), 1))\n",
    "plt.scatter(x, y, color = 'red')\n",
    "plt.plot(x_grid, regressor.predict(x_grid), color = 'blue')\n",
    "plt.title('Truth or Bluff (Decision Tree Regression)')\n",
    "plt.xlabel('moisture level')\n",
    "plt.ylabel('on off')\n",
    "plt.show()"
   ]
  },
  {
   "cell_type": "code",
   "execution_count": null,
   "metadata": {},
   "outputs": [],
   "source": []
  },
  {
   "cell_type": "markdown",
   "metadata": {},
   "source": [
    "# SVR (moisture vs On off)"
   ]
  },
  {
   "cell_type": "code",
   "execution_count": 58,
   "metadata": {},
   "outputs": [],
   "source": [
    "import pandas as pd\n",
    "import numpy as np\n",
    "import os \n",
    "import matplotlib.pyplot as plt\n",
    "import re"
   ]
  },
  {
   "cell_type": "code",
   "execution_count": 59,
   "metadata": {},
   "outputs": [],
   "source": [
    "\n",
    "df=pd.read_csv(\"Agri.csv\")\n",
    "df=df[df.moisture_level.notnull()]"
   ]
  },
  {
   "cell_type": "code",
   "execution_count": 60,
   "metadata": {},
   "outputs": [],
   "source": [
    "x=df.iloc[:, 4:5].values\n",
    "y=df.iloc[:, 6].values.reshape(-1,1)\n"
   ]
  },
  {
   "cell_type": "code",
   "execution_count": 61,
   "metadata": {},
   "outputs": [
    {
     "data": {
      "text/plain": [
       "array([[1.],\n",
       "       [1.],\n",
       "       [1.],\n",
       "       ...,\n",
       "       [0.],\n",
       "       [0.],\n",
       "       [0.]])"
      ]
     },
     "execution_count": 61,
     "metadata": {},
     "output_type": "execute_result"
    }
   ],
   "source": [
    "y"
   ]
  },
  {
   "cell_type": "code",
   "execution_count": 64,
   "metadata": {},
   "outputs": [],
   "source": [
    "from sklearn.preprocessing import StandardScaler\n",
    "sc_x=StandardScaler()\n",
    "sc_y=StandardScaler()\n",
    "x=sc_x.fit_transform(x)\n",
    "y=sc_y.fit_transform(y) "
   ]
  },
  {
   "cell_type": "code",
   "execution_count": 65,
   "metadata": {},
   "outputs": [
    {
     "name": "stderr",
     "output_type": "stream",
     "text": [
      "C:\\Anaconda\\lib\\site-packages\\sklearn\\utils\\validation.py:578: DataConversionWarning: A column-vector y was passed when a 1d array was expected. Please change the shape of y to (n_samples, ), for example using ravel().\n",
      "  y = column_or_1d(y, warn=True)\n"
     ]
    },
    {
     "data": {
      "text/plain": [
       "SVR(C=1.0, cache_size=200, coef0=0.0, degree=3, epsilon=0.1, gamma='auto',\n",
       "  kernel='rbf', max_iter=-1, shrinking=True, tol=0.001, verbose=False)"
      ]
     },
     "execution_count": 65,
     "metadata": {},
     "output_type": "execute_result"
    }
   ],
   "source": [
    "from sklearn.svm import SVR\n",
    "Regressor=SVR(kernel='rbf') \n",
    "Regressor.fit(x,y)"
   ]
  },
  {
   "cell_type": "code",
   "execution_count": 66,
   "metadata": {},
   "outputs": [
    {
     "name": "stderr",
     "output_type": "stream",
     "text": [
      "C:\\Anaconda\\lib\\site-packages\\sklearn\\utils\\validation.py:475: DataConversionWarning: Data with input dtype int32 was converted to float64 by StandardScaler.\n",
      "  warnings.warn(msg, DataConversionWarning)\n"
     ]
    },
    {
     "data": {
      "text/plain": [
       "array([0.95126343])"
      ]
     },
     "execution_count": 66,
     "metadata": {},
     "output_type": "execute_result"
    }
   ],
   "source": [
    "y_pred=sc_y.inverse_transform(Regressor.predict(sc_x.transform(np.array(70))))\n",
    "y_pred"
   ]
  },
  {
   "cell_type": "code",
   "execution_count": 67,
   "metadata": {},
   "outputs": [
    {
     "data": {
      "image/png": "[encoded data removed]",
      "text/plain": [
       "<matplotlib.figure.Figure at 0x2a07fb0>"
      ]
     },
     "metadata": {},
     "output_type": "display_data"
    }
   ],
   "source": [
    "plt.scatter(x, y, color = 'red')\n",
    "plt.plot(x, Regressor.predict(x), color = 'blue')\n",
    "plt.title('Truth or Bluff (SVR Model)')\n",
    "plt.xlabel('Moisture level')\n",
    "plt.ylabel('On off')\n",
    "plt.show()"
   ]
  },
  {
   "cell_type": "code",
   "execution_count": 68,
   "metadata": {},
   "outputs": [
    {
     "data": {
      "image/png": "[encoded data removed]",
      "text/plain": [
       "<matplotlib.figure.Figure at 0x2beb8d0>"
      ]
     },
     "metadata": {},
     "output_type": "display_data"
    }
   ],
   "source": [
    "# Visualising the SVR results (for higher resolution and smoother curve)\n",
    "x_grid = np.arange(min(x), max(x), 0.001)\n",
    "x_grid = x_grid.reshape((len(x_grid), 1))\n",
    "plt.scatter(x, y, color = 'red')\n",
    "plt.plot(x_grid, Regressor.predict(x_grid), color = 'blue')\n",
    "plt.title('Truth or Bluff (SVR Model)')\n",
    "plt.xlabel(' Moisture level')\n",
    "plt.ylabel('on off')\n",
    "plt.show()"
   ]
  },
  {
   "cell_type": "code",
   "execution_count": null,
   "metadata": {},
   "outputs": [],
   "source": []
  },
  {
   "cell_type": "markdown",
   "metadata": {},
   "source": [
    "# Random forest (moisture vsn on off)"
   ]
  },
  {
   "cell_type": "code",
   "execution_count": 72,
   "metadata": {},
   "outputs": [],
   "source": [
    "import pandas as pd\n",
    "import numpy as np\n",
    "import os\n",
    "import matplotlib.pyplot as plt"
   ]
  },
  {
   "cell_type": "code",
   "execution_count": 73,
   "metadata": {},
   "outputs": [],
   "source": [
    "\n",
    "df=pd.read_csv(\"Agri.csv\")\n",
    "df=df[df.moisture_level.notnull()]"
   ]
  },
  {
   "cell_type": "code",
   "execution_count": 74,
   "metadata": {},
   "outputs": [
    {
     "data": {
      "text/html": [
       "<div>\n",
       "<style scoped>\n",
       "    .dataframe tbody tr th:only-of-type {\n",
       "        vertical-align: middle;\n",
       "    }\n",
       "\n",
       "    .dataframe tbody tr th {\n",
       "        vertical-align: top;\n",
       "    }\n",
       "\n",
       "    .dataframe thead th {\n",
       "        text-align: right;\n",
       "    }\n",
       "</style>\n",
       "<table border=\"1\" class=\"dataframe\">\n",
       "  <thead>\n",
       "    <tr style=\"text-align: right;\">\n",
       "      <th></th>\n",
       "      <th>created_at</th>\n",
       "      <th>entry_id</th>\n",
       "      <th>temperature</th>\n",
       "      <th>humidity</th>\n",
       "      <th>moisture_level</th>\n",
       "      <th>Unnamed: 5</th>\n",
       "      <th>pump action ON/OFF</th>\n",
       "    </tr>\n",
       "  </thead>\n",
       "  <tbody>\n",
       "    <tr>\n",
       "      <th>0</th>\n",
       "      <td>2018-04-05 14:28:41 UTC</td>\n",
       "      <td>2675.0</td>\n",
       "      <td>29.0</td>\n",
       "      <td>38.0</td>\n",
       "      <td>70.0</td>\n",
       "      <td>NaN</td>\n",
       "      <td>1.0</td>\n",
       "    </tr>\n",
       "    <tr>\n",
       "      <th>1</th>\n",
       "      <td>2018-04-05 14:29:17 UTC</td>\n",
       "      <td>2676.0</td>\n",
       "      <td>29.0</td>\n",
       "      <td>38.0</td>\n",
       "      <td>70.0</td>\n",
       "      <td>NaN</td>\n",
       "      <td>1.0</td>\n",
       "    </tr>\n",
       "    <tr>\n",
       "      <th>2</th>\n",
       "      <td>2018-04-05 14:29:52 UTC</td>\n",
       "      <td>2677.0</td>\n",
       "      <td>29.0</td>\n",
       "      <td>38.0</td>\n",
       "      <td>70.0</td>\n",
       "      <td>NaN</td>\n",
       "      <td>1.0</td>\n",
       "    </tr>\n",
       "  </tbody>\n",
       "</table>\n",
       "</div>"
      ],
      "text/plain": [
       "                created_at  entry_id  temperature  humidity  moisture_level  \\\n",
       "0  2018-04-05 14:28:41 UTC    2675.0         29.0      38.0            70.0   \n",
       "1  2018-04-05 14:29:17 UTC    2676.0         29.0      38.0            70.0   \n",
       "2  2018-04-05 14:29:52 UTC    2677.0         29.0      38.0            70.0   \n",
       "\n",
       "   Unnamed: 5  pump action ON/OFF  \n",
       "0         NaN                 1.0  \n",
       "1         NaN                 1.0  \n",
       "2         NaN                 1.0  "
      ]
     },
     "execution_count": 74,
     "metadata": {},
     "output_type": "execute_result"
    }
   ],
   "source": [
    "df.head(3)"
   ]
  },
  {
   "cell_type": "code",
   "execution_count": 75,
   "metadata": {},
   "outputs": [],
   "source": [
    "x=df.iloc[:,4:5].values\n",
    "y=df.iloc[:,6].values\n"
   ]
  },
  {
   "cell_type": "code",
   "execution_count": 76,
   "metadata": {},
   "outputs": [
    {
     "data": {
      "text/plain": [
       "RandomForestRegressor(bootstrap=True, criterion='mse', max_depth=None,\n",
       "           max_features='auto', max_leaf_nodes=None,\n",
       "           min_impurity_decrease=0.0, min_impurity_split=None,\n",
       "           min_samples_leaf=1, min_samples_split=2,\n",
       "           min_weight_fraction_leaf=0.0, n_estimators=10, n_jobs=1,\n",
       "           oob_score=False, random_state=0, verbose=0, warm_start=False)"
      ]
     },
     "execution_count": 76,
     "metadata": {},
     "output_type": "execute_result"
    }
   ],
   "source": [
    "from sklearn.ensemble import RandomForestRegressor\n",
    "regressor=RandomForestRegressor(n_estimators=10, random_state=0)\n",
    "regressor.fit(x,y)"
   ]
  },
  {
   "cell_type": "code",
   "execution_count": 77,
   "metadata": {},
   "outputs": [],
   "source": [
    "\n",
    "y_pred=regressor.predict(73)"
   ]
  },
  {
   "cell_type": "code",
   "execution_count": 78,
   "metadata": {},
   "outputs": [
    {
     "data": {
      "image/png": "[encoded data removed]",
      "text/plain": [
       "<matplotlib.figure.Figure at 0x4630df0>"
      ]
     },
     "metadata": {},
     "output_type": "display_data"
    }
   ],
   "source": [
    "x_grid = np.arange(min(x), max(x), 0.1)\n",
    "x_grid = x_grid.reshape((len(x_grid), 1))\n",
    "plt.scatter(x, y, color = 'red')\n",
    "plt.plot(x_grid, regressor.predict(x_grid), color = 'blue')\n",
    "plt.title('Truth or Bluff (Random Forest Regression)')\n",
    "plt.xlabel('moisture level')\n",
    "plt.ylabel('on off')\n",
    "plt.show()"
   ]
  },
  {
   "cell_type": "code",
   "execution_count": null,
   "metadata": {},
   "outputs": [],
   "source": []
  },
  {
   "cell_type": "markdown",
   "metadata": {},
   "source": [
    "# svm (moisture,temp and on off) "
   ]
  },
  {
   "cell_type": "code",
   "execution_count": 79,
   "metadata": {},
   "outputs": [],
   "source": [
    "import numpy as np\n",
    "import pandas as pd\n",
    "import matplotlib.pyplot as plt\n",
    "from sklearn import svm\n",
    "from sklearn.datasets.samples_generator import make_blobs"
   ]
  },
  {
   "cell_type": "code",
   "execution_count": 80,
   "metadata": {},
   "outputs": [],
   "source": [
    "df=pd.read_csv(\"Agri.csv\")\n",
    "df=df[df.moisture_level.notnull()]"
   ]
  },
  {
   "cell_type": "code",
   "execution_count": 81,
   "metadata": {},
   "outputs": [],
   "source": [
    "X=df.iloc[:,[2,4]].values\n",
    "y=df.iloc[:, 6].values\n"
   ]
  },
  {
   "cell_type": "code",
   "execution_count": 82,
   "metadata": {},
   "outputs": [],
   "source": [
    "clf=svm.SVC(kernel='linear',C=500)"
   ]
  },
  {
   "cell_type": "code",
   "execution_count": 83,
   "metadata": {},
   "outputs": [
    {
     "data": {
      "text/plain": [
       "SVC(C=500, cache_size=200, class_weight=None, coef0=0.0,\n",
       "  decision_function_shape='ovr', degree=3, gamma='auto', kernel='linear',\n",
       "  max_iter=-1, probability=False, random_state=None, shrinking=True,\n",
       "  tol=0.001, verbose=False)"
      ]
     },
     "execution_count": 83,
     "metadata": {},
     "output_type": "execute_result"
    }
   ],
   "source": [
    "clf.fit(X,y)"
   ]
  },
  {
   "cell_type": "code",
   "execution_count": 84,
   "metadata": {},
   "outputs": [
    {
     "data": {
      "text/plain": [
       "<matplotlib.collections.PathCollection at 0x5214230>"
      ]
     },
     "execution_count": 84,
     "metadata": {},
     "output_type": "execute_result"
    },
    {
     "data": {
      "image/png": "[encoded data removed]",
      "text/plain": [
       "<matplotlib.figure.Figure at 0x51e4fd0>"
      ]
     },
     "metadata": {},
     "output_type": "display_data"
    }
   ],
   "source": [
    "plt.scatter(X[:,0],X[:,1],c=y,s=30, cmap=plt.cm.Paired)"
   ]
  },
  {
   "cell_type": "code",
   "execution_count": 85,
   "metadata": {},
   "outputs": [
    {
     "data": {
      "image/png": "[encoded data removed]",
      "text/plain": [
       "<matplotlib.figure.Figure at 0x51f7810>"
      ]
     },
     "metadata": {},
     "output_type": "display_data"
    }
   ],
   "source": [
    "ax=plt.gca()\n",
    "xlim=ax.get_xlim()\n",
    "ylim=ax.get_ylim()"
   ]
  },
  {
   "cell_type": "code",
   "execution_count": 86,
   "metadata": {},
   "outputs": [
    {
     "data": {
      "text/plain": [
       "<matplotlib.collections.PathCollection at 0x528ebf0>"
      ]
     },
     "execution_count": 86,
     "metadata": {},
     "output_type": "execute_result"
    },
    {
     "data": {
      "image/png": "[encoded data removed]",
      "text/plain": [
       "<matplotlib.figure.Figure at 0x2a07150>"
      ]
     },
     "metadata": {},
     "output_type": "display_data"
    }
   ],
   "source": [
    "clf=svm.SVC(kernel='poly',C=1000)\n",
    "clf.fit(X,y)\n",
    "plt.scatter(X[:,0],X[:,1],c=y,s=30, cmap=plt.cm.Paired)"
   ]
  },
  {
   "cell_type": "code",
   "execution_count": 87,
   "metadata": {},
   "outputs": [
    {
     "data": {
      "text/plain": [
       "<matplotlib.collections.PathCollection at 0x52ccf90>"
      ]
     },
     "execution_count": 87,
     "metadata": {},
     "output_type": "execute_result"
    },
    {
     "data": {
      "image/png": "[encoded data removed]",
      "text/plain": [
       "<matplotlib.figure.Figure at 0x5255310>"
      ]
     },
     "metadata": {},
     "output_type": "display_data"
    }
   ],
   "source": [
    "clf=svm.SVC(kernel='linear',C=1000)\n",
    "clf.fit(X,y)\n",
    "plt.scatter(X[:,0],X[:,1],c=y,s=30, cmap=plt.cm.Paired)"
   ]
  },
  {
   "cell_type": "code",
   "execution_count": null,
   "metadata": {},
   "outputs": [],
   "source": []
  },
  {
   "cell_type": "markdown",
   "metadata": {},
   "source": [
    "# SVM_classifier(moisture ,temp and on off) kernel=linear"
   ]
  },
  {
   "cell_type": "code",
   "execution_count": 88,
   "metadata": {},
   "outputs": [],
   "source": [
    "from sklearn.datasets.samples_generator import make_blobs"
   ]
  },
  {
   "cell_type": "code",
   "execution_count": 89,
   "metadata": {},
   "outputs": [],
   "source": [
    "df=pd.read_csv(\"Agri.csv\")\n",
    "df=df[df.moisture_level.notnull()]"
   ]
  },
  {
   "cell_type": "code",
   "execution_count": 90,
   "metadata": {},
   "outputs": [],
   "source": [
    "x=df.iloc[:,[2,4]].values\n",
    "y=df.iloc[:, 6].values\n"
   ]
  },
  {
   "cell_type": "code",
   "execution_count": 91,
   "metadata": {},
   "outputs": [
    {
     "name": "stderr",
     "output_type": "stream",
     "text": [
      "C:\\Anaconda\\lib\\site-packages\\matplotlib\\contour.py:967: UserWarning: The following kwargs were not used by contour: 'colur', 'level'\n",
      "  s)\n"
     ]
    },
    {
     "data": {
      "image/png": "[encoded data removed]",
      "text/plain": [
       "<matplotlib.figure.Figure at 0x5214790>"
      ]
     },
     "metadata": {},
     "output_type": "display_data"
    }
   ],
   "source": [
    "from sklearn import svm\n",
    "#fit the model, don't regularize for illustration purpose \n",
    "classifier=svm.SVC(kernel='linear', C=1000)\n",
    "classifier.fit(x,y)\n",
    "\n",
    "#display the data in graph from\n",
    "plt.scatter(x[:, 0],x[:, 1], c=y, s=30, cmap=plt.cm.Paired)\n",
    "\n",
    "#plot decision function\n",
    "ax=plt.gca()\n",
    "xlim=ax.get_xlim()\n",
    "ylim=ax.get_ylim()\n",
    "\n",
    "#create grid to evaluate model\n",
    "xx=np.linspace(xlim[0],xlim[1],30)\n",
    "yy=np.linspace(ylim[0],ylim[1],30)\n",
    "YY,XX=np.meshgrid(yy,xx)\n",
    "xy=np.stack([XX.ravel(),YY.ravel()]).T\n",
    "Z=classifier.decision_function(xy).reshape(XX.shape)\n",
    "\n",
    "#plot decision boundary and margins\n",
    "ax.contour(XX,YY,Z, colur='k',level=[-1,0,1],alpha=0.5, linestyles=['--','-','--'])\n",
    "#plot support vector \n",
    "ax.scatter(classifier.support_vectors_[:,0], classifier.support_vectors_[:,1], s=100, linewidth=1, facecolors='none')\n",
    "plt.show()"
   ]
  },
  {
   "cell_type": "code",
   "execution_count": null,
   "metadata": {},
   "outputs": [],
   "source": []
  },
  {
   "cell_type": "markdown",
   "metadata": {},
   "source": [
    "# SVM_classifier(moisture,temp vs on off) kernel-rbf"
   ]
  },
  {
   "cell_type": "code",
   "execution_count": 92,
   "metadata": {},
   "outputs": [],
   "source": [
    "df=pd.read_csv(\"Agri.csv\")\n",
    "df=df[df.moisture_level.notnull()]"
   ]
  },
  {
   "cell_type": "code",
   "execution_count": 93,
   "metadata": {},
   "outputs": [],
   "source": [
    "x=df.iloc[:,[2,4]].values\n",
    "y=df.iloc[:, 6].values\n"
   ]
  },
  {
   "cell_type": "code",
   "execution_count": 94,
   "metadata": {},
   "outputs": [
    {
     "name": "stderr",
     "output_type": "stream",
     "text": [
      "C:\\Anaconda\\lib\\site-packages\\matplotlib\\contour.py:967: UserWarning: The following kwargs were not used by contour: 'colur', 'level'\n",
      "  s)\n"
     ]
    },
    {
     "data": {
      "image/png": "[encoded data removed]",
      "text/plain": [
       "<matplotlib.figure.Figure at 0x529aaf0>"
      ]
     },
     "metadata": {},
     "output_type": "display_data"
    }
   ],
   "source": [
    "from sklearn import svm\n",
    "#fit the model, don't regularize for illustration purpose \n",
    "classifier=svm.SVC(kernel='rbf', C=1000)\n",
    "classifier.fit(x,y)\n",
    "\n",
    "#display the data in graph from\n",
    "plt.scatter(x[:, 0],x[:, 1], c=y, s=30, cmap=plt.cm.Paired)\n",
    "\n",
    "#plot decision function\n",
    "ax=plt.gca()\n",
    "xlim=ax.get_xlim()\n",
    "ylim=ax.get_ylim()\n",
    "\n",
    "#create grid to evaluate model\n",
    "xx=np.linspace(xlim[0],xlim[1],30)\n",
    "yy=np.linspace(ylim[0],ylim[1],30)\n",
    "YY,XX=np.meshgrid(yy,xx)\n",
    "xy=np.stack([XX.ravel(),YY.ravel()]).T\n",
    "Z=classifier.decision_function(xy).reshape(XX.shape)\n",
    "\n",
    "#plot decision boundary and margins\n",
    "ax.contour(XX,YY,Z, colur='k',level=[-1,0,1],alpha=0.5, linestyles=['--','-','--'])\n",
    "#plot support vector \n",
    "ax.scatter(classifier.support_vectors_[:,0], classifier.support_vectors_[:,1], s=100, linewidth=1, facecolors='none')\n",
    "plt.show()"
   ]
  },
  {
   "cell_type": "code",
   "execution_count": null,
   "metadata": {},
   "outputs": [],
   "source": []
  },
  {
   "cell_type": "markdown",
   "metadata": {},
   "source": [
    "# clustering_K_Means(moisture vs on off)"
   ]
  },
  {
   "cell_type": "code",
   "execution_count": 12,
   "metadata": {},
   "outputs": [],
   "source": [
    "import pandas as pd\n",
    "import matplotlib.pyplot as plt\n",
    "\n",
    "df=pd.read_csv(\"Agri.csv\")\n",
    "df=df[df.moisture_level.notnull()]"
   ]
  },
  {
   "cell_type": "code",
   "execution_count": 13,
   "metadata": {},
   "outputs": [
    {
     "data": {
      "text/html": [
       "<div>\n",
       "<style scoped>\n",
       "    .dataframe tbody tr th:only-of-type {\n",
       "        vertical-align: middle;\n",
       "    }\n",
       "\n",
       "    .dataframe tbody tr th {\n",
       "        vertical-align: top;\n",
       "    }\n",
       "\n",
       "    .dataframe thead th {\n",
       "        text-align: right;\n",
       "    }\n",
       "</style>\n",
       "<table border=\"1\" class=\"dataframe\">\n",
       "  <thead>\n",
       "    <tr style=\"text-align: right;\">\n",
       "      <th></th>\n",
       "      <th>created_at</th>\n",
       "      <th>entry_id</th>\n",
       "      <th>temperature</th>\n",
       "      <th>humidity</th>\n",
       "      <th>moisture_level</th>\n",
       "      <th>Unnamed: 5</th>\n",
       "      <th>pump action ON/OFF</th>\n",
       "    </tr>\n",
       "  </thead>\n",
       "  <tbody>\n",
       "    <tr>\n",
       "      <th>0</th>\n",
       "      <td>2018-04-05 14:28:41 UTC</td>\n",
       "      <td>2675.0</td>\n",
       "      <td>29.0</td>\n",
       "      <td>38.0</td>\n",
       "      <td>70.0</td>\n",
       "      <td>NaN</td>\n",
       "      <td>1.0</td>\n",
       "    </tr>\n",
       "    <tr>\n",
       "      <th>1</th>\n",
       "      <td>2018-04-05 14:29:17 UTC</td>\n",
       "      <td>2676.0</td>\n",
       "      <td>29.0</td>\n",
       "      <td>38.0</td>\n",
       "      <td>70.0</td>\n",
       "      <td>NaN</td>\n",
       "      <td>1.0</td>\n",
       "    </tr>\n",
       "  </tbody>\n",
       "</table>\n",
       "</div>"
      ],
      "text/plain": [
       "                created_at  entry_id  temperature  humidity  moisture_level  \\\n",
       "0  2018-04-05 14:28:41 UTC    2675.0         29.0      38.0            70.0   \n",
       "1  2018-04-05 14:29:17 UTC    2676.0         29.0      38.0            70.0   \n",
       "\n",
       "   Unnamed: 5  pump action ON/OFF  \n",
       "0         NaN                 1.0  \n",
       "1         NaN                 1.0  "
      ]
     },
     "execution_count": 13,
     "metadata": {},
     "output_type": "execute_result"
    }
   ],
   "source": [
    "df.head(2)"
   ]
  },
  {
   "cell_type": "code",
   "execution_count": 14,
   "metadata": {},
   "outputs": [
    {
     "data": {
      "text/html": [
       "<div>\n",
       "<style scoped>\n",
       "    .dataframe tbody tr th:only-of-type {\n",
       "        vertical-align: middle;\n",
       "    }\n",
       "\n",
       "    .dataframe tbody tr th {\n",
       "        vertical-align: top;\n",
       "    }\n",
       "\n",
       "    .dataframe thead th {\n",
       "        text-align: right;\n",
       "    }\n",
       "</style>\n",
       "<table border=\"1\" class=\"dataframe\">\n",
       "  <thead>\n",
       "    <tr style=\"text-align: right;\">\n",
       "      <th></th>\n",
       "      <th>created_at</th>\n",
       "      <th>entry_id</th>\n",
       "      <th>temperature</th>\n",
       "      <th>humidity</th>\n",
       "      <th>moisture_level</th>\n",
       "      <th>Unnamed: 5</th>\n",
       "      <th>pump action ON/OFF</th>\n",
       "    </tr>\n",
       "  </thead>\n",
       "  <tbody>\n",
       "    <tr>\n",
       "      <th>1456</th>\n",
       "      <td>2018-04-05 16:00:04 UTC</td>\n",
       "      <td>4131.0</td>\n",
       "      <td>31.0</td>\n",
       "      <td>40.0</td>\n",
       "      <td>76.0</td>\n",
       "      <td>NaN</td>\n",
       "      <td>0.0</td>\n",
       "    </tr>\n",
       "    <tr>\n",
       "      <th>1457</th>\n",
       "      <td>2018-04-05 16:00:04 UTC</td>\n",
       "      <td>4132.0</td>\n",
       "      <td>31.0</td>\n",
       "      <td>40.0</td>\n",
       "      <td>76.0</td>\n",
       "      <td>NaN</td>\n",
       "      <td>0.0</td>\n",
       "    </tr>\n",
       "  </tbody>\n",
       "</table>\n",
       "</div>"
      ],
      "text/plain": [
       "                   created_at  entry_id  temperature  humidity  \\\n",
       "1456  2018-04-05 16:00:04 UTC    4131.0         31.0      40.0   \n",
       "1457  2018-04-05 16:00:04 UTC    4132.0         31.0      40.0   \n",
       "\n",
       "      moisture_level  Unnamed: 5  pump action ON/OFF  \n",
       "1456            76.0         NaN                 0.0  \n",
       "1457            76.0         NaN                 0.0  "
      ]
     },
     "execution_count": 14,
     "metadata": {},
     "output_type": "execute_result"
    }
   ],
   "source": [
    "df.tail(2)"
   ]
  },
  {
   "cell_type": "code",
   "execution_count": 15,
   "metadata": {},
   "outputs": [
    {
     "name": "stdout",
     "output_type": "stream",
     "text": [
      "<class 'pandas.core.frame.DataFrame'>\n",
      "Int64Index: 1458 entries, 0 to 1457\n",
      "Data columns (total 7 columns):\n",
      "created_at            1458 non-null object\n",
      "entry_id              1458 non-null float64\n",
      "temperature           1458 non-null float64\n",
      "humidity              1458 non-null float64\n",
      "moisture_level        1458 non-null float64\n",
      "Unnamed: 5            0 non-null float64\n",
      "pump action ON/OFF    1458 non-null float64\n",
      "dtypes: float64(6), object(1)\n",
      "memory usage: 85.4+ KB\n"
     ]
    }
   ],
   "source": [
    "df.info()"
   ]
  },
  {
   "cell_type": "code",
   "execution_count": 16,
   "metadata": {},
   "outputs": [
    {
     "data": {
      "text/html": [
       "<div>\n",
       "<style scoped>\n",
       "    .dataframe tbody tr th:only-of-type {\n",
       "        vertical-align: middle;\n",
       "    }\n",
       "\n",
       "    .dataframe tbody tr th {\n",
       "        vertical-align: top;\n",
       "    }\n",
       "\n",
       "    .dataframe thead th {\n",
       "        text-align: right;\n",
       "    }\n",
       "</style>\n",
       "<table border=\"1\" class=\"dataframe\">\n",
       "  <thead>\n",
       "    <tr style=\"text-align: right;\">\n",
       "      <th></th>\n",
       "      <th>entry_id</th>\n",
       "      <th>temperature</th>\n",
       "      <th>humidity</th>\n",
       "      <th>moisture_level</th>\n",
       "      <th>Unnamed: 5</th>\n",
       "      <th>pump action ON/OFF</th>\n",
       "    </tr>\n",
       "  </thead>\n",
       "  <tbody>\n",
       "    <tr>\n",
       "      <th>count</th>\n",
       "      <td>1458.000000</td>\n",
       "      <td>1458.000000</td>\n",
       "      <td>1458.000000</td>\n",
       "      <td>1458.000000</td>\n",
       "      <td>0.0</td>\n",
       "      <td>1458.000000</td>\n",
       "    </tr>\n",
       "    <tr>\n",
       "      <th>mean</th>\n",
       "      <td>3403.500000</td>\n",
       "      <td>30.794239</td>\n",
       "      <td>39.700686</td>\n",
       "      <td>71.081619</td>\n",
       "      <td>NaN</td>\n",
       "      <td>0.390261</td>\n",
       "    </tr>\n",
       "    <tr>\n",
       "      <th>std</th>\n",
       "      <td>421.032659</td>\n",
       "      <td>1.352765</td>\n",
       "      <td>0.601553</td>\n",
       "      <td>7.130189</td>\n",
       "      <td>NaN</td>\n",
       "      <td>0.487976</td>\n",
       "    </tr>\n",
       "    <tr>\n",
       "      <th>min</th>\n",
       "      <td>2675.000000</td>\n",
       "      <td>28.000000</td>\n",
       "      <td>38.000000</td>\n",
       "      <td>62.000000</td>\n",
       "      <td>NaN</td>\n",
       "      <td>0.000000</td>\n",
       "    </tr>\n",
       "    <tr>\n",
       "      <th>25%</th>\n",
       "      <td>3039.250000</td>\n",
       "      <td>29.000000</td>\n",
       "      <td>39.000000</td>\n",
       "      <td>62.000000</td>\n",
       "      <td>NaN</td>\n",
       "      <td>0.000000</td>\n",
       "    </tr>\n",
       "    <tr>\n",
       "      <th>50%</th>\n",
       "      <td>3403.500000</td>\n",
       "      <td>31.000000</td>\n",
       "      <td>40.000000</td>\n",
       "      <td>76.000000</td>\n",
       "      <td>NaN</td>\n",
       "      <td>0.000000</td>\n",
       "    </tr>\n",
       "    <tr>\n",
       "      <th>75%</th>\n",
       "      <td>3767.750000</td>\n",
       "      <td>32.000000</td>\n",
       "      <td>40.000000</td>\n",
       "      <td>76.000000</td>\n",
       "      <td>NaN</td>\n",
       "      <td>1.000000</td>\n",
       "    </tr>\n",
       "    <tr>\n",
       "      <th>max</th>\n",
       "      <td>4132.000000</td>\n",
       "      <td>32.000000</td>\n",
       "      <td>45.000000</td>\n",
       "      <td>83.000000</td>\n",
       "      <td>NaN</td>\n",
       "      <td>1.000000</td>\n",
       "    </tr>\n",
       "  </tbody>\n",
       "</table>\n",
       "</div>"
      ],
      "text/plain": [
       "          entry_id  temperature     humidity  moisture_level  Unnamed: 5  \\\n",
       "count  1458.000000  1458.000000  1458.000000     1458.000000         0.0   \n",
       "mean   3403.500000    30.794239    39.700686       71.081619         NaN   \n",
       "std     421.032659     1.352765     0.601553        7.130189         NaN   \n",
       "min    2675.000000    28.000000    38.000000       62.000000         NaN   \n",
       "25%    3039.250000    29.000000    39.000000       62.000000         NaN   \n",
       "50%    3403.500000    31.000000    40.000000       76.000000         NaN   \n",
       "75%    3767.750000    32.000000    40.000000       76.000000         NaN   \n",
       "max    4132.000000    32.000000    45.000000       83.000000         NaN   \n",
       "\n",
       "       pump action ON/OFF  \n",
       "count         1458.000000  \n",
       "mean             0.390261  \n",
       "std              0.487976  \n",
       "min              0.000000  \n",
       "25%              0.000000  \n",
       "50%              0.000000  \n",
       "75%              1.000000  \n",
       "max              1.000000  "
      ]
     },
     "execution_count": 16,
     "metadata": {},
     "output_type": "execute_result"
    }
   ],
   "source": [
    "df.describe()"
   ]
  },
  {
   "cell_type": "code",
   "execution_count": 17,
   "metadata": {},
   "outputs": [],
   "source": [
    "x=df.iloc[:,[4,6]].values"
   ]
  },
  {
   "cell_type": "code",
   "execution_count": 18,
   "metadata": {},
   "outputs": [
    {
     "data": {
      "image/png": "[encoded data removed]",
      "text/plain": [
       "<matplotlib.figure.Figure at 0xb53a990>"
      ]
     },
     "metadata": {},
     "output_type": "display_data"
    }
   ],
   "source": [
    "#using elbow method to find th optimal of clusters\n",
    "from sklearn.cluster import KMeans\n",
    "wcss=[]\n",
    "for i in range(1,11):\n",
    "    kmeans=KMeans(n_clusters=i,init='k-means++',max_iter=300,n_init=10,random_state=0)\n",
    "    kmeans.fit(x)\n",
    "    wcss.append(kmeans.inertia_)\n",
    "plt.plot(range(1,11),wcss)\n",
    "plt.title(\"The Elbow Method\")\n",
    "plt.xlabel(\"number of cluster\")\n",
    "plt.ylabel(\"wcss\")\n",
    "plt.show()"
   ]
  },
  {
   "cell_type": "code",
   "execution_count": 19,
   "metadata": {},
   "outputs": [],
   "source": [
    "kmeans=KMeans(n_clusters=5, init='k-means++',max_iter=300,n_init=10, random_state=0)\n",
    "y_kmeans=kmeans.fit_predict(x)"
   ]
  },
  {
   "cell_type": "code",
   "execution_count": 20,
   "metadata": {},
   "outputs": [
    {
     "data": {
      "image/png": "[encoded data removed]",
      "text/plain": [
       "<matplotlib.figure.Figure at 0xbf84530>"
      ]
     },
     "metadata": {},
     "output_type": "display_data"
    }
   ],
   "source": [
    "plt.scatter(kmeans.cluster_centers_[:,0], kmeans.cluster_centers_[:,1], s=300, c='yellow', label='Centroids')\n",
    "plt.title('clusters of clients')\n",
    "plt.xlabel('moisture level')\n",
    "plt.ylabel('on off(1-0)')\n",
    "plt.legend()\n",
    "plt.show()"
   ]
  },
  {
   "cell_type": "code",
   "execution_count": null,
   "metadata": {},
   "outputs": [],
   "source": []
  },
  {
   "cell_type": "markdown",
   "metadata": {},
   "source": [
    "# apriori \n",
    " - this will give you the assosciation patters when the conditions are repeating frequently of specific combinations of temperature and moisture and humidity with pump on or off satisfying the support and confidence"
   ]
  },
  {
   "cell_type": "code",
   "execution_count": 104,
   "metadata": {},
   "outputs": [],
   "source": [
    "df=pd.read_csv(\"Agri.csv\", header=None)"
   ]
  },
  {
   "cell_type": "code",
   "execution_count": 105,
   "metadata": {},
   "outputs": [],
   "source": [
    "transactions=[]\n",
    "for i in range(0,1460):\n",
    "    transactions.append([str(df.values[i,j]) for j in range(0,7)])"
   ]
  },
  {
   "cell_type": "code",
   "execution_count": 106,
   "metadata": {},
   "outputs": [
    {
     "data": {
      "text/plain": [
       "[['created_at',\n",
       "  'entry_id',\n",
       "  'temperature',\n",
       "  'humidity',\n",
       "  'moisture_level',\n",
       "  'nan',\n",
       "  'pump action ON/OFF'],\n",
       " ['2018-04-05 14:28:41 UTC', '2675', '29', '38', '70', 'nan', '1'],\n",
       " ['2018-04-05 14:29:17 UTC', '2676', '29', '38', '70', 'nan', '1'],\n",
       " ['2018-04-05 14:29:52 UTC', '2677', '29', '38', '70', 'nan', '1'],\n",
       " ['2018-04-05 14:30:25 UTC', '2678', '29', '38', '70', 'nan', '1'],\n",
       " ['2018-04-05 14:31:00 UTC', '2679', '29', '38', '70', 'nan', '1'],\n",
       " ['2018-04-05 14:31:35 UTC', '2680', '29', '38', '70', 'nan', '1'],\n",
       " ['2018-04-05 14:32:10 UTC', '2681', '29', '38', '70', 'nan', '1'],\n",
       " ['2018-04-05 14:32:45 UTC', '2682', '29', '38', '70', 'nan', '1'],\n",
       " ['2018-04-05 14:33:20 UTC', '2683', '29', '38', '70', 'nan', '1'],\n",
       " ['2018-04-05 14:33:55 UTC', '2684', '29', '38', '70', 'nan', '1'],\n",
       " ['2018-04-05 14:34:31 UTC', '2685', '29', '38', '70', 'nan', '1'],\n",
       " ['2018-04-05 14:35:07 UTC', '2686', '29', '38', '70', 'nan', '1'],\n",
       " ['2018-04-05 14:35:42 UTC', '2687', '29', '38', '70', 'nan', '1'],\n",
       " ['2018-04-05 14:36:18 UTC', '2688', '29', '39', '70', 'nan', '1'],\n",
       " ['2018-04-05 14:36:52 UTC', '2689', '29', '39', '70', 'nan', '1'],\n",
       " ['2018-04-05 14:37:28 UTC', '2690', '29', '39', '70', 'nan', '1'],\n",
       " ['2018-04-05 14:38:04 UTC', '2691', '29', '39', '70', 'nan', '1'],\n",
       " ['2018-04-05 14:38:39 UTC', '2692', '29', '39', '70', 'nan', '1'],\n",
       " ['2018-04-05 14:39:15 UTC', '2693', '29', '39', '70', 'nan', '1'],\n",
       " ['2018-04-05 14:39:50 UTC', '2694', '29', '39', '70', 'nan', '1'],\n",
       " ['2018-04-05 14:40:26 UTC', '2695', '30', '39', '70', 'nan', '1'],\n",
       " ['2018-04-05 14:41:00 UTC', '2696', '30', '39', '70', 'nan', '1'],\n",
       " ['2018-04-05 14:41:36 UTC', '2697', '30', '39', '70', 'nan', '1'],\n",
       " ['2018-04-05 14:42:14 UTC', '2698', '30', '39', '70', 'nan', '1'],\n",
       " ['2018-04-05 14:42:49 UTC', '2699', '30', '39', '70', 'nan', '1'],\n",
       " ['2018-04-05 14:43:25 UTC', '2700', '30', '39', '70', 'nan', '1'],\n",
       " ['2018-04-05 14:44:01 UTC', '2701', '30', '39', '83', 'nan', '0'],\n",
       " ['2018-04-05 14:44:37 UTC', '2702', '30', '39', '83', 'nan', '0'],\n",
       " ['2018-04-05 14:45:13 UTC', '2703', '30', '39', '83', 'nan', '0'],\n",
       " ['2018-04-05 14:45:48 UTC', '2704', '30', '39', '83', 'nan', '0'],\n",
       " ['2018-04-05 14:46:23 UTC', '2705', '30', '38', '83', 'nan', '0'],\n",
       " ['2018-04-05 14:46:59 UTC', '2706', '30', '39.1', '83', 'nan', '0'],\n",
       " ['2018-04-05 14:47:34 UTC', '2707', '30', '39.1', '83', 'nan', '0'],\n",
       " ['2018-04-05 14:48:09 UTC', '2708', '30', '39.1', '83', 'nan', '0'],\n",
       " ['2018-04-05 14:48:45 UTC', '2709', '30', '39.1', '83', 'nan', '0'],\n",
       " ['2018-04-05 14:49:20 UTC', '2710', '30', '39.1', '83', 'nan', '0'],\n",
       " ['2018-04-05 14:49:55 UTC', '2711', '30', '39.1', '83', 'nan', '0'],\n",
       " ['2018-04-05 14:51:04 UTC', '2712', '30', '40.00\\n\\n', '83', 'nan', '0'],\n",
       " ['2018-04-05 14:51:30 UTC', '2713', '30', '40.00\\n\\n', '83', 'nan', '0'],\n",
       " ['2018-04-05 14:51:56 UTC', '2714', '30', '40.00\\n\\n', '83', 'nan', '0'],\n",
       " ['2018-04-05 14:52:22 UTC', '2715', '31', '41.00\\n\\n', '83', 'nan', '0'],\n",
       " ['2018-04-05 15:34:56 UTC', '2716', '31', '45.00\\n\\n', '83', 'nan', '0'],\n",
       " ['2018-04-05 15:35:23 UTC', '2717', '31', '42.00\\n\\n', '83', 'nan', '0'],\n",
       " ['2018-04-05 15:35:51 UTC', '2718', '31', '42.00\\n\\n', '83', 'nan', '0'],\n",
       " ['2018-04-05 15:36:17 UTC', '2719', '31', '42.00\\n\\n', '83', 'nan', '0'],\n",
       " ['2018-04-05 15:36:47 UTC', '2720', '31', '42.00\\n\\n', '83', 'nan', '0'],\n",
       " ['2018-04-05 15:37:14 UTC', '2721', '31', '41.00\\n\\n', '83', 'nan', '0'],\n",
       " ['2018-04-05 15:37:41 UTC', '2722', '31', '41.00\\n\\n', '83', 'nan', '0'],\n",
       " ['2018-04-05 15:38:09 UTC', '2723', '31', '41.00\\n\\n', '83', 'nan', '0'],\n",
       " ['2018-04-05 15:38:25 UTC', '2724', '31', '41.00\\n\\n', '62', 'nan', '1'],\n",
       " ['2018-04-05 15:38:53 UTC', '2725', '31', '41.00\\n\\n', '62', 'nan', '1'],\n",
       " ['2018-04-05 15:39:19 UTC', '2726', '31', '41.00\\n\\n', '62', 'nan', '1'],\n",
       " ['2018-04-05 15:39:45 UTC', '2727', '31', '41.00\\n\\n', '62', 'nan', '1'],\n",
       " ['2018-04-05 15:40:13 UTC', '2728', '31', '41.00\\n\\n', '62', 'nan', '1'],\n",
       " ['2018-04-05 15:40:37 UTC', '2729', '31', '41.00\\n\\n', '62', 'nan', '1'],\n",
       " ['2018-04-05 15:41:04 UTC', '2730', '31', '41.00\\n\\n', '62', 'nan', '1'],\n",
       " ['2018-04-05 15:41:30 UTC', '2731', '31', '41.00\\n\\n', '62', 'nan', '1'],\n",
       " ['2018-04-05 15:41:56 UTC', '2732', '31', '41.00\\n\\n', '62', 'nan', '1'],\n",
       " ['2018-04-05 15:42:22 UTC', '2733', '31', '41.00\\n\\n', '62', 'nan', '1'],\n",
       " ['2018-04-05 15:42:48 UTC', '2734', '31', '41.00\\n\\n', '62', 'nan', '1'],\n",
       " ['2018-04-05 15:43:14 UTC', '2735', '31', '41.00\\n\\n', '62', 'nan', '1'],\n",
       " ['2018-04-05 15:43:40 UTC', '2736', '31', '41.00\\n\\n', '62', 'nan', '1'],\n",
       " ['2018-04-05 15:44:07 UTC', '2737', '31', '41.00\\n\\n', '62', 'nan', '1'],\n",
       " ['2018-04-05 15:44:33 UTC', '2738', '31', '42.00\\n\\n', '62', 'nan', '1'],\n",
       " ['2018-04-05 15:44:58 UTC', '2739', '31', '42.00\\n\\n', '62', 'nan', '1'],\n",
       " ['2018-04-05 15:45:13 UTC', '2740', '31', '42.00\\n\\n', '62', 'nan', '1'],\n",
       " ['2018-04-05 15:45:35 UTC', '2741', '31', '41.00\\n\\n', '62', 'nan', '1'],\n",
       " ['2018-04-05 15:46:00 UTC', '2742', '31', '41.00\\n\\n', '62', 'nan', '1'],\n",
       " ['2018-04-05 15:46:25 UTC', '2743', '32', '41.00\\n\\n', '62', 'nan', '1'],\n",
       " ['2018-04-05 15:46:51 UTC', '2744', '32', '41.00\\n\\n', '62', 'nan', '1'],\n",
       " ['2018-04-05 15:47:17 UTC', '2745', '32', '41.00\\n\\n', '62', 'nan', '1'],\n",
       " ['2018-04-05 15:47:43 UTC', '2746', '32', '40.00\\n\\n', '62', 'nan', '1'],\n",
       " ['2018-04-05 15:48:09 UTC', '2747', '31', '40.00\\n\\n', '62', 'nan', '1'],\n",
       " ['2018-04-05 15:48:38 UTC', '2748', '31', '41.00\\n\\n', '62', 'nan', '1'],\n",
       " ['2018-04-05 15:49:04 UTC', '2749', '31', '41.00\\n\\n', '62', 'nan', '1'],\n",
       " ['2018-04-05 15:49:30 UTC', '2750', '31', '41.00\\n\\n', '62', 'nan', '1'],\n",
       " ['2018-04-05 15:49:56 UTC', '2751', '31', '41.00\\n\\n', '62', 'nan', '1'],\n",
       " ['2018-04-05 15:50:22 UTC', '2752', '31', '41.00\\n\\n', '62', 'nan', '1'],\n",
       " ['2018-04-05 15:50:50 UTC', '2753', '31', '41.00\\n\\n', '62', 'nan', '1'],\n",
       " ['2018-04-05 15:51:17 UTC', '2754', '31', '41.00\\n\\n', '62', 'nan', '1'],\n",
       " ['2018-04-05 15:51:43 UTC', '2755', '31', '41.00\\n\\n', '62', 'nan', '1'],\n",
       " ['2018-04-05 15:52:10 UTC', '2756', '31', '41.00\\n\\n', '62', 'nan', '1'],\n",
       " ['2018-04-05 15:52:36 UTC', '2757', '31', '41.00\\n\\n', '62', 'nan', '1'],\n",
       " ['2018-04-05 15:53:01 UTC', '2758', '31', '41.00\\n\\n', '62', 'nan', '1'],\n",
       " ['2018-04-05 15:53:29 UTC', '2759', '31', '41.00\\n\\n', '62', 'nan', '1'],\n",
       " ['2018-04-05 15:53:52 UTC', '2760', '31', '41.00\\n\\n', '62', 'nan', '1'],\n",
       " ['2018-04-05 15:54:19 UTC', '2761', '31', '41.00\\n\\n', '62', 'nan', '1'],\n",
       " ['2018-04-05 15:54:47 UTC', '2762', '31', '41.00\\n\\n', '62', 'nan', '1'],\n",
       " ['2018-04-05 15:55:15 UTC', '2763', '31', '41.00\\n\\n', '62', 'nan', '1'],\n",
       " ['2018-04-05 15:55:40 UTC', '2764', '31', '41.00\\n\\n', '62', 'nan', '1'],\n",
       " ['2018-04-05 15:56:06 UTC', '2765', '31', '41.00\\n\\n', '62', 'nan', '1'],\n",
       " ['2018-04-05 15:56:32 UTC', '2766', '31', '41.00\\n\\n', '62', 'nan', '1'],\n",
       " ['2018-04-05 15:56:59 UTC', '2767', '31', '43.00\\n\\n', '62', 'nan', '1'],\n",
       " ['2018-04-05 15:57:27 UTC', '2768', '31', '42.00\\n\\n', '62', 'nan', '1'],\n",
       " ['2018-04-05 15:57:54 UTC', '2769', '31', '42.00\\n\\n', '62', 'nan', '1'],\n",
       " ['2018-04-05 15:58:20 UTC', '2770', '31', '41.00\\n\\n', '62', 'nan', '1'],\n",
       " ['2018-04-05 15:58:46 UTC', '2771', '31', '41.00\\n\\n', '62', 'nan', '1'],\n",
       " ['2018-04-05 15:59:13 UTC', '2772', '31', '42.00\\n\\n', '62', 'nan', '1'],\n",
       " ['2018-04-05 15:59:38 UTC', '2773', '31', '41.00\\n\\n', '62', 'nan', '1'],\n",
       " ['2018-04-05 16:00:04 UTC', '2774', '31', '41.00\\n\\n', '62', 'nan', '1'],\n",
       " ['2018-04-05 16:00:04 UTC', '2775', '32', '40', '62', 'nan', '1'],\n",
       " ['2018-04-05 16:00:04 UTC', '2776', '32', '40', '62', 'nan', '1'],\n",
       " ['2018-04-05 16:00:04 UTC', '2777', '32', '40', '62', 'nan', '1'],\n",
       " ['2018-04-05 16:00:04 UTC', '2778', '32', '40', '62', 'nan', '1'],\n",
       " ['2018-04-05 16:00:04 UTC', '2779', '32', '40', '62', 'nan', '1'],\n",
       " ['2018-04-05 16:00:04 UTC', '2780', '32', '40', '62', 'nan', '1'],\n",
       " ['2018-04-05 16:00:04 UTC', '2781', '32', '40', '62', 'nan', '1'],\n",
       " ['2018-04-05 16:00:04 UTC', '2782', '32', '40', '62', 'nan', '1'],\n",
       " ['2018-04-05 16:00:04 UTC', '2783', '32', '40', '62', 'nan', '1'],\n",
       " ['2018-04-05 16:00:04 UTC', '2784', '32', '40', '62', 'nan', '1'],\n",
       " ['2018-04-05 16:00:04 UTC', '2785', '32', '40', '62', 'nan', '1'],\n",
       " ['2018-04-05 16:00:04 UTC', '2786', '32', '40', '62', 'nan', '1'],\n",
       " ['2018-04-05 16:00:04 UTC', '2787', '32', '40', '62', 'nan', '1'],\n",
       " ['2018-04-05 16:00:04 UTC', '2788', '32', '40', '62', 'nan', '1'],\n",
       " ['2018-04-05 16:00:04 UTC', '2789', '32', '40', '62', 'nan', '1'],\n",
       " ['2018-04-05 16:00:04 UTC', '2790', '32', '40', '62', 'nan', '1'],\n",
       " ['2018-04-05 16:00:04 UTC', '2791', '32', '40', '62', 'nan', '1'],\n",
       " ['2018-04-05 16:00:04 UTC', '2792', '32', '40', '62', 'nan', '1'],\n",
       " ['2018-04-05 16:00:04 UTC', '2793', '32', '40', '62', 'nan', '1'],\n",
       " ['2018-04-05 16:00:04 UTC', '2794', '32', '40', '62', 'nan', '1'],\n",
       " ['2018-04-05 16:00:04 UTC', '2795', '32', '40', '62', 'nan', '1'],\n",
       " ['2018-04-05 16:00:04 UTC', '2796', '32', '40', '62', 'nan', '1'],\n",
       " ['2018-04-05 16:00:04 UTC', '2797', '32', '40', '62', 'nan', '1'],\n",
       " ['2018-04-05 16:00:04 UTC', '2798', '32', '40', '62', 'nan', '1'],\n",
       " ['2018-04-05 16:00:04 UTC', '2799', '32', '40', '62', 'nan', '1'],\n",
       " ['2018-04-05 16:00:04 UTC', '2800', '32', '40', '62', 'nan', '1'],\n",
       " ['2018-04-05 16:00:04 UTC', '2801', '32', '40', '62', 'nan', '1'],\n",
       " ['2018-04-05 16:00:04 UTC', '2802', '32', '40', '62', 'nan', '1'],\n",
       " ['2018-04-05 16:00:04 UTC', '2803', '32', '40', '62', 'nan', '1'],\n",
       " ['2018-04-05 16:00:04 UTC', '2804', '32', '40', '62', 'nan', '1'],\n",
       " ['2018-04-05 16:00:04 UTC', '2805', '32', '40', '62', 'nan', '1'],\n",
       " ['2018-04-05 16:00:04 UTC', '2806', '32', '40', '62', 'nan', '1'],\n",
       " ['2018-04-05 16:00:04 UTC', '2807', '32', '40', '62', 'nan', '1'],\n",
       " ['2018-04-05 16:00:04 UTC', '2808', '32', '40', '62', 'nan', '1'],\n",
       " ['2018-04-05 16:00:04 UTC', '2809', '32', '40', '62', 'nan', '1'],\n",
       " ['2018-04-05 16:00:04 UTC', '2810', '32', '40', '62', 'nan', '1'],\n",
       " ['2018-04-05 16:00:04 UTC', '2811', '32', '40', '62', 'nan', '1'],\n",
       " ['2018-04-05 16:00:04 UTC', '2812', '32', '40', '62', 'nan', '1'],\n",
       " ['2018-04-05 16:00:04 UTC', '2813', '32', '40', '62', 'nan', '1'],\n",
       " ['2018-04-05 16:00:04 UTC', '2814', '32', '40', '62', 'nan', '1'],\n",
       " ['2018-04-05 16:00:04 UTC', '2815', '32', '40', '62', 'nan', '1'],\n",
       " ['2018-04-05 16:00:04 UTC', '2816', '32', '40', '62', 'nan', '1'],\n",
       " ['2018-04-05 16:00:04 UTC', '2817', '32', '40', '62', 'nan', '1'],\n",
       " ['2018-04-05 16:00:04 UTC', '2818', '32', '40', '62', 'nan', '1'],\n",
       " ['2018-04-05 16:00:04 UTC', '2819', '32', '40', '62', 'nan', '1'],\n",
       " ['2018-04-05 16:00:04 UTC', '2820', '32', '40', '62', 'nan', '1'],\n",
       " ['2018-04-05 16:00:04 UTC', '2821', '32', '40', '62', 'nan', '1'],\n",
       " ['2018-04-05 16:00:04 UTC', '2822', '32', '40', '62', 'nan', '1'],\n",
       " ['2018-04-05 16:00:04 UTC', '2823', '32', '40', '62', 'nan', '1'],\n",
       " ['2018-04-05 16:00:04 UTC', '2824', '32', '40', '62', 'nan', '1'],\n",
       " ['2018-04-05 16:00:04 UTC', '2825', '32', '40', '62', 'nan', '1'],\n",
       " ['2018-04-05 16:00:04 UTC', '2826', '32', '40', '62', 'nan', '1'],\n",
       " ['2018-04-05 16:00:04 UTC', '2827', '32', '40', '62', 'nan', '1'],\n",
       " ['2018-04-05 16:00:04 UTC', '2828', '32', '40', '62', 'nan', '1'],\n",
       " ['2018-04-05 16:00:04 UTC', '2829', '32', '40', '62', 'nan', '1'],\n",
       " ['2018-04-05 16:00:04 UTC', '2830', '32', '40', '62', 'nan', '1'],\n",
       " ['2018-04-05 16:00:04 UTC', '2831', '32', '40', '62', 'nan', '1'],\n",
       " ['2018-04-05 16:00:04 UTC', '2832', '32', '40', '62', 'nan', '1'],\n",
       " ['2018-04-05 16:00:04 UTC', '2833', '32', '40', '78', 'nan', '0'],\n",
       " ['2018-04-05 16:00:04 UTC', '2834', '32', '40', '78', 'nan', '0'],\n",
       " ['2018-04-05 16:00:04 UTC', '2835', '32', '40', '78', 'nan', '0'],\n",
       " ['2018-04-05 16:00:04 UTC', '2836', '32', '40', '78', 'nan', '0'],\n",
       " ['2018-04-05 16:00:04 UTC', '2837', '32', '40', '78', 'nan', '0'],\n",
       " ['2018-04-05 16:00:04 UTC', '2838', '32', '40', '78', 'nan', '0'],\n",
       " ['2018-04-05 16:00:04 UTC', '2839', '32', '40', '78', 'nan', '0'],\n",
       " ['2018-04-05 16:00:04 UTC', '2840', '32', '40', '78', 'nan', '0'],\n",
       " ['2018-04-05 16:00:04 UTC', '2841', '32', '40', '78', 'nan', '0'],\n",
       " ['2018-04-05 16:00:04 UTC', '2842', '32', '40', '78', 'nan', '0'],\n",
       " ['2018-04-05 16:00:04 UTC', '2843', '32', '40', '78', 'nan', '0'],\n",
       " ['2018-04-05 16:00:04 UTC', '2844', '32', '40', '78', 'nan', '0'],\n",
       " ['2018-04-05 16:00:04 UTC', '2845', '32', '40', '78', 'nan', '0'],\n",
       " ['2018-04-05 16:00:04 UTC', '2846', '32', '40', '78', 'nan', '0'],\n",
       " ['2018-04-05 16:00:04 UTC', '2847', '32', '40', '78', 'nan', '0'],\n",
       " ['2018-04-05 16:00:04 UTC', '2848', '32', '40', '78', 'nan', '0'],\n",
       " ['2018-04-05 16:00:04 UTC', '2849', '32', '40', '78', 'nan', '0'],\n",
       " ['2018-04-05 16:00:04 UTC', '2850', '32', '40', '78', 'nan', '0'],\n",
       " ['2018-04-05 16:00:04 UTC', '2851', '32', '40', '78', 'nan', '0'],\n",
       " ['2018-04-05 16:00:04 UTC', '2852', '32', '40', '78', 'nan', '0'],\n",
       " ['2018-04-05 16:00:04 UTC', '2853', '32', '40', '78', 'nan', '0'],\n",
       " ['2018-04-05 16:00:04 UTC', '2854', '32', '40', '78', 'nan', '0'],\n",
       " ['2018-04-05 16:00:04 UTC', '2855', '32', '40', '78', 'nan', '0'],\n",
       " ['2018-04-05 16:00:04 UTC', '2856', '32', '40', '78', 'nan', '0'],\n",
       " ['2018-04-05 16:00:04 UTC', '2857', '32', '40', '78', 'nan', '0'],\n",
       " ['2018-04-05 16:00:04 UTC', '2858', '32', '40', '78', 'nan', '0'],\n",
       " ['2018-04-05 16:00:04 UTC', '2859', '32', '40', '78', 'nan', '0'],\n",
       " ['2018-04-05 16:00:04 UTC', '2860', '32', '40', '78', 'nan', '0'],\n",
       " ['2018-04-05 16:00:04 UTC', '2861', '32', '40', '78', 'nan', '0'],\n",
       " ['2018-04-05 16:00:04 UTC', '2862', '32', '40', '78', 'nan', '0'],\n",
       " ['2018-04-05 16:00:04 UTC', '2863', '32', '40', '78', 'nan', '0'],\n",
       " ['2018-04-05 16:00:04 UTC', '2864', '32', '40', '78', 'nan', '0'],\n",
       " ['2018-04-05 16:00:04 UTC', '2865', '32', '40', '78', 'nan', '0'],\n",
       " ['2018-04-05 16:00:04 UTC', '2866', '32', '40', '78', 'nan', '0'],\n",
       " ['2018-04-05 16:00:04 UTC', '2867', '32', '40', '78', 'nan', '0'],\n",
       " ['2018-04-05 16:00:04 UTC', '2868', '32', '40', '78', 'nan', '0'],\n",
       " ['2018-04-05 16:00:04 UTC', '2869', '32', '40', '78', 'nan', '0'],\n",
       " ['2018-04-05 16:00:04 UTC', '2870', '32', '40', '78', 'nan', '0'],\n",
       " ['2018-04-05 16:00:04 UTC', '2871', '32', '40', '78', 'nan', '0'],\n",
       " ['2018-04-05 16:00:04 UTC', '2872', '32', '40', '78', 'nan', '0'],\n",
       " ['2018-04-05 16:00:04 UTC', '2873', '32', '40', '78', 'nan', '0'],\n",
       " ['2018-04-05 16:00:04 UTC', '2874', '32', '40', '78', 'nan', '0'],\n",
       " ['2018-04-05 16:00:04 UTC', '2875', '32', '40', '78', 'nan', '0'],\n",
       " ['2018-04-05 16:00:04 UTC', '2876', '32', '40', '78', 'nan', '0'],\n",
       " ['2018-04-05 16:00:04 UTC', '2877', '32', '40', '78', 'nan', '0'],\n",
       " ['2018-04-05 16:00:04 UTC', '2878', '32', '40', '78', 'nan', '0'],\n",
       " ['2018-04-05 16:00:04 UTC', '2879', '32', '40', '78', 'nan', '0'],\n",
       " ['2018-04-05 16:00:04 UTC', '2880', '32', '40', '78', 'nan', '0'],\n",
       " ['2018-04-05 16:00:04 UTC', '2881', '32', '40', '78', 'nan', '0'],\n",
       " ['2018-04-05 16:00:04 UTC', '2882', '32', '40', '78', 'nan', '0'],\n",
       " ['2018-04-05 16:00:04 UTC', '2883', '32', '40', '78', 'nan', '0'],\n",
       " ['2018-04-05 16:00:04 UTC', '2884', '32', '40', '78', 'nan', '0'],\n",
       " ['2018-04-05 16:00:04 UTC', '2885', '32', '40', '78', 'nan', '0'],\n",
       " ['2018-04-05 16:00:04 UTC', '2886', '32', '40', '78', 'nan', '0'],\n",
       " ['2018-04-05 16:00:04 UTC', '2887', '32', '40', '78', 'nan', '0'],\n",
       " ['2018-04-05 16:00:04 UTC', '2888', '32', '40', '78', 'nan', '0'],\n",
       " ['2018-04-05 16:00:04 UTC', '2889', '32', '40', '78', 'nan', '0'],\n",
       " ['2018-04-05 16:00:04 UTC', '2890', '32', '40', '78', 'nan', '0'],\n",
       " ['2018-04-05 16:00:04 UTC', '2891', '32', '40', '78', 'nan', '0'],\n",
       " ['2018-04-05 16:00:04 UTC', '2892', '32', '40', '78', 'nan', '0'],\n",
       " ['2018-04-05 16:00:04 UTC', '2893', '32', '40', '78', 'nan', '0'],\n",
       " ['2018-04-05 16:00:04 UTC', '2894', '32', '40', '78', 'nan', '0'],\n",
       " ['2018-04-05 16:00:04 UTC', '2895', '32', '40', '78', 'nan', '0'],\n",
       " ['2018-04-05 16:00:04 UTC', '2896', '32', '40', '78', 'nan', '0'],\n",
       " ['2018-04-05 16:00:04 UTC', '2897', '32', '40', '78', 'nan', '0'],\n",
       " ['2018-04-05 16:00:04 UTC', '2898', '32', '40', '78', 'nan', '0'],\n",
       " ['2018-04-05 16:00:04 UTC', '2899', '32', '40', '78', 'nan', '0'],\n",
       " ['2018-04-05 16:00:04 UTC', '2900', '32', '40', '78', 'nan', '0'],\n",
       " ['2018-04-05 16:00:04 UTC', '2901', '32', '40', '78', 'nan', '0'],\n",
       " ['2018-04-05 16:00:04 UTC', '2902', '32', '40', '78', 'nan', '0'],\n",
       " ['2018-04-05 16:00:04 UTC', '2903', '32', '40', '78', 'nan', '0'],\n",
       " ['2018-04-05 16:00:04 UTC', '2904', '32', '40', '78', 'nan', '0'],\n",
       " ['2018-04-05 16:00:04 UTC', '2905', '32', '40', '78', 'nan', '0'],\n",
       " ['2018-04-05 16:00:04 UTC', '2906', '32', '40', '78', 'nan', '0'],\n",
       " ['2018-04-05 16:00:04 UTC', '2907', '32', '40', '78', 'nan', '0'],\n",
       " ['2018-04-05 16:00:04 UTC', '2908', '32', '40', '78', 'nan', '0'],\n",
       " ['2018-04-05 16:00:04 UTC', '2909', '32', '40', '78', 'nan', '0'],\n",
       " ['2018-04-05 16:00:04 UTC', '2910', '32', '40', '78', 'nan', '0'],\n",
       " ['2018-04-05 16:00:04 UTC', '2911', '32', '40', '78', 'nan', '0'],\n",
       " ['2018-04-05 16:00:04 UTC', '2912', '32', '40', '78', 'nan', '0'],\n",
       " ['2018-04-05 16:00:04 UTC', '2913', '32', '40', '78', 'nan', '0'],\n",
       " ['2018-04-05 16:00:04 UTC', '2914', '32', '40', '78', 'nan', '0'],\n",
       " ['2018-04-05 16:00:04 UTC', '2915', '32', '40', '78', 'nan', '0'],\n",
       " ['2018-04-05 16:00:04 UTC', '2916', '32', '40', '78', 'nan', '0'],\n",
       " ['2018-04-05 16:00:04 UTC', '2917', '32', '40', '78', 'nan', '0'],\n",
       " ['2018-04-05 16:00:04 UTC', '2918', '32', '40', '78', 'nan', '0'],\n",
       " ['2018-04-05 16:00:04 UTC', '2919', '32', '40', '78', 'nan', '0'],\n",
       " ['2018-04-05 16:00:04 UTC', '2920', '32', '40', '78', 'nan', '0'],\n",
       " ['2018-04-05 16:00:04 UTC', '2921', '32', '40', '78', 'nan', '0'],\n",
       " ['2018-04-05 16:00:04 UTC', '2922', '32', '40', '78', 'nan', '0'],\n",
       " ['2018-04-05 16:00:04 UTC', '2923', '32', '40', '78', 'nan', '0'],\n",
       " ['2018-04-05 16:00:04 UTC', '2924', '32', '40', '78', 'nan', '0'],\n",
       " ['2018-04-05 16:00:04 UTC', '2925', '32', '40', '78', 'nan', '0'],\n",
       " ['2018-04-05 16:00:04 UTC', '2926', '32', '40', '78', 'nan', '0'],\n",
       " ['2018-04-05 16:00:04 UTC', '2927', '32', '40', '78', 'nan', '0'],\n",
       " ['2018-04-05 16:00:04 UTC', '2928', '32', '40', '78', 'nan', '0'],\n",
       " ['2018-04-05 16:00:04 UTC', '2929', '32', '40', '78', 'nan', '0'],\n",
       " ['2018-04-05 16:00:04 UTC', '2930', '32', '40', '78', 'nan', '0'],\n",
       " ['2018-04-05 16:00:04 UTC', '2931', '32', '40', '78', 'nan', '0'],\n",
       " ['2018-04-05 16:00:04 UTC', '2932', '32', '40', '78', 'nan', '0'],\n",
       " ['2018-04-05 16:00:04 UTC', '2933', '32', '40', '78', 'nan', '0'],\n",
       " ['2018-04-05 16:00:04 UTC', '2934', '32', '40', '78', 'nan', '0'],\n",
       " ['2018-04-05 16:00:04 UTC', '2935', '32', '40', '78', 'nan', '0'],\n",
       " ['2018-04-05 16:00:04 UTC', '2936', '32', '40', '78', 'nan', '0'],\n",
       " ['2018-04-05 16:00:04 UTC', '2937', '32', '40', '78', 'nan', '0'],\n",
       " ['2018-04-05 16:00:04 UTC', '2938', '32', '40', '78', 'nan', '0'],\n",
       " ['2018-04-05 16:00:04 UTC', '2939', '32', '40', '78', 'nan', '0'],\n",
       " ['2018-04-05 16:00:04 UTC', '2940', '32', '40', '78', 'nan', '0'],\n",
       " ['2018-04-05 16:00:04 UTC', '2941', '32', '40', '78', 'nan', '0'],\n",
       " ['2018-04-05 16:00:04 UTC', '2942', '32', '40', '78', 'nan', '0'],\n",
       " ['2018-04-05 16:00:04 UTC', '2943', '32', '40', '78', 'nan', '0'],\n",
       " ['2018-04-05 16:00:04 UTC', '2944', '32', '40', '78', 'nan', '0'],\n",
       " ['2018-04-05 16:00:04 UTC', '2945', '32', '40', '78', 'nan', '0'],\n",
       " ['2018-04-05 16:00:04 UTC', '2946', '32', '40', '78', 'nan', '0'],\n",
       " ['2018-04-05 16:00:04 UTC', '2947', '32', '40', '78', 'nan', '0'],\n",
       " ['2018-04-05 16:00:04 UTC', '2948', '32', '40', '78', 'nan', '0'],\n",
       " ['2018-04-05 16:00:04 UTC', '2949', '32', '40', '78', 'nan', '0'],\n",
       " ['2018-04-05 16:00:04 UTC', '2950', '32', '40', '78', 'nan', '0'],\n",
       " ['2018-04-05 16:00:04 UTC', '2951', '32', '40', '78', 'nan', '0'],\n",
       " ['2018-04-05 16:00:04 UTC', '2952', '32', '40', '78', 'nan', '0'],\n",
       " ['2018-04-05 16:00:04 UTC', '2953', '32', '40', '78', 'nan', '0'],\n",
       " ['2018-04-05 16:00:04 UTC', '2954', '32', '40', '78', 'nan', '0'],\n",
       " ['2018-04-05 16:00:04 UTC', '2955', '32', '40', '78', 'nan', '0'],\n",
       " ['2018-04-05 16:00:04 UTC', '2956', '32', '40', '78', 'nan', '0'],\n",
       " ['2018-04-05 16:00:04 UTC', '2957', '32', '40', '78', 'nan', '0'],\n",
       " ['2018-04-05 16:00:04 UTC', '2958', '32', '40', '78', 'nan', '0'],\n",
       " ['2018-04-05 16:00:04 UTC', '2959', '32', '40', '78', 'nan', '0'],\n",
       " ['2018-04-05 16:00:04 UTC', '2960', '32', '40', '78', 'nan', '0'],\n",
       " ['2018-04-05 16:00:04 UTC', '2961', '32', '40', '78', 'nan', '0'],\n",
       " ['2018-04-05 16:00:04 UTC', '2962', '32', '40', '78', 'nan', '0'],\n",
       " ['2018-04-05 16:00:04 UTC', '2963', '32', '40', '78', 'nan', '0'],\n",
       " ['2018-04-05 16:00:04 UTC', '2964', '32', '40', '78', 'nan', '0'],\n",
       " ['2018-04-05 16:00:04 UTC', '2965', '32', '40', '78', 'nan', '0'],\n",
       " ['2018-04-05 16:00:04 UTC', '2966', '32', '40', '78', 'nan', '0'],\n",
       " ['2018-04-05 16:00:04 UTC', '2967', '32', '40', '78', 'nan', '0'],\n",
       " ['2018-04-05 16:00:04 UTC', '2968', '32', '40', '78', 'nan', '0'],\n",
       " ['2018-04-05 16:00:04 UTC', '2969', '32', '40', '78', 'nan', '0'],\n",
       " ['2018-04-05 16:00:04 UTC', '2970', '32', '40', '78', 'nan', '0'],\n",
       " ['2018-04-05 16:00:04 UTC', '2971', '32', '40', '78', 'nan', '0'],\n",
       " ['2018-04-05 16:00:04 UTC', '2972', '32', '40', '78', 'nan', '0'],\n",
       " ['2018-04-05 16:00:04 UTC', '2973', '32', '40', '78', 'nan', '0'],\n",
       " ['2018-04-05 16:00:04 UTC', '2974', '32', '40', '78', 'nan', '0'],\n",
       " ['2018-04-05 16:00:04 UTC', '2975', '32', '40', '78', 'nan', '0'],\n",
       " ['2018-04-05 16:00:04 UTC', '2976', '32', '40', '78', 'nan', '0'],\n",
       " ['2018-04-05 16:00:04 UTC', '2977', '32', '40', '78', 'nan', '0'],\n",
       " ['2018-04-05 16:00:04 UTC', '2978', '32', '40', '78', 'nan', '0'],\n",
       " ['2018-04-05 16:00:04 UTC', '2979', '32', '40', '78', 'nan', '0'],\n",
       " ['2018-04-05 16:00:04 UTC', '2980', '32', '40', '78', 'nan', '0'],\n",
       " ['2018-04-05 16:00:04 UTC', '2981', '32', '40', '78', 'nan', '0'],\n",
       " ['2018-04-05 16:00:04 UTC', '2982', '32', '40', '78', 'nan', '0'],\n",
       " ['2018-04-05 16:00:04 UTC', '2983', '32', '40', '78', 'nan', '0'],\n",
       " ['2018-04-05 16:00:04 UTC', '2984', '32', '40', '78', 'nan', '0'],\n",
       " ['2018-04-05 16:00:04 UTC', '2985', '32', '40', '78', 'nan', '0'],\n",
       " ['2018-04-05 16:00:04 UTC', '2986', '32', '40', '78', 'nan', '0'],\n",
       " ['2018-04-05 16:00:04 UTC', '2987', '32', '40', '78', 'nan', '0'],\n",
       " ['2018-04-05 16:00:04 UTC', '2988', '32', '40', '78', 'nan', '0'],\n",
       " ['2018-04-05 16:00:04 UTC', '2989', '32', '40', '78', 'nan', '0'],\n",
       " ['2018-04-05 16:00:04 UTC', '2990', '32', '40', '78', 'nan', '0'],\n",
       " ['2018-04-05 16:00:04 UTC', '2991', '32', '40', '78', 'nan', '0'],\n",
       " ['2018-04-05 16:00:04 UTC', '2992', '32', '40', '78', 'nan', '0'],\n",
       " ['2018-04-05 16:00:04 UTC', '2993', '32', '40', '78', 'nan', '0'],\n",
       " ['2018-04-05 16:00:04 UTC', '2994', '32', '40', '78', 'nan', '0'],\n",
       " ['2018-04-05 16:00:04 UTC', '2995', '32', '40', '78', 'nan', '0'],\n",
       " ['2018-04-05 16:00:04 UTC', '2996', '32', '40', '78', 'nan', '0'],\n",
       " ['2018-04-05 16:00:04 UTC', '2997', '32', '40', '78', 'nan', '0'],\n",
       " ['2018-04-05 16:00:04 UTC', '2998', '32', '40', '78', 'nan', '0'],\n",
       " ['2018-04-05 16:00:04 UTC', '2999', '32', '40', '78', 'nan', '0'],\n",
       " ['2018-04-05 16:00:04 UTC', '3000', '32', '40', '78', 'nan', '0'],\n",
       " ['2018-04-05 16:00:04 UTC', '3001', '32', '40', '78', 'nan', '0'],\n",
       " ['2018-04-05 16:00:04 UTC', '3002', '32', '40', '78', 'nan', '0'],\n",
       " ['2018-04-05 16:00:04 UTC', '3003', '32', '40', '78', 'nan', '0'],\n",
       " ['2018-04-05 16:00:04 UTC', '3004', '32', '40', '78', 'nan', '0'],\n",
       " ['2018-04-05 16:00:04 UTC', '3005', '32', '40', '78', 'nan', '0'],\n",
       " ['2018-04-05 16:00:04 UTC', '3006', '32', '40', '78', 'nan', '0'],\n",
       " ['2018-04-05 16:00:04 UTC', '3007', '32', '40', '78', 'nan', '0'],\n",
       " ['2018-04-05 16:00:04 UTC', '3008', '32', '40', '78', 'nan', '0'],\n",
       " ['2018-04-05 16:00:04 UTC', '3009', '32', '40', '78', 'nan', '0'],\n",
       " ['2018-04-05 16:00:04 UTC', '3010', '32', '40', '78', 'nan', '0'],\n",
       " ['2018-04-05 16:00:04 UTC', '3011', '32', '40', '78', 'nan', '0'],\n",
       " ['2018-04-05 16:00:04 UTC', '3012', '32', '40', '78', 'nan', '0'],\n",
       " ['2018-04-05 16:00:04 UTC', '3013', '32', '40', '78', 'nan', '0'],\n",
       " ['2018-04-05 16:00:04 UTC', '3014', '32', '40', '78', 'nan', '0'],\n",
       " ['2018-04-05 16:00:04 UTC', '3015', '32', '40', '78', 'nan', '0'],\n",
       " ['2018-04-05 16:00:04 UTC', '3016', '32', '40', '78', 'nan', '0'],\n",
       " ['2018-04-05 16:00:04 UTC', '3017', '32', '40', '78', 'nan', '0'],\n",
       " ['2018-04-05 16:00:04 UTC', '3018', '32', '40', '78', 'nan', '0'],\n",
       " ['2018-04-05 16:00:04 UTC', '3019', '32', '40', '78', 'nan', '0'],\n",
       " ['2018-04-05 16:00:04 UTC', '3020', '32', '40', '78', 'nan', '0'],\n",
       " ['2018-04-05 16:00:04 UTC', '3021', '32', '40', '78', 'nan', '0'],\n",
       " ['2018-04-05 16:00:04 UTC', '3022', '32', '40', '78', 'nan', '0'],\n",
       " ['2018-04-05 16:00:04 UTC', '3023', '32', '40', '78', 'nan', '0'],\n",
       " ['2018-04-05 16:00:04 UTC', '3024', '32', '40', '78', 'nan', '0'],\n",
       " ['2018-04-05 16:00:04 UTC', '3025', '32', '40', '78', 'nan', '0'],\n",
       " ['2018-04-05 16:00:04 UTC', '3026', '32', '40', '78', 'nan', '0'],\n",
       " ['2018-04-05 16:00:04 UTC', '3027', '32', '40', '78', 'nan', '0'],\n",
       " ['2018-04-05 16:00:04 UTC', '3028', '32', '40', '78', 'nan', '0'],\n",
       " ['2018-04-05 16:00:04 UTC', '3029', '32', '40', '78', 'nan', '0'],\n",
       " ['2018-04-05 16:00:04 UTC', '3030', '32', '40', '78', 'nan', '0'],\n",
       " ['2018-04-05 16:00:04 UTC', '3031', '32', '40', '78', 'nan', '0'],\n",
       " ['2018-04-05 16:00:04 UTC', '3032', '32', '40', '78', 'nan', '0'],\n",
       " ['2018-04-05 16:00:04 UTC', '3033', '32', '40', '78', 'nan', '0'],\n",
       " ['2018-04-05 16:00:04 UTC', '3034', '32', '40', '78', 'nan', '0'],\n",
       " ['2018-04-05 16:00:04 UTC', '3035', '32', '40', '78', 'nan', '0'],\n",
       " ['2018-04-05 16:00:04 UTC', '3036', '32', '40', '78', 'nan', '0'],\n",
       " ['2018-04-05 16:00:04 UTC', '3037', '32', '40', '78', 'nan', '0'],\n",
       " ['2018-04-05 16:00:04 UTC', '3038', '32', '40', '78', 'nan', '0'],\n",
       " ['2018-04-05 16:00:04 UTC', '3039', '32', '40', '78', 'nan', '0'],\n",
       " ['2018-04-05 16:00:04 UTC', '3040', '32', '40', '78', 'nan', '0'],\n",
       " ['2018-04-05 16:00:04 UTC', '3041', '32', '40', '78', 'nan', '0'],\n",
       " ['2018-04-05 16:00:04 UTC', '3042', '32', '40', '78', 'nan', '0'],\n",
       " ['2018-04-05 16:00:04 UTC', '3043', '32', '40', '78', 'nan', '0'],\n",
       " ['2018-04-05 16:00:04 UTC', '3044', '32', '40', '78', 'nan', '0'],\n",
       " ['2018-04-05 16:00:04 UTC', '3045', '32', '40', '78', 'nan', '0'],\n",
       " ['2018-04-05 16:00:04 UTC', '3046', '32', '40', '62', 'nan', '1'],\n",
       " ['2018-04-05 16:00:04 UTC', '3047', '32', '40', '62', 'nan', '1'],\n",
       " ['2018-04-05 16:00:04 UTC', '3048', '32', '40', '62', 'nan', '1'],\n",
       " ['2018-04-05 16:00:04 UTC', '3049', '32', '40', '62', 'nan', '1'],\n",
       " ['2018-04-05 16:00:04 UTC', '3050', '32', '40', '62', 'nan', '1'],\n",
       " ['2018-04-05 16:00:04 UTC', '3051', '32', '40', '62', 'nan', '1'],\n",
       " ['2018-04-05 16:00:04 UTC', '3052', '32', '40', '62', 'nan', '1'],\n",
       " ['2018-04-05 16:00:04 UTC', '3053', '32', '40', '62', 'nan', '1'],\n",
       " ['2018-04-05 16:00:04 UTC', '3054', '32', '40', '62', 'nan', '1'],\n",
       " ['2018-04-05 16:00:04 UTC', '3055', '32', '40', '62', 'nan', '1'],\n",
       " ['2018-04-05 16:00:04 UTC', '3056', '32', '40', '62', 'nan', '1'],\n",
       " ['2018-04-05 16:00:04 UTC', '3057', '32', '40', '62', 'nan', '1'],\n",
       " ['2018-04-05 16:00:04 UTC', '3058', '32', '40', '62', 'nan', '1'],\n",
       " ['2018-04-05 16:00:04 UTC', '3059', '32', '40', '62', 'nan', '1'],\n",
       " ['2018-04-05 16:00:04 UTC', '3060', '32', '40', '62', 'nan', '1'],\n",
       " ['2018-04-05 16:00:04 UTC', '3061', '32', '40', '62', 'nan', '1'],\n",
       " ['2018-04-05 16:00:04 UTC', '3062', '32', '40', '62', 'nan', '1'],\n",
       " ['2018-04-05 16:00:04 UTC', '3063', '32', '40', '62', 'nan', '1'],\n",
       " ['2018-04-05 16:00:04 UTC', '3064', '32', '40', '62', 'nan', '1'],\n",
       " ['2018-04-05 16:00:04 UTC', '3065', '32', '40', '62', 'nan', '1'],\n",
       " ['2018-04-05 16:00:04 UTC', '3066', '32', '40', '62', 'nan', '1'],\n",
       " ['2018-04-05 16:00:04 UTC', '3067', '32', '40', '62', 'nan', '1'],\n",
       " ['2018-04-05 16:00:04 UTC', '3068', '32', '40', '62', 'nan', '1'],\n",
       " ['2018-04-05 16:00:04 UTC', '3069', '32', '40', '62', 'nan', '1'],\n",
       " ['2018-04-05 16:00:04 UTC', '3070', '32', '40', '62', 'nan', '1'],\n",
       " ['2018-04-05 16:00:04 UTC', '3071', '32', '40', '62', 'nan', '1'],\n",
       " ['2018-04-05 16:00:04 UTC', '3072', '32', '40', '62', 'nan', '1'],\n",
       " ['2018-04-05 16:00:04 UTC', '3073', '32', '40', '62', 'nan', '1'],\n",
       " ['2018-04-05 16:00:04 UTC', '3074', '32', '40', '62', 'nan', '1'],\n",
       " ['2018-04-05 16:00:04 UTC', '3075', '32', '40', '62', 'nan', '1'],\n",
       " ['2018-04-05 16:00:04 UTC', '3076', '32', '40', '62', 'nan', '1'],\n",
       " ['2018-04-05 16:00:04 UTC', '3077', '32', '40', '62', 'nan', '1'],\n",
       " ['2018-04-05 16:00:04 UTC', '3078', '32', '40', '62', 'nan', '1'],\n",
       " ['2018-04-05 16:00:04 UTC', '3079', '32', '40', '62', 'nan', '1'],\n",
       " ['2018-04-05 16:00:04 UTC', '3080', '32', '40', '62', 'nan', '1'],\n",
       " ['2018-04-05 16:00:04 UTC', '3081', '32', '40', '62', 'nan', '1'],\n",
       " ['2018-04-05 16:00:04 UTC', '3082', '32', '40', '62', 'nan', '1'],\n",
       " ['2018-04-05 16:00:04 UTC', '3083', '32', '40', '62', 'nan', '1'],\n",
       " ['2018-04-05 16:00:04 UTC', '3084', '32', '40', '62', 'nan', '1'],\n",
       " ['2018-04-05 16:00:04 UTC', '3085', '32', '40', '62', 'nan', '1'],\n",
       " ['2018-04-05 16:00:04 UTC', '3086', '32', '40', '62', 'nan', '1'],\n",
       " ['2018-04-05 16:00:04 UTC', '3087', '32', '40', '62', 'nan', '1'],\n",
       " ['2018-04-05 16:00:04 UTC', '3088', '32', '40', '62', 'nan', '1'],\n",
       " ['2018-04-05 16:00:04 UTC', '3089', '32', '40', '62', 'nan', '1'],\n",
       " ['2018-04-05 16:00:04 UTC', '3090', '32', '40', '62', 'nan', '1'],\n",
       " ['2018-04-05 16:00:04 UTC', '3091', '32', '40', '62', 'nan', '1'],\n",
       " ['2018-04-05 16:00:04 UTC', '3092', '32', '40', '62', 'nan', '1'],\n",
       " ['2018-04-05 16:00:04 UTC', '3093', '32', '40', '62', 'nan', '1'],\n",
       " ['2018-04-05 16:00:04 UTC', '3094', '32', '40', '62', 'nan', '1'],\n",
       " ['2018-04-05 16:00:04 UTC', '3095', '32', '40', '62', 'nan', '1'],\n",
       " ['2018-04-05 16:00:04 UTC', '3096', '32', '40', '62', 'nan', '1'],\n",
       " ['2018-04-05 16:00:04 UTC', '3097', '32', '40', '62', 'nan', '1'],\n",
       " ['2018-04-05 16:00:04 UTC', '3098', '32', '40', '62', 'nan', '1'],\n",
       " ['2018-04-05 16:00:04 UTC', '3099', '32', '40', '62', 'nan', '1'],\n",
       " ['2018-04-05 16:00:04 UTC', '3100', '32', '40', '62', 'nan', '1'],\n",
       " ['2018-04-05 16:00:04 UTC', '3101', '32', '40', '62', 'nan', '1'],\n",
       " ['2018-04-05 16:00:04 UTC', '3102', '32', '40', '62', 'nan', '1'],\n",
       " ['2018-04-05 16:00:04 UTC', '3103', '32', '40', '62', 'nan', '1'],\n",
       " ['2018-04-05 16:00:04 UTC', '3104', '32', '40', '62', 'nan', '1'],\n",
       " ['2018-04-05 16:00:04 UTC', '3105', '32', '40', '62', 'nan', '1'],\n",
       " ['2018-04-05 16:00:04 UTC', '3106', '32', '40', '62', 'nan', '1'],\n",
       " ['2018-04-05 16:00:04 UTC', '3107', '32', '40', '62', 'nan', '1'],\n",
       " ['2018-04-05 16:00:04 UTC', '3108', '32', '40', '62', 'nan', '1'],\n",
       " ['2018-04-05 16:00:04 UTC', '3109', '32', '40', '62', 'nan', '1'],\n",
       " ['2018-04-05 16:00:04 UTC', '3110', '32', '40', '62', 'nan', '1'],\n",
       " ['2018-04-05 16:00:04 UTC', '3111', '32', '40', '62', 'nan', '1'],\n",
       " ['2018-04-05 16:00:04 UTC', '3112', '32', '40', '62', 'nan', '1'],\n",
       " ['2018-04-05 16:00:04 UTC', '3113', '32', '40', '62', 'nan', '1'],\n",
       " ['2018-04-05 16:00:04 UTC', '3114', '32', '40', '62', 'nan', '1'],\n",
       " ['2018-04-05 16:00:04 UTC', '3115', '32', '40', '62', 'nan', '1'],\n",
       " ['2018-04-05 16:00:04 UTC', '3116', '32', '40', '62', 'nan', '1'],\n",
       " ['2018-04-05 16:00:04 UTC', '3117', '32', '40', '62', 'nan', '1'],\n",
       " ['2018-04-05 16:00:04 UTC', '3118', '32', '40', '62', 'nan', '1'],\n",
       " ['2018-04-05 16:00:04 UTC', '3119', '32', '40', '62', 'nan', '1'],\n",
       " ['2018-04-05 16:00:04 UTC', '3120', '32', '40', '62', 'nan', '1'],\n",
       " ['2018-04-05 16:00:04 UTC', '3121', '32', '40', '62', 'nan', '1'],\n",
       " ['2018-04-05 16:00:04 UTC', '3122', '32', '40', '62', 'nan', '1'],\n",
       " ['2018-04-05 16:00:04 UTC', '3123', '32', '40', '62', 'nan', '1'],\n",
       " ['2018-04-05 16:00:04 UTC', '3124', '32', '40', '62', 'nan', '1'],\n",
       " ['2018-04-05 16:00:04 UTC', '3125', '32', '40', '62', 'nan', '1'],\n",
       " ['2018-04-05 16:00:04 UTC', '3126', '32', '40', '62', 'nan', '1'],\n",
       " ['2018-04-05 16:00:04 UTC', '3127', '32', '40', '62', 'nan', '1'],\n",
       " ['2018-04-05 16:00:04 UTC', '3128', '32', '40', '62', 'nan', '1'],\n",
       " ['2018-04-05 16:00:04 UTC', '3129', '32', '40', '62', 'nan', '1'],\n",
       " ['2018-04-05 16:00:04 UTC', '3130', '32', '40', '62', 'nan', '1'],\n",
       " ['2018-04-05 16:00:04 UTC', '3131', '32', '40', '62', 'nan', '1'],\n",
       " ['2018-04-05 16:00:04 UTC', '3132', '32', '40', '62', 'nan', '1'],\n",
       " ['2018-04-05 16:00:04 UTC', '3133', '32', '40', '62', 'nan', '1'],\n",
       " ['2018-04-05 16:00:04 UTC', '3134', '32', '40', '62', 'nan', '1'],\n",
       " ['2018-04-05 16:00:04 UTC', '3135', '32', '40', '62', 'nan', '1'],\n",
       " ['2018-04-05 16:00:04 UTC', '3136', '32', '40', '62', 'nan', '1'],\n",
       " ['2018-04-05 16:00:04 UTC', '3137', '32', '40', '62', 'nan', '1'],\n",
       " ['2018-04-05 16:00:04 UTC', '3138', '32', '40', '62', 'nan', '1'],\n",
       " ['2018-04-05 16:00:04 UTC', '3139', '32', '40', '62', 'nan', '1'],\n",
       " ['2018-04-05 16:00:04 UTC', '3140', '32', '40', '62', 'nan', '1'],\n",
       " ['2018-04-05 16:00:04 UTC', '3141', '32', '40', '62', 'nan', '1'],\n",
       " ['2018-04-05 16:00:04 UTC', '3142', '32', '40', '62', 'nan', '1'],\n",
       " ['2018-04-05 16:00:04 UTC', '3143', '32', '40', '62', 'nan', '1'],\n",
       " ['2018-04-05 16:00:04 UTC', '3144', '32', '40', '62', 'nan', '1'],\n",
       " ['2018-04-05 16:00:04 UTC', '3145', '32', '40', '62', 'nan', '1'],\n",
       " ['2018-04-05 16:00:04 UTC', '3146', '32', '40', '62', 'nan', '1'],\n",
       " ['2018-04-05 16:00:04 UTC', '3147', '32', '40', '62', 'nan', '1'],\n",
       " ['2018-04-05 16:00:04 UTC', '3148', '32', '40', '62', 'nan', '1'],\n",
       " ['2018-04-05 16:00:04 UTC', '3149', '32', '40', '62', 'nan', '1'],\n",
       " ['2018-04-05 16:00:04 UTC', '3150', '32', '40', '62', 'nan', '1'],\n",
       " ['2018-04-05 16:00:04 UTC', '3151', '32', '40', '62', 'nan', '1'],\n",
       " ['2018-04-05 16:00:04 UTC', '3152', '32', '40', '62', 'nan', '1'],\n",
       " ['2018-04-05 16:00:04 UTC', '3153', '32', '39', '62', 'nan', '1'],\n",
       " ['2018-04-05 16:00:04 UTC', '3154', '32', '39', '62', 'nan', '1'],\n",
       " ['2018-04-05 16:00:04 UTC', '3155', '32', '39', '62', 'nan', '1'],\n",
       " ['2018-04-05 16:00:04 UTC', '3156', '32', '39', '62', 'nan', '1'],\n",
       " ['2018-04-05 16:00:04 UTC', '3157', '32', '39', '62', 'nan', '1'],\n",
       " ['2018-04-05 16:00:04 UTC', '3158', '32', '39', '62', 'nan', '1'],\n",
       " ['2018-04-05 16:00:04 UTC', '3159', '32', '39', '62', 'nan', '1'],\n",
       " ['2018-04-05 16:00:04 UTC', '3160', '32', '39', '62', 'nan', '1'],\n",
       " ['2018-04-05 16:00:04 UTC', '3161', '32', '39', '62', 'nan', '1'],\n",
       " ['2018-04-05 16:00:04 UTC', '3162', '32', '39', '62', 'nan', '1'],\n",
       " ['2018-04-05 16:00:04 UTC', '3163', '32', '39', '62', 'nan', '1'],\n",
       " ['2018-04-05 16:00:04 UTC', '3164', '32', '39', '62', 'nan', '1'],\n",
       " ['2018-04-05 16:00:04 UTC', '3165', '32', '39', '62', 'nan', '1'],\n",
       " ['2018-04-05 16:00:04 UTC', '3166', '32', '39', '62', 'nan', '1'],\n",
       " ['2018-04-05 16:00:04 UTC', '3167', '32', '39', '62', 'nan', '1'],\n",
       " ['2018-04-05 16:00:04 UTC', '3168', '32', '39', '62', 'nan', '1'],\n",
       " ['2018-04-05 16:00:04 UTC', '3169', '32', '39', '62', 'nan', '1'],\n",
       " ['2018-04-05 16:00:04 UTC', '3170', '32', '39', '62', 'nan', '1'],\n",
       " ['2018-04-05 16:00:04 UTC', '3171', '32', '39', '62', 'nan', '1'],\n",
       " ['2018-04-05 16:00:04 UTC', '3172', '32', '39', '62', 'nan', '1'],\n",
       " ['2018-04-05 16:00:04 UTC', '3173', '32', '39', '62', 'nan', '1'],\n",
       " ['2018-04-05 16:00:04 UTC', '3174', '32', '39', '62', 'nan', '1'],\n",
       " ['2018-04-05 16:00:04 UTC', '3175', '32', '39', '62', 'nan', '1'],\n",
       " ['2018-04-05 16:00:04 UTC', '3176', '32', '39', '62', 'nan', '1'],\n",
       " ['2018-04-05 16:00:04 UTC', '3177', '32', '39', '62', 'nan', '1'],\n",
       " ['2018-04-05 16:00:04 UTC', '3178', '32', '39', '62', 'nan', '1'],\n",
       " ['2018-04-05 16:00:04 UTC', '3179', '32', '39', '62', 'nan', '1'],\n",
       " ['2018-04-05 16:00:04 UTC', '3180', '32', '39', '62', 'nan', '1'],\n",
       " ['2018-04-05 16:00:04 UTC', '3181', '32', '39', '62', 'nan', '1'],\n",
       " ['2018-04-05 16:00:04 UTC', '3182', '32', '39', '62', 'nan', '1'],\n",
       " ['2018-04-05 16:00:04 UTC', '3183', '32', '39', '62', 'nan', '1'],\n",
       " ['2018-04-05 16:00:04 UTC', '3184', '32', '39', '62', 'nan', '1'],\n",
       " ['2018-04-05 16:00:04 UTC', '3185', '32', '39', '62', 'nan', '1'],\n",
       " ['2018-04-05 16:00:04 UTC', '3186', '32', '39', '62', 'nan', '1'],\n",
       " ['2018-04-05 16:00:04 UTC', '3187', '32', '39', '62', 'nan', '1'],\n",
       " ['2018-04-05 16:00:04 UTC', '3188', '32', '39', '62', 'nan', '1'],\n",
       " ['2018-04-05 16:00:04 UTC', '3189', '32', '39', '62', 'nan', '1'],\n",
       " ['2018-04-05 16:00:04 UTC', '3190', '32', '39', '62', 'nan', '1'],\n",
       " ['2018-04-05 16:00:04 UTC', '3191', '32', '39', '62', 'nan', '1'],\n",
       " ['2018-04-05 16:00:04 UTC', '3192', '32', '39', '62', 'nan', '1'],\n",
       " ['2018-04-05 16:00:04 UTC', '3193', '32', '39', '62', 'nan', '1'],\n",
       " ['2018-04-05 16:00:04 UTC', '3194', '32', '39', '62', 'nan', '1'],\n",
       " ['2018-04-05 16:00:04 UTC', '3195', '32', '39', '62', 'nan', '1'],\n",
       " ['2018-04-05 16:00:04 UTC', '3196', '32', '39', '62', 'nan', '1'],\n",
       " ['2018-04-05 16:00:04 UTC', '3197', '32', '39', '62', 'nan', '1'],\n",
       " ['2018-04-05 16:00:04 UTC', '3198', '32', '39', '62', 'nan', '1'],\n",
       " ['2018-04-05 16:00:04 UTC', '3199', '32', '39', '62', 'nan', '1'],\n",
       " ['2018-04-05 16:00:04 UTC', '3200', '32', '39', '62', 'nan', '1'],\n",
       " ['2018-04-05 16:00:04 UTC', '3201', '32', '39', '62', 'nan', '1'],\n",
       " ['2018-04-05 16:00:04 UTC', '3202', '32', '39', '62', 'nan', '1'],\n",
       " ['2018-04-05 16:00:04 UTC', '3203', '32', '39', '62', 'nan', '1'],\n",
       " ['2018-04-05 16:00:04 UTC', '3204', '32', '39', '62', 'nan', '1'],\n",
       " ['2018-04-05 16:00:04 UTC', '3205', '32', '39', '62', 'nan', '1'],\n",
       " ['2018-04-05 16:00:04 UTC', '3206', '32', '39', '62', 'nan', '1'],\n",
       " ['2018-04-05 16:00:04 UTC', '3207', '32', '39', '62', 'nan', '1'],\n",
       " ['2018-04-05 16:00:04 UTC', '3208', '32', '39', '62', 'nan', '1'],\n",
       " ['2018-04-05 16:00:04 UTC', '3209', '32', '39', '62', 'nan', '1'],\n",
       " ['2018-04-05 16:00:04 UTC', '3210', '32', '39', '62', 'nan', '1'],\n",
       " ['2018-04-05 16:00:04 UTC', '3211', '32', '39', '62', 'nan', '1'],\n",
       " ['2018-04-05 16:00:04 UTC', '3212', '32', '39', '62', 'nan', '1'],\n",
       " ['2018-04-05 16:00:04 UTC', '3213', '32', '39', '62', 'nan', '1'],\n",
       " ['2018-04-05 16:00:04 UTC', '3214', '32', '39', '62', 'nan', '1'],\n",
       " ['2018-04-05 16:00:04 UTC', '3215', '32', '39', '62', 'nan', '1'],\n",
       " ['2018-04-05 16:00:04 UTC', '3216', '32', '39', '62', 'nan', '1'],\n",
       " ['2018-04-05 16:00:04 UTC', '3217', '32', '39', '62', 'nan', '1'],\n",
       " ['2018-04-05 16:00:04 UTC', '3218', '32', '39', '62', 'nan', '1'],\n",
       " ['2018-04-05 16:00:04 UTC', '3219', '32', '39', '62', 'nan', '1'],\n",
       " ['2018-04-05 16:00:04 UTC', '3220', '32', '39', '62', 'nan', '1'],\n",
       " ['2018-04-05 16:00:04 UTC', '3221', '32', '39', '62', 'nan', '1'],\n",
       " ['2018-04-05 16:00:04 UTC', '3222', '32', '39', '62', 'nan', '1'],\n",
       " ['2018-04-05 16:00:04 UTC', '3223', '32', '39', '62', 'nan', '1'],\n",
       " ['2018-04-05 16:00:04 UTC', '3224', '32', '39', '62', 'nan', '1'],\n",
       " ['2018-04-05 16:00:04 UTC', '3225', '32', '39', '62', 'nan', '1'],\n",
       " ['2018-04-05 16:00:04 UTC', '3226', '32', '39', '62', 'nan', '1'],\n",
       " ['2018-04-05 16:00:04 UTC', '3227', '32', '39', '62', 'nan', '1'],\n",
       " ['2018-04-05 16:00:04 UTC', '3228', '32', '39', '62', 'nan', '1'],\n",
       " ['2018-04-05 16:00:04 UTC', '3229', '32', '39', '62', 'nan', '1'],\n",
       " ['2018-04-05 16:00:04 UTC', '3230', '32', '39', '62', 'nan', '1'],\n",
       " ['2018-04-05 16:00:04 UTC', '3231', '32', '39', '62', 'nan', '1'],\n",
       " ['2018-04-05 16:00:04 UTC', '3232', '32', '39', '62', 'nan', '1'],\n",
       " ['2018-04-05 16:00:04 UTC', '3233', '32', '39', '62', 'nan', '1'],\n",
       " ['2018-04-05 16:00:04 UTC', '3234', '32', '39', '62', 'nan', '1'],\n",
       " ['2018-04-05 16:00:04 UTC', '3235', '32', '39', '62', 'nan', '1'],\n",
       " ['2018-04-05 16:00:04 UTC', '3236', '32', '39', '62', 'nan', '1'],\n",
       " ['2018-04-05 16:00:04 UTC', '3237', '32', '39', '62', 'nan', '1'],\n",
       " ['2018-04-05 16:00:04 UTC', '3238', '32', '39', '62', 'nan', '1'],\n",
       " ['2018-04-05 16:00:04 UTC', '3239', '32', '39', '62', 'nan', '1'],\n",
       " ['2018-04-05 16:00:04 UTC', '3240', '32', '39', '62', 'nan', '1'],\n",
       " ['2018-04-05 16:00:04 UTC', '3241', '32', '39', '62', 'nan', '1'],\n",
       " ['2018-04-05 16:00:04 UTC', '3242', '32', '39', '62', 'nan', '1'],\n",
       " ['2018-04-05 16:00:04 UTC', '3243', '32', '39', '62', 'nan', '1'],\n",
       " ['2018-04-05 16:00:04 UTC', '3244', '32', '39', '62', 'nan', '1'],\n",
       " ['2018-04-05 16:00:04 UTC', '3245', '32', '39', '62', 'nan', '1'],\n",
       " ['2018-04-05 16:00:04 UTC', '3246', '32', '39', '62', 'nan', '1'],\n",
       " ['2018-04-05 16:00:04 UTC', '3247', '32', '39', '62', 'nan', '1'],\n",
       " ['2018-04-05 16:00:04 UTC', '3248', '32', '39', '62', 'nan', '1'],\n",
       " ['2018-04-05 16:00:04 UTC', '3249', '32', '39', '62', 'nan', '1'],\n",
       " ['2018-04-05 16:00:04 UTC', '3250', '32', '39', '62', 'nan', '1'],\n",
       " ['2018-04-05 16:00:04 UTC', '3251', '32', '39', '62', 'nan', '1'],\n",
       " ['2018-04-05 16:00:04 UTC', '3252', '32', '39', '62', 'nan', '1'],\n",
       " ['2018-04-05 16:00:04 UTC', '3253', '32', '39', '62', 'nan', '1'],\n",
       " ['2018-04-05 16:00:04 UTC', '3254', '32', '39', '62', 'nan', '1'],\n",
       " ['2018-04-05 16:00:04 UTC', '3255', '32', '39', '62', 'nan', '1'],\n",
       " ['2018-04-05 16:00:04 UTC', '3256', '32', '39', '62', 'nan', '1'],\n",
       " ['2018-04-05 16:00:04 UTC', '3257', '32', '39', '62', 'nan', '1'],\n",
       " ['2018-04-05 16:00:04 UTC', '3258', '32', '39', '62', 'nan', '1'],\n",
       " ['2018-04-05 16:00:04 UTC', '3259', '32', '39', '62', 'nan', '1'],\n",
       " ['2018-04-05 16:00:04 UTC', '3260', '32', '39', '62', 'nan', '1'],\n",
       " ['2018-04-05 16:00:04 UTC', '3261', '32', '39', '62', 'nan', '1'],\n",
       " ['2018-04-05 16:00:04 UTC', '3262', '32', '39', '62', 'nan', '1'],\n",
       " ['2018-04-05 16:00:04 UTC', '3263', '32', '39', '62', 'nan', '1'],\n",
       " ['2018-04-05 16:00:04 UTC', '3264', '32', '39', '62', 'nan', '1'],\n",
       " ['2018-04-05 16:00:04 UTC', '3265', '32', '39', '62', 'nan', '1'],\n",
       " ['2018-04-05 16:00:04 UTC', '3266', '32', '39', '62', 'nan', '1'],\n",
       " ['2018-04-05 16:00:04 UTC', '3267', '32', '39', '62', 'nan', '1'],\n",
       " ['2018-04-05 16:00:04 UTC', '3268', '32', '39', '62', 'nan', '1'],\n",
       " ['2018-04-05 16:00:04 UTC', '3269', '32', '39', '62', 'nan', '1'],\n",
       " ['2018-04-05 16:00:04 UTC', '3270', '32', '39', '62', 'nan', '1'],\n",
       " ['2018-04-05 16:00:04 UTC', '3271', '32', '39', '62', 'nan', '1'],\n",
       " ['2018-04-05 16:00:04 UTC', '3272', '32', '39', '62', 'nan', '1'],\n",
       " ['2018-04-05 16:00:04 UTC', '3273', '32', '39', '62', 'nan', '1'],\n",
       " ['2018-04-05 16:00:04 UTC', '3274', '32', '39', '62', 'nan', '1'],\n",
       " ['2018-04-05 16:00:04 UTC', '3275', '32', '39', '62', 'nan', '1'],\n",
       " ['2018-04-05 16:00:04 UTC', '3276', '32', '39', '62', 'nan', '1'],\n",
       " ['2018-04-05 16:00:04 UTC', '3277', '32', '39', '62', 'nan', '1'],\n",
       " ['2018-04-05 16:00:04 UTC', '3278', '32', '39', '62', 'nan', '1'],\n",
       " ['2018-04-05 16:00:04 UTC', '3279', '32', '39', '62', 'nan', '1'],\n",
       " ['2018-04-05 16:00:04 UTC', '3280', '32', '39', '62', 'nan', '1'],\n",
       " ['2018-04-05 16:00:04 UTC', '3281', '32', '39', '62', 'nan', '1'],\n",
       " ['2018-04-05 16:00:04 UTC', '3282', '32', '39', '62', 'nan', '1'],\n",
       " ['2018-04-05 16:00:04 UTC', '3283', '32', '39', '62', 'nan', '1'],\n",
       " ['2018-04-05 16:00:04 UTC', '3284', '32', '39', '62', 'nan', '1'],\n",
       " ['2018-04-05 16:00:04 UTC', '3285', '32', '39', '62', 'nan', '1'],\n",
       " ['2018-04-05 16:00:04 UTC', '3286', '32', '39', '62', 'nan', '1'],\n",
       " ['2018-04-05 16:00:04 UTC', '3287', '32', '39', '62', 'nan', '1'],\n",
       " ['2018-04-05 16:00:04 UTC', '3288', '32', '39', '62', 'nan', '1'],\n",
       " ['2018-04-05 16:00:04 UTC', '3289', '32', '39', '62', 'nan', '1'],\n",
       " ['2018-04-05 16:00:04 UTC', '3290', '32', '39', '62', 'nan', '1'],\n",
       " ['2018-04-05 16:00:04 UTC', '3291', '32', '39', '62', 'nan', '1'],\n",
       " ['2018-04-05 16:00:04 UTC', '3292', '32', '39', '62', 'nan', '1'],\n",
       " ['2018-04-05 16:00:04 UTC', '3293', '32', '39', '62', 'nan', '1'],\n",
       " ['2018-04-05 16:00:04 UTC', '3294', '32', '39', '62', 'nan', '1'],\n",
       " ['2018-04-05 16:00:04 UTC', '3295', '32', '39', '62', 'nan', '1'],\n",
       " ['2018-04-05 16:00:04 UTC', '3296', '32', '39', '62', 'nan', '1'],\n",
       " ['2018-04-05 16:00:04 UTC', '3297', '32', '39', '62', 'nan', '1'],\n",
       " ['2018-04-05 16:00:04 UTC', '3298', '32', '39', '62', 'nan', '1'],\n",
       " ['2018-04-05 16:00:04 UTC', '3299', '32', '39', '62', 'nan', '1'],\n",
       " ['2018-04-05 16:00:04 UTC', '3300', '32', '39', '62', 'nan', '1'],\n",
       " ['2018-04-05 16:00:04 UTC', '3301', '32', '39', '62', 'nan', '1'],\n",
       " ['2018-04-05 16:00:04 UTC', '3302', '32', '39', '62', 'nan', '1'],\n",
       " ['2018-04-05 16:00:04 UTC', '3303', '32', '39', '62', 'nan', '1'],\n",
       " ['2018-04-05 16:00:04 UTC', '3304', '32', '39', '62', 'nan', '1'],\n",
       " ['2018-04-05 16:00:04 UTC', '3305', '32', '39', '62', 'nan', '1'],\n",
       " ['2018-04-05 16:00:04 UTC', '3306', '32', '39', '62', 'nan', '1'],\n",
       " ['2018-04-05 16:00:04 UTC', '3307', '32', '39', '62', 'nan', '1'],\n",
       " ['2018-04-05 16:00:04 UTC', '3308', '32', '39', '62', 'nan', '1'],\n",
       " ['2018-04-05 16:00:04 UTC', '3309', '32', '39', '62', 'nan', '1'],\n",
       " ['2018-04-05 16:00:04 UTC', '3310', '32', '39', '62', 'nan', '1'],\n",
       " ['2018-04-05 16:00:04 UTC', '3311', '32', '39', '62', 'nan', '1'],\n",
       " ['2018-04-05 16:00:04 UTC', '3312', '32', '39', '62', 'nan', '1'],\n",
       " ['2018-04-05 16:00:04 UTC', '3313', '32', '39', '62', 'nan', '1'],\n",
       " ['2018-04-05 16:00:04 UTC', '3314', '32', '39', '62', 'nan', '1'],\n",
       " ['2018-04-05 16:00:04 UTC', '3315', '32', '39', '62', 'nan', '1'],\n",
       " ['2018-04-05 16:00:04 UTC', '3316', '32', '39', '62', 'nan', '1'],\n",
       " ['2018-04-05 16:00:04 UTC', '3317', '32', '39', '62', 'nan', '1'],\n",
       " ['2018-04-05 16:00:04 UTC', '3318', '32', '39', '62', 'nan', '1'],\n",
       " ['2018-04-05 16:00:04 UTC', '3319', '32', '39', '62', 'nan', '1'],\n",
       " ['2018-04-05 16:00:04 UTC', '3320', '32', '39', '62', 'nan', '1'],\n",
       " ['2018-04-05 16:00:04 UTC', '3321', '32', '39', '62', 'nan', '1'],\n",
       " ['2018-04-05 16:00:04 UTC', '3322', '32', '39', '62', 'nan', '1'],\n",
       " ['2018-04-05 16:00:04 UTC', '3323', '32', '39', '62', 'nan', '1'],\n",
       " ['2018-04-05 16:00:04 UTC', '3324', '32', '39', '62', 'nan', '1'],\n",
       " ['2018-04-05 16:00:04 UTC', '3325', '32', '39', '62', 'nan', '1'],\n",
       " ['2018-04-05 16:00:04 UTC', '3326', '32', '39', '62', 'nan', '1'],\n",
       " ['2018-04-05 16:00:04 UTC', '3327', '32', '39', '62', 'nan', '1'],\n",
       " ['2018-04-05 16:00:04 UTC', '3328', '32', '39', '62', 'nan', '1'],\n",
       " ['2018-04-05 16:00:04 UTC', '3329', '32', '39', '62', 'nan', '1'],\n",
       " ['2018-04-05 16:00:04 UTC', '3330', '32', '39', '62', 'nan', '1'],\n",
       " ['2018-04-05 16:00:04 UTC', '3331', '32', '39', '62', 'nan', '1'],\n",
       " ['2018-04-05 16:00:04 UTC', '3332', '32', '39', '62', 'nan', '1'],\n",
       " ['2018-04-05 16:00:04 UTC', '3333', '32', '39', '62', 'nan', '1'],\n",
       " ['2018-04-05 16:00:04 UTC', '3334', '32', '39', '62', 'nan', '1'],\n",
       " ['2018-04-05 16:00:04 UTC', '3335', '32', '39', '62', 'nan', '1'],\n",
       " ['2018-04-05 16:00:04 UTC', '3336', '32', '39', '62', 'nan', '1'],\n",
       " ['2018-04-05 16:00:04 UTC', '3337', '32', '39', '62', 'nan', '1'],\n",
       " ['2018-04-05 16:00:04 UTC', '3338', '32', '39', '62', 'nan', '1'],\n",
       " ['2018-04-05 16:00:04 UTC', '3339', '32', '39', '62', 'nan', '1'],\n",
       " ['2018-04-05 16:00:04 UTC', '3340', '32', '39', '62', 'nan', '1'],\n",
       " ['2018-04-05 16:00:04 UTC', '3341', '32', '39', '62', 'nan', '1'],\n",
       " ['2018-04-05 16:00:04 UTC', '3342', '32', '39', '62', 'nan', '1'],\n",
       " ['2018-04-05 16:00:04 UTC', '3343', '32', '39', '62', 'nan', '1'],\n",
       " ['2018-04-05 16:00:04 UTC', '3344', '32', '39', '62', 'nan', '1'],\n",
       " ['2018-04-05 16:00:04 UTC', '3345', '32', '39', '62', 'nan', '1'],\n",
       " ['2018-04-05 16:00:04 UTC', '3346', '32', '39', '62', 'nan', '1'],\n",
       " ['2018-04-05 16:00:04 UTC', '3347', '32', '39', '62', 'nan', '1'],\n",
       " ['2018-04-05 16:00:04 UTC', '3348', '32', '39', '62', 'nan', '1'],\n",
       " ['2018-04-05 16:00:04 UTC', '3349', '32', '39', '62', 'nan', '1'],\n",
       " ['2018-04-05 16:00:04 UTC', '3350', '32', '39', '62', 'nan', '1'],\n",
       " ['2018-04-05 16:00:04 UTC', '3351', '32', '39', '62', 'nan', '1'],\n",
       " ['2018-04-05 16:00:04 UTC', '3352', '32', '39', '62', 'nan', '1'],\n",
       " ['2018-04-05 16:00:04 UTC', '3353', '32', '39', '62', 'nan', '1'],\n",
       " ['2018-04-05 16:00:04 UTC', '3354', '32', '39', '62', 'nan', '1'],\n",
       " ['2018-04-05 16:00:04 UTC', '3355', '32', '39', '62', 'nan', '1'],\n",
       " ['2018-04-05 16:00:04 UTC', '3356', '32', '39', '62', 'nan', '1'],\n",
       " ['2018-04-05 16:00:04 UTC', '3357', '32', '39', '62', 'nan', '1'],\n",
       " ['2018-04-05 16:00:04 UTC', '3358', '32', '39', '62', 'nan', '1'],\n",
       " ['2018-04-05 16:00:04 UTC', '3359', '32', '39', '62', 'nan', '1'],\n",
       " ['2018-04-05 16:00:04 UTC', '3360', '32', '39', '62', 'nan', '1'],\n",
       " ['2018-04-05 16:00:04 UTC', '3361', '32', '39', '62', 'nan', '1'],\n",
       " ['2018-04-05 16:00:04 UTC', '3362', '32', '39', '62', 'nan', '1'],\n",
       " ['2018-04-05 16:00:04 UTC', '3363', '32', '39', '62', 'nan', '1'],\n",
       " ['2018-04-05 16:00:04 UTC', '3364', '32', '39', '62', 'nan', '1'],\n",
       " ['2018-04-05 16:00:04 UTC', '3365', '32', '39', '62', 'nan', '1'],\n",
       " ['2018-04-05 16:00:04 UTC', '3366', '32', '39', '62', 'nan', '1'],\n",
       " ['2018-04-05 16:00:04 UTC', '3367', '32', '39', '62', 'nan', '1'],\n",
       " ['2018-04-05 16:00:04 UTC', '3368', '32', '39', '62', 'nan', '1'],\n",
       " ['2018-04-05 16:00:04 UTC', '3369', '32', '39', '62', 'nan', '1'],\n",
       " ['2018-04-05 16:00:04 UTC', '3370', '32', '39', '62', 'nan', '1'],\n",
       " ['2018-04-05 16:00:04 UTC', '3371', '32', '39', '62', 'nan', '1'],\n",
       " ['2018-04-05 16:00:04 UTC', '3372', '32', '39', '62', 'nan', '1'],\n",
       " ['2018-04-05 16:00:04 UTC', '3373', '32', '39', '62', 'nan', '1'],\n",
       " ['2018-04-05 16:00:04 UTC', '3374', '32', '39', '62', 'nan', '1'],\n",
       " ['2018-04-05 16:00:04 UTC', '3375', '32', '39', '62', 'nan', '1'],\n",
       " ['2018-04-05 16:00:04 UTC', '3376', '32', '39', '62', 'nan', '1'],\n",
       " ['2018-04-05 16:00:04 UTC', '3377', '32', '39', '62', 'nan', '1'],\n",
       " ['2018-04-05 16:00:04 UTC', '3378', '32', '39', '62', 'nan', '1'],\n",
       " ['2018-04-05 16:00:04 UTC', '3379', '28', '39', '62', 'nan', '1'],\n",
       " ['2018-04-05 16:00:04 UTC', '3380', '28', '39', '62', 'nan', '1'],\n",
       " ['2018-04-05 16:00:04 UTC', '3381', '28', '39', '62', 'nan', '1'],\n",
       " ['2018-04-05 16:00:04 UTC', '3382', '28', '39', '62', 'nan', '1'],\n",
       " ['2018-04-05 16:00:04 UTC', '3383', '28', '39', '62', 'nan', '1'],\n",
       " ['2018-04-05 16:00:04 UTC', '3384', '28', '39', '62', 'nan', '1'],\n",
       " ['2018-04-05 16:00:04 UTC', '3385', '28', '39', '62', 'nan', '1'],\n",
       " ['2018-04-05 16:00:04 UTC', '3386', '28', '39', '62', 'nan', '1'],\n",
       " ['2018-04-05 16:00:04 UTC', '3387', '28', '39', '62', 'nan', '1'],\n",
       " ['2018-04-05 16:00:04 UTC', '3388', '28', '39', '62', 'nan', '1'],\n",
       " ['2018-04-05 16:00:04 UTC', '3389', '28', '39', '62', 'nan', '1'],\n",
       " ['2018-04-05 16:00:04 UTC', '3390', '28', '39', '62', 'nan', '1'],\n",
       " ['2018-04-05 16:00:04 UTC', '3391', '28', '39', '62', 'nan', '1'],\n",
       " ['2018-04-05 16:00:04 UTC', '3392', '28', '39', '62', 'nan', '1'],\n",
       " ['2018-04-05 16:00:04 UTC', '3393', '28', '39', '62', 'nan', '1'],\n",
       " ['2018-04-05 16:00:04 UTC', '3394', '28', '39', '62', 'nan', '1'],\n",
       " ['2018-04-05 16:00:04 UTC', '3395', '28', '39', '62', 'nan', '1'],\n",
       " ['2018-04-05 16:00:04 UTC', '3396', '28', '39', '62', 'nan', '1'],\n",
       " ['2018-04-05 16:00:04 UTC', '3397', '28', '39', '62', 'nan', '1'],\n",
       " ['2018-04-05 16:00:04 UTC', '3398', '28', '39', '62', 'nan', '1'],\n",
       " ['2018-04-05 16:00:04 UTC', '3399', '28', '39', '62', 'nan', '1'],\n",
       " ['2018-04-05 16:00:04 UTC', '3400', '28', '39', '62', 'nan', '1'],\n",
       " ['2018-04-05 16:00:04 UTC', '3401', '28', '39', '62', 'nan', '1'],\n",
       " ['2018-04-05 16:00:04 UTC', '3402', '28', '39', '62', 'nan', '1'],\n",
       " ['2018-04-05 16:00:04 UTC', '3403', '28', '39', '62', 'nan', '1'],\n",
       " ['2018-04-05 16:00:04 UTC', '3404', '28', '39', '62', 'nan', '1'],\n",
       " ['2018-04-05 16:00:04 UTC', '3405', '28', '39', '62', 'nan', '1'],\n",
       " ['2018-04-05 16:00:04 UTC', '3406', '28', '39', '62', 'nan', '1'],\n",
       " ['2018-04-05 16:00:04 UTC', '3407', '28', '39', '62', 'nan', '1'],\n",
       " ['2018-04-05 16:00:04 UTC', '3408', '28', '39', '62', 'nan', '1'],\n",
       " ['2018-04-05 16:00:04 UTC', '3409', '28', '39', '62', 'nan', '1'],\n",
       " ['2018-04-05 16:00:04 UTC', '3410', '28', '39', '62', 'nan', '1'],\n",
       " ['2018-04-05 16:00:04 UTC', '3411', '28', '39', '62', 'nan', '1'],\n",
       " ['2018-04-05 16:00:04 UTC', '3412', '28', '39', '62', 'nan', '1'],\n",
       " ['2018-04-05 16:00:04 UTC', '3413', '28', '39', '62', 'nan', '1'],\n",
       " ['2018-04-05 16:00:04 UTC', '3414', '28', '39', '62', 'nan', '1'],\n",
       " ['2018-04-05 16:00:04 UTC', '3415', '28', '39', '62', 'nan', '1'],\n",
       " ['2018-04-05 16:00:04 UTC', '3416', '28', '39', '62', 'nan', '1'],\n",
       " ['2018-04-05 16:00:04 UTC', '3417', '28', '39', '62', 'nan', '1'],\n",
       " ['2018-04-05 16:00:04 UTC', '3418', '28', '39', '62', 'nan', '1'],\n",
       " ['2018-04-05 16:00:04 UTC', '3419', '28', '39', '62', 'nan', '1'],\n",
       " ['2018-04-05 16:00:04 UTC', '3420', '28', '39', '62', 'nan', '1'],\n",
       " ['2018-04-05 16:00:04 UTC', '3421', '28', '39', '62', 'nan', '1'],\n",
       " ['2018-04-05 16:00:04 UTC', '3422', '28', '39', '62', 'nan', '1'],\n",
       " ['2018-04-05 16:00:04 UTC', '3423', '28', '39', '62', 'nan', '1'],\n",
       " ['2018-04-05 16:00:04 UTC', '3424', '28', '39', '62', 'nan', '1'],\n",
       " ['2018-04-05 16:00:04 UTC', '3425', '28', '39', '62', 'nan', '1'],\n",
       " ['2018-04-05 16:00:04 UTC', '3426', '28', '39', '62', 'nan', '1'],\n",
       " ['2018-04-05 16:00:04 UTC', '3427', '28', '39', '62', 'nan', '1'],\n",
       " ['2018-04-05 16:00:04 UTC', '3428', '28', '39', '62', 'nan', '1'],\n",
       " ['2018-04-05 16:00:04 UTC', '3429', '28', '39', '62', 'nan', '1'],\n",
       " ['2018-04-05 16:00:04 UTC', '3430', '28', '39', '62', 'nan', '1'],\n",
       " ['2018-04-05 16:00:04 UTC', '3431', '28', '39', '62', 'nan', '1'],\n",
       " ['2018-04-05 16:00:04 UTC', '3432', '28', '39', '62', 'nan', '1'],\n",
       " ['2018-04-05 16:00:04 UTC', '3433', '28', '39', '62', 'nan', '1'],\n",
       " ['2018-04-05 16:00:04 UTC', '3434', '28', '39', '62', 'nan', '1'],\n",
       " ['2018-04-05 16:00:04 UTC', '3435', '28', '39', '62', 'nan', '1'],\n",
       " ['2018-04-05 16:00:04 UTC', '3436', '28', '39', '62', 'nan', '1'],\n",
       " ['2018-04-05 16:00:04 UTC', '3437', '28', '39', '62', 'nan', '1'],\n",
       " ['2018-04-05 16:00:04 UTC', '3438', '28', '39', '62', 'nan', '1'],\n",
       " ['2018-04-05 16:00:04 UTC', '3439', '28', '39', '62', 'nan', '1'],\n",
       " ['2018-04-05 16:00:04 UTC', '3440', '28', '39', '62', 'nan', '1'],\n",
       " ['2018-04-05 16:00:04 UTC', '3441', '28', '39', '62', 'nan', '1'],\n",
       " ['2018-04-05 16:00:04 UTC', '3442', '28', '39', '62', 'nan', '1'],\n",
       " ['2018-04-05 16:00:04 UTC', '3443', '28', '39', '62', 'nan', '1'],\n",
       " ['2018-04-05 16:00:04 UTC', '3444', '28', '39', '62', 'nan', '1'],\n",
       " ['2018-04-05 16:00:04 UTC', '3445', '28', '39', '62', 'nan', '1'],\n",
       " ['2018-04-05 16:00:04 UTC', '3446', '28', '39', '62', 'nan', '1'],\n",
       " ['2018-04-05 16:00:04 UTC', '3447', '28', '39', '62', 'nan', '1'],\n",
       " ['2018-04-05 16:00:04 UTC', '3448', '28', '39', '62', 'nan', '1'],\n",
       " ['2018-04-05 16:00:04 UTC', '3449', '28', '39', '62', 'nan', '1'],\n",
       " ['2018-04-05 16:00:04 UTC', '3450', '28', '39', '62', 'nan', '1'],\n",
       " ['2018-04-05 16:00:04 UTC', '3451', '28', '39', '62', 'nan', '1'],\n",
       " ['2018-04-05 16:00:04 UTC', '3452', '28', '39', '62', 'nan', '1'],\n",
       " ['2018-04-05 16:00:04 UTC', '3453', '28', '39', '62', 'nan', '1'],\n",
       " ['2018-04-05 16:00:04 UTC', '3454', '28', '39', '62', 'nan', '1'],\n",
       " ['2018-04-05 16:00:04 UTC', '3455', '28', '39', '62', 'nan', '1'],\n",
       " ['2018-04-05 16:00:04 UTC', '3456', '28', '39', '62', 'nan', '1'],\n",
       " ['2018-04-05 16:00:04 UTC', '3457', '28', '39', '62', 'nan', '1'],\n",
       " ['2018-04-05 16:00:04 UTC', '3458', '28', '39', '62', 'nan', '1'],\n",
       " ['2018-04-05 16:00:04 UTC', '3459', '28', '39', '62', 'nan', '1'],\n",
       " ['2018-04-05 16:00:04 UTC', '3460', '28', '39', '62', 'nan', '1'],\n",
       " ['2018-04-05 16:00:04 UTC', '3461', '28', '39', '62', 'nan', '1'],\n",
       " ['2018-04-05 16:00:04 UTC', '3462', '28', '39', '62', 'nan', '1'],\n",
       " ['2018-04-05 16:00:04 UTC', '3463', '28', '39', '62', 'nan', '1'],\n",
       " ['2018-04-05 16:00:04 UTC', '3464', '28', '39', '62', 'nan', '1'],\n",
       " ['2018-04-05 16:00:04 UTC', '3465', '28', '39', '62', 'nan', '1'],\n",
       " ['2018-04-05 16:00:04 UTC', '3466', '28', '39', '62', 'nan', '1'],\n",
       " ['2018-04-05 16:00:04 UTC', '3467', '28', '39', '62', 'nan', '1'],\n",
       " ['2018-04-05 16:00:04 UTC', '3468', '28', '39', '62', 'nan', '1'],\n",
       " ['2018-04-05 16:00:04 UTC', '3469', '28', '39', '62', 'nan', '1'],\n",
       " ['2018-04-05 16:00:04 UTC', '3470', '28', '39', '62', 'nan', '1'],\n",
       " ['2018-04-05 16:00:04 UTC', '3471', '28', '39', '62', 'nan', '1'],\n",
       " ['2018-04-05 16:00:04 UTC', '3472', '28', '39', '62', 'nan', '1'],\n",
       " ['2018-04-05 16:00:04 UTC', '3473', '28', '39', '62', 'nan', '1'],\n",
       " ['2018-04-05 16:00:04 UTC', '3474', '28', '39', '62', 'nan', '1'],\n",
       " ['2018-04-05 16:00:04 UTC', '3475', '28', '39', '62', 'nan', '1'],\n",
       " ['2018-04-05 16:00:04 UTC', '3476', '28', '39', '62', 'nan', '1'],\n",
       " ['2018-04-05 16:00:04 UTC', '3477', '28', '39', '62', 'nan', '1'],\n",
       " ['2018-04-05 16:00:04 UTC', '3478', '28', '39', '62', 'nan', '1'],\n",
       " ['2018-04-05 16:00:04 UTC', '3479', '28', '39', '62', 'nan', '1'],\n",
       " ['2018-04-05 16:00:04 UTC', '3480', '28', '39', '76', 'nan', '0'],\n",
       " ['2018-04-05 16:00:04 UTC', '3481', '28', '39', '76', 'nan', '0'],\n",
       " ['2018-04-05 16:00:04 UTC', '3482', '28', '39', '76', 'nan', '0'],\n",
       " ['2018-04-05 16:00:04 UTC', '3483', '28', '39', '76', 'nan', '0'],\n",
       " ['2018-04-05 16:00:04 UTC', '3484', '28', '39', '76', 'nan', '0'],\n",
       " ['2018-04-05 16:00:04 UTC', '3485', '28', '39', '76', 'nan', '0'],\n",
       " ['2018-04-05 16:00:04 UTC', '3486', '28', '39', '76', 'nan', '0'],\n",
       " ['2018-04-05 16:00:04 UTC', '3487', '29', '39', '76', 'nan', '0'],\n",
       " ['2018-04-05 16:00:04 UTC', '3488', '29', '39', '76', 'nan', '0'],\n",
       " ['2018-04-05 16:00:04 UTC', '3489', '29', '39', '76', 'nan', '0'],\n",
       " ['2018-04-05 16:00:04 UTC', '3490', '29', '39', '76', 'nan', '0'],\n",
       " ['2018-04-05 16:00:04 UTC', '3491', '29', '39', '76', 'nan', '0'],\n",
       " ['2018-04-05 16:00:04 UTC', '3492', '29', '39', '76', 'nan', '0'],\n",
       " ['2018-04-05 16:00:04 UTC', '3493', '29', '39', '76', 'nan', '0'],\n",
       " ['2018-04-05 16:00:04 UTC', '3494', '29', '39', '76', 'nan', '0'],\n",
       " ['2018-04-05 16:00:04 UTC', '3495', '29', '39', '76', 'nan', '0'],\n",
       " ['2018-04-05 16:00:04 UTC', '3496', '29', '39', '76', 'nan', '0'],\n",
       " ['2018-04-05 16:00:04 UTC', '3497', '29', '39', '76', 'nan', '0'],\n",
       " ['2018-04-05 16:00:04 UTC', '3498', '29', '39', '76', 'nan', '0'],\n",
       " ['2018-04-05 16:00:04 UTC', '3499', '29', '39', '76', 'nan', '0'],\n",
       " ['2018-04-05 16:00:04 UTC', '3500', '29', '39', '76', 'nan', '0'],\n",
       " ['2018-04-05 16:00:04 UTC', '3501', '29', '39', '76', 'nan', '0'],\n",
       " ['2018-04-05 16:00:04 UTC', '3502', '29', '39', '76', 'nan', '0'],\n",
       " ['2018-04-05 16:00:04 UTC', '3503', '29', '39', '76', 'nan', '0'],\n",
       " ['2018-04-05 16:00:04 UTC', '3504', '29', '39', '76', 'nan', '0'],\n",
       " ['2018-04-05 16:00:04 UTC', '3505', '29', '39', '76', 'nan', '0'],\n",
       " ['2018-04-05 16:00:04 UTC', '3506', '29', '39', '76', 'nan', '0'],\n",
       " ['2018-04-05 16:00:04 UTC', '3507', '29', '39', '76', 'nan', '0'],\n",
       " ['2018-04-05 16:00:04 UTC', '3508', '29', '39', '76', 'nan', '0'],\n",
       " ['2018-04-05 16:00:04 UTC', '3509', '29', '39', '76', 'nan', '0'],\n",
       " ['2018-04-05 16:00:04 UTC', '3510', '29', '39', '76', 'nan', '0'],\n",
       " ['2018-04-05 16:00:04 UTC', '3511', '29', '39', '76', 'nan', '0'],\n",
       " ['2018-04-05 16:00:04 UTC', '3512', '29', '39', '76', 'nan', '0'],\n",
       " ['2018-04-05 16:00:04 UTC', '3513', '29', '39', '76', 'nan', '0'],\n",
       " ['2018-04-05 16:00:04 UTC', '3514', '29', '39', '76', 'nan', '0'],\n",
       " ['2018-04-05 16:00:04 UTC', '3515', '29', '39', '76', 'nan', '0'],\n",
       " ['2018-04-05 16:00:04 UTC', '3516', '29', '39', '76', 'nan', '0'],\n",
       " ['2018-04-05 16:00:04 UTC', '3517', '29', '39', '76', 'nan', '0'],\n",
       " ['2018-04-05 16:00:04 UTC', '3518', '29', '39', '76', 'nan', '0'],\n",
       " ['2018-04-05 16:00:04 UTC', '3519', '29', '39', '76', 'nan', '0'],\n",
       " ['2018-04-05 16:00:04 UTC', '3520', '29', '39', '76', 'nan', '0'],\n",
       " ['2018-04-05 16:00:04 UTC', '3521', '29', '39', '76', 'nan', '0'],\n",
       " ['2018-04-05 16:00:04 UTC', '3522', '29', '39', '76', 'nan', '0'],\n",
       " ['2018-04-05 16:00:04 UTC', '3523', '29', '39', '76', 'nan', '0'],\n",
       " ['2018-04-05 16:00:04 UTC', '3524', '29', '39', '76', 'nan', '0'],\n",
       " ['2018-04-05 16:00:04 UTC', '3525', '29', '39', '76', 'nan', '0'],\n",
       " ['2018-04-05 16:00:04 UTC', '3526', '29', '39', '76', 'nan', '0'],\n",
       " ['2018-04-05 16:00:04 UTC', '3527', '29', '39', '76', 'nan', '0'],\n",
       " ['2018-04-05 16:00:04 UTC', '3528', '29', '39', '76', 'nan', '0'],\n",
       " ['2018-04-05 16:00:04 UTC', '3529', '29', '39', '76', 'nan', '0'],\n",
       " ['2018-04-05 16:00:04 UTC', '3530', '29', '39', '76', 'nan', '0'],\n",
       " ['2018-04-05 16:00:04 UTC', '3531', '29', '39', '76', 'nan', '0'],\n",
       " ['2018-04-05 16:00:04 UTC', '3532', '29', '39', '76', 'nan', '0'],\n",
       " ['2018-04-05 16:00:04 UTC', '3533', '29', '39', '76', 'nan', '0'],\n",
       " ['2018-04-05 16:00:04 UTC', '3534', '29', '39', '76', 'nan', '0'],\n",
       " ['2018-04-05 16:00:04 UTC', '3535', '29', '39', '76', 'nan', '0'],\n",
       " ['2018-04-05 16:00:04 UTC', '3536', '29', '39', '76', 'nan', '0'],\n",
       " ['2018-04-05 16:00:04 UTC', '3537', '29', '39', '76', 'nan', '0'],\n",
       " ['2018-04-05 16:00:04 UTC', '3538', '29', '39', '76', 'nan', '0'],\n",
       " ['2018-04-05 16:00:04 UTC', '3539', '29', '39', '76', 'nan', '0'],\n",
       " ['2018-04-05 16:00:04 UTC', '3540', '29', '39', '76', 'nan', '0'],\n",
       " ['2018-04-05 16:00:04 UTC', '3541', '29', '39', '76', 'nan', '0'],\n",
       " ['2018-04-05 16:00:04 UTC', '3542', '29', '39', '76', 'nan', '0'],\n",
       " ['2018-04-05 16:00:04 UTC', '3543', '29', '39', '76', 'nan', '0'],\n",
       " ['2018-04-05 16:00:04 UTC', '3544', '29', '39', '76', 'nan', '0'],\n",
       " ['2018-04-05 16:00:04 UTC', '3545', '29', '39', '76', 'nan', '0'],\n",
       " ['2018-04-05 16:00:04 UTC', '3546', '29', '39', '76', 'nan', '0'],\n",
       " ['2018-04-05 16:00:04 UTC', '3547', '29', '39', '76', 'nan', '0'],\n",
       " ['2018-04-05 16:00:04 UTC', '3548', '29', '39', '76', 'nan', '0'],\n",
       " ['2018-04-05 16:00:04 UTC', '3549', '29', '39', '76', 'nan', '0'],\n",
       " ['2018-04-05 16:00:04 UTC', '3550', '29', '39', '76', 'nan', '0'],\n",
       " ['2018-04-05 16:00:04 UTC', '3551', '29', '39', '76', 'nan', '0'],\n",
       " ['2018-04-05 16:00:04 UTC', '3552', '29', '39', '76', 'nan', '0'],\n",
       " ['2018-04-05 16:00:04 UTC', '3553', '29', '39', '76', 'nan', '0'],\n",
       " ['2018-04-05 16:00:04 UTC', '3554', '29', '39', '76', 'nan', '0'],\n",
       " ['2018-04-05 16:00:04 UTC', '3555', '29', '39', '76', 'nan', '0'],\n",
       " ['2018-04-05 16:00:04 UTC', '3556', '29', '39', '76', 'nan', '0'],\n",
       " ['2018-04-05 16:00:04 UTC', '3557', '29', '39', '76', 'nan', '0'],\n",
       " ['2018-04-05 16:00:04 UTC', '3558', '29', '39', '76', 'nan', '0'],\n",
       " ['2018-04-05 16:00:04 UTC', '3559', '29', '39', '76', 'nan', '0'],\n",
       " ['2018-04-05 16:00:04 UTC', '3560', '29', '39', '76', 'nan', '0'],\n",
       " ['2018-04-05 16:00:04 UTC', '3561', '29', '39', '76', 'nan', '0'],\n",
       " ['2018-04-05 16:00:04 UTC', '3562', '29', '39', '76', 'nan', '0'],\n",
       " ['2018-04-05 16:00:04 UTC', '3563', '29', '39', '76', 'nan', '0'],\n",
       " ['2018-04-05 16:00:04 UTC', '3564', '29', '39', '76', 'nan', '0'],\n",
       " ['2018-04-05 16:00:04 UTC', '3565', '29', '39', '76', 'nan', '0'],\n",
       " ['2018-04-05 16:00:04 UTC', '3566', '29', '39', '76', 'nan', '0'],\n",
       " ['2018-04-05 16:00:04 UTC', '3567', '29', '39', '76', 'nan', '0'],\n",
       " ['2018-04-05 16:00:04 UTC', '3568', '29', '39', '76', 'nan', '0'],\n",
       " ['2018-04-05 16:00:04 UTC', '3569', '29', '39', '76', 'nan', '0'],\n",
       " ['2018-04-05 16:00:04 UTC', '3570', '29', '39', '76', 'nan', '0'],\n",
       " ['2018-04-05 16:00:04 UTC', '3571', '29', '39', '76', 'nan', '0'],\n",
       " ['2018-04-05 16:00:04 UTC', '3572', '29', '39', '76', 'nan', '0'],\n",
       " ['2018-04-05 16:00:04 UTC', '3573', '29', '39', '76', 'nan', '0'],\n",
       " ['2018-04-05 16:00:04 UTC', '3574', '29', '39', '76', 'nan', '0'],\n",
       " ['2018-04-05 16:00:04 UTC', '3575', '29', '39', '76', 'nan', '0'],\n",
       " ['2018-04-05 16:00:04 UTC', '3576', '29', '39', '76', 'nan', '0'],\n",
       " ['2018-04-05 16:00:04 UTC', '3577', '29', '39', '76', 'nan', '0'],\n",
       " ['2018-04-05 16:00:04 UTC', '3578', '29', '39', '76', 'nan', '0'],\n",
       " ['2018-04-05 16:00:04 UTC', '3579', '29', '39', '76', 'nan', '0'],\n",
       " ['2018-04-05 16:00:04 UTC', '3580', '29', '39', '76', 'nan', '0'],\n",
       " ['2018-04-05 16:00:04 UTC', '3581', '29', '39', '76', 'nan', '0'],\n",
       " ['2018-04-05 16:00:04 UTC', '3582', '29', '39', '76', 'nan', '0'],\n",
       " ['2018-04-05 16:00:04 UTC', '3583', '29', '39', '76', 'nan', '0'],\n",
       " ['2018-04-05 16:00:04 UTC', '3584', '29', '39', '76', 'nan', '0'],\n",
       " ['2018-04-05 16:00:04 UTC', '3585', '29', '39', '76', 'nan', '0'],\n",
       " ['2018-04-05 16:00:04 UTC', '3586', '29', '39', '76', 'nan', '0'],\n",
       " ['2018-04-05 16:00:04 UTC', '3587', '29', '39', '76', 'nan', '0'],\n",
       " ['2018-04-05 16:00:04 UTC', '3588', '29', '39', '76', 'nan', '0'],\n",
       " ['2018-04-05 16:00:04 UTC', '3589', '29', '39', '76', 'nan', '0'],\n",
       " ['2018-04-05 16:00:04 UTC', '3590', '29', '39', '76', 'nan', '0'],\n",
       " ['2018-04-05 16:00:04 UTC', '3591', '29', '39', '76', 'nan', '0'],\n",
       " ['2018-04-05 16:00:04 UTC', '3592', '29', '39', '76', 'nan', '0'],\n",
       " ['2018-04-05 16:00:04 UTC', '3593', '29', '39', '76', 'nan', '0'],\n",
       " ['2018-04-05 16:00:04 UTC', '3594', '29', '39', '76', 'nan', '0'],\n",
       " ['2018-04-05 16:00:04 UTC', '3595', '29', '39', '76', 'nan', '0'],\n",
       " ['2018-04-05 16:00:04 UTC', '3596', '29', '39', '76', 'nan', '0'],\n",
       " ['2018-04-05 16:00:04 UTC', '3597', '29', '39', '76', 'nan', '0'],\n",
       " ['2018-04-05 16:00:04 UTC', '3598', '29', '39', '76', 'nan', '0'],\n",
       " ['2018-04-05 16:00:04 UTC', '3599', '29', '39', '76', 'nan', '0'],\n",
       " ['2018-04-05 16:00:04 UTC', '3600', '29', '39', '76', 'nan', '0'],\n",
       " ['2018-04-05 16:00:04 UTC', '3601', '29', '39', '76', 'nan', '0'],\n",
       " ['2018-04-05 16:00:04 UTC', '3602', '29', '39', '76', 'nan', '0'],\n",
       " ['2018-04-05 16:00:04 UTC', '3603', '29', '39', '76', 'nan', '0'],\n",
       " ['2018-04-05 16:00:04 UTC', '3604', '29', '39', '76', 'nan', '0'],\n",
       " ['2018-04-05 16:00:04 UTC', '3605', '29', '39', '76', 'nan', '0'],\n",
       " ['2018-04-05 16:00:04 UTC', '3606', '29', '39', '76', 'nan', '0'],\n",
       " ['2018-04-05 16:00:04 UTC', '3607', '29', '39', '76', 'nan', '0'],\n",
       " ['2018-04-05 16:00:04 UTC', '3608', '29', '39', '76', 'nan', '0'],\n",
       " ['2018-04-05 16:00:04 UTC', '3609', '29', '39', '76', 'nan', '0'],\n",
       " ['2018-04-05 16:00:04 UTC', '3610', '29', '39', '76', 'nan', '0'],\n",
       " ['2018-04-05 16:00:04 UTC', '3611', '29', '39', '76', 'nan', '0'],\n",
       " ['2018-04-05 16:00:04 UTC', '3612', '29', '39', '76', 'nan', '0'],\n",
       " ['2018-04-05 16:00:04 UTC', '3613', '29', '40', '76', 'nan', '0'],\n",
       " ['2018-04-05 16:00:04 UTC', '3614', '29', '40', '76', 'nan', '0'],\n",
       " ['2018-04-05 16:00:04 UTC', '3615', '29', '40', '76', 'nan', '0'],\n",
       " ['2018-04-05 16:00:04 UTC', '3616', '29', '40', '76', 'nan', '0'],\n",
       " ['2018-04-05 16:00:04 UTC', '3617', '29', '40', '76', 'nan', '0'],\n",
       " ['2018-04-05 16:00:04 UTC', '3618', '29', '40', '76', 'nan', '0'],\n",
       " ['2018-04-05 16:00:04 UTC', '3619', '29', '40', '76', 'nan', '0'],\n",
       " ['2018-04-05 16:00:04 UTC', '3620', '29', '40', '76', 'nan', '0'],\n",
       " ['2018-04-05 16:00:04 UTC', '3621', '29', '40', '76', 'nan', '0'],\n",
       " ['2018-04-05 16:00:04 UTC', '3622', '29', '40', '76', 'nan', '0'],\n",
       " ['2018-04-05 16:00:04 UTC', '3623', '29', '40', '76', 'nan', '0'],\n",
       " ['2018-04-05 16:00:04 UTC', '3624', '29', '40', '76', 'nan', '0'],\n",
       " ['2018-04-05 16:00:04 UTC', '3625', '29', '40', '76', 'nan', '0'],\n",
       " ['2018-04-05 16:00:04 UTC', '3626', '29', '40', '76', 'nan', '0'],\n",
       " ['2018-04-05 16:00:04 UTC', '3627', '29', '40', '76', 'nan', '0'],\n",
       " ['2018-04-05 16:00:04 UTC', '3628', '29', '40', '76', 'nan', '0'],\n",
       " ['2018-04-05 16:00:04 UTC', '3629', '29', '40', '76', 'nan', '0'],\n",
       " ['2018-04-05 16:00:04 UTC', '3630', '29', '40', '76', 'nan', '0'],\n",
       " ['2018-04-05 16:00:04 UTC', '3631', '29', '40', '76', 'nan', '0'],\n",
       " ['2018-04-05 16:00:04 UTC', '3632', '29', '40', '76', 'nan', '0'],\n",
       " ['2018-04-05 16:00:04 UTC', '3633', '29', '40', '76', 'nan', '0'],\n",
       " ['2018-04-05 16:00:04 UTC', '3634', '29', '40', '76', 'nan', '0'],\n",
       " ['2018-04-05 16:00:04 UTC', '3635', '29', '40', '76', 'nan', '0'],\n",
       " ['2018-04-05 16:00:04 UTC', '3636', '29', '40', '76', 'nan', '0'],\n",
       " ['2018-04-05 16:00:04 UTC', '3637', '29', '40', '76', 'nan', '0'],\n",
       " ['2018-04-05 16:00:04 UTC', '3638', '29', '40', '76', 'nan', '0'],\n",
       " ['2018-04-05 16:00:04 UTC', '3639', '29', '40', '76', 'nan', '0'],\n",
       " ['2018-04-05 16:00:04 UTC', '3640', '29', '40', '76', 'nan', '0'],\n",
       " ['2018-04-05 16:00:04 UTC', '3641', '29', '40', '76', 'nan', '0'],\n",
       " ['2018-04-05 16:00:04 UTC', '3642', '29', '40', '76', 'nan', '0'],\n",
       " ['2018-04-05 16:00:04 UTC', '3643', '29', '40', '76', 'nan', '0'],\n",
       " ['2018-04-05 16:00:04 UTC', '3644', '29', '40', '76', 'nan', '0'],\n",
       " ['2018-04-05 16:00:04 UTC', '3645', '29', '40', '76', 'nan', '0'],\n",
       " ['2018-04-05 16:00:04 UTC', '3646', '29', '40', '76', 'nan', '0'],\n",
       " ['2018-04-05 16:00:04 UTC', '3647', '29', '40', '76', 'nan', '0'],\n",
       " ['2018-04-05 16:00:04 UTC', '3648', '29', '40', '76', 'nan', '0'],\n",
       " ['2018-04-05 16:00:04 UTC', '3649', '29', '40', '76', 'nan', '0'],\n",
       " ['2018-04-05 16:00:04 UTC', '3650', '29', '40', '76', 'nan', '0'],\n",
       " ['2018-04-05 16:00:04 UTC', '3651', '29', '40', '76', 'nan', '0'],\n",
       " ['2018-04-05 16:00:04 UTC', '3652', '29', '40', '76', 'nan', '0'],\n",
       " ['2018-04-05 16:00:04 UTC', '3653', '29', '40', '76', 'nan', '0'],\n",
       " ['2018-04-05 16:00:04 UTC', '3654', '29', '40', '76', 'nan', '0'],\n",
       " ['2018-04-05 16:00:04 UTC', '3655', '29', '40', '76', 'nan', '0'],\n",
       " ['2018-04-05 16:00:04 UTC', '3656', '29', '40', '76', 'nan', '0'],\n",
       " ['2018-04-05 16:00:04 UTC', '3657', '29', '40', '76', 'nan', '0'],\n",
       " ['2018-04-05 16:00:04 UTC', '3658', '29', '40', '76', 'nan', '0'],\n",
       " ['2018-04-05 16:00:04 UTC', '3659', '29', '40', '76', 'nan', '0'],\n",
       " ['2018-04-05 16:00:04 UTC', '3660', '29', '40', '76', 'nan', '0'],\n",
       " ['2018-04-05 16:00:04 UTC', '3661', '29', '40', '76', 'nan', '0'],\n",
       " ['2018-04-05 16:00:04 UTC', '3662', '29', '40', '76', 'nan', '0'],\n",
       " ['2018-04-05 16:00:04 UTC', '3663', '29', '40', '76', 'nan', '0'],\n",
       " ['2018-04-05 16:00:04 UTC', '3664', '29', '40', '76', 'nan', '0'],\n",
       " ['2018-04-05 16:00:04 UTC', '3665', '29', '40', '76', 'nan', '0'],\n",
       " ['2018-04-05 16:00:04 UTC', '3666', '29', '40', '76', 'nan', '0'],\n",
       " ['2018-04-05 16:00:04 UTC', '3667', '29', '40', '76', 'nan', '0'],\n",
       " ['2018-04-05 16:00:04 UTC', '3668', '29', '40', '76', 'nan', '0'],\n",
       " ['2018-04-05 16:00:04 UTC', '3669', '29', '40', '76', 'nan', '0'],\n",
       " ['2018-04-05 16:00:04 UTC', '3670', '29', '40', '76', 'nan', '0'],\n",
       " ['2018-04-05 16:00:04 UTC', '3671', '29', '40', '76', 'nan', '0'],\n",
       " ['2018-04-05 16:00:04 UTC', '3672', '29', '40', '76', 'nan', '0'],\n",
       " ['2018-04-05 16:00:04 UTC', '3673', '29', '40', '76', 'nan', '0'],\n",
       " ...]"
      ]
     },
     "execution_count": 106,
     "metadata": {},
     "output_type": "execute_result"
    }
   ],
   "source": [
    "transactions"
   ]
  },
  {
   "cell_type": "code",
   "execution_count": 107,
   "metadata": {},
   "outputs": [],
   "source": [
    "from apyori import apriori\n",
    "rules=apriori(transactions,min_support=0.1, min_confidence=1.0,min_lift=3, min_length=2)"
   ]
  },
  {
   "cell_type": "code",
   "execution_count": 108,
   "metadata": {},
   "outputs": [],
   "source": [
    "#visualising results\n",
    "results=list(rules)"
   ]
  },
  {
   "cell_type": "code",
   "execution_count": 109,
   "metadata": {},
   "outputs": [
    {
     "data": {
      "text/plain": [
       "[RelationRecord(items=frozenset({'78', '32', '0'}), support=0.14589041095890412, ordered_statistics=[OrderedStatistic(items_base=frozenset({'32', '0'}), items_add=frozenset({'78'}), confidence=1.0, lift=6.854460093896713)]),\n",
       " RelationRecord(items=frozenset({'78', '32', '2018-04-05 16:00:04 UTC', '0'}), support=0.14589041095890412, ordered_statistics=[OrderedStatistic(items_base=frozenset({'32', '2018-04-05 16:00:04 UTC', '0'}), items_add=frozenset({'78'}), confidence=1.0, lift=6.854460093896713)]),\n",
       " RelationRecord(items=frozenset({'78', '40', '32', '0'}), support=0.14589041095890412, ordered_statistics=[OrderedStatistic(items_base=frozenset({'40', '32', '0'}), items_add=frozenset({'78'}), confidence=1.0, lift=6.854460093896713)]),\n",
       " RelationRecord(items=frozenset({'78', '32', 'nan', '0'}), support=0.14589041095890412, ordered_statistics=[OrderedStatistic(items_base=frozenset({'32', 'nan', '0'}), items_add=frozenset({'78'}), confidence=1.0, lift=6.854460093896713)]),\n",
       " RelationRecord(items=frozenset({'40', '2018-04-05 16:00:04 UTC', '0', '78', '32'}), support=0.14589041095890412, ordered_statistics=[OrderedStatistic(items_base=frozenset({'40', '32', '2018-04-05 16:00:04 UTC', '0'}), items_add=frozenset({'78'}), confidence=1.0, lift=6.854460093896713)]),\n",
       " RelationRecord(items=frozenset({'2018-04-05 16:00:04 UTC', '0', '78', 'nan', '32'}), support=0.14589041095890412, ordered_statistics=[OrderedStatistic(items_base=frozenset({'32', 'nan', '2018-04-05 16:00:04 UTC', '0'}), items_add=frozenset({'78'}), confidence=1.0, lift=6.854460093896713)]),\n",
       " RelationRecord(items=frozenset({'40', '0', '78', 'nan', '32'}), support=0.14589041095890412, ordered_statistics=[OrderedStatistic(items_base=frozenset({'40', '32', 'nan', '0'}), items_add=frozenset({'78'}), confidence=1.0, lift=6.854460093896713)]),\n",
       " RelationRecord(items=frozenset({'40', '2018-04-05 16:00:04 UTC', '0', '78', 'nan', '32'}), support=0.14589041095890412, ordered_statistics=[OrderedStatistic(items_base=frozenset({'40', '2018-04-05 16:00:04 UTC', '0', 'nan', '32'}), items_add=frozenset({'78'}), confidence=1.0, lift=6.854460093896713)])]"
      ]
     },
     "execution_count": 109,
     "metadata": {},
     "output_type": "execute_result"
    }
   ],
   "source": [
    "results"
   ]
  },
  {
   "cell_type": "code",
   "execution_count": null,
   "metadata": {},
   "outputs": [],
   "source": []
  },
  {
   "cell_type": "markdown",
   "metadata": {},
   "source": [
    "#  BY:NIKHIL KUMAR GIVALLA (15311A12K3)\n"
   ]
  },
  {
   "cell_type": "code",
   "execution_count": null,
   "metadata": {},
   "outputs": [],
   "source": []
  }
 ],
 "metadata": {
  "kernelspec": {
   "display_name": "Python 3",
   "language": "python",
   "name": "python3"
  },
  "language_info": {
   "codemirror_mode": {
    "name": "ipython",
    "version": 3
   },
   "file_extension": ".py",
   "mimetype": "text/x-python",
   "name": "python",
   "nbconvert_exporter": "python",
   "pygments_lexer": "ipython3",
   "version": "3.6.4"
  }
 },
 "nbformat": 4,
 "nbformat_minor": 2
}
